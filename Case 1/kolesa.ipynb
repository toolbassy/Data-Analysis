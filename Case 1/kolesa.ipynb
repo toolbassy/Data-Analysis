{
 "cells": [
  {
   "cell_type": "markdown",
   "metadata": {},
   "source": [
    "# Class 5: Regression Analysis\n",
    "\n",
    "<hr>\n",
    "\n",
    "## Table of Contents\n",
    "\n",
    "* [1 Exploratary Data Analysis](#chapter1)\n",
    "    * [1.1 Data Understanding](#section_1_1)\n",
    "    * [1.2 Data Collection ](#section_1_2)\n",
    "* [2 Data Preparation](#chapter2)\n",
    "    * [2.1 Data Cleaning](#section_2_1)\n",
    "    * [2.2 Data Statistics](#section_2_2)\n",
    "* [3 Data Visualization](#chapter3)\n",
    "    * [3.1 Univariate Visualizations](#section_3_1)\n",
    "    * [3.2 Data Relationships](#section_3_2)\n",
    "* [4 Training the Model](#chapter4)\n",
    "    * [4.1 Linear Regression](#section_4_1)\n",
    "    * [4.2 Multiple Linear Regression](#section_4_2)\n",
    "    * [4.3 Linear Regression using statsmodels](#section_4_3)\n",
    "* [5 Model Evaluation with Visualizations](#chapter5)\n",
    "    * [5.1 Regression Plot](#section_5_1)\n",
    "    * [5.2 Residual Plot](#section_5_2)\n",
    "    * [5.3 Distribution Plot](#section_5_3)\n",
    "    \n",
    "---\n",
    "\n",
    "## 0 About the Dataset\n",
    "\n",
    "The dataset is parsed data from the website which contains all of the ads of light vehicles for 7 major cities of Kazakhstan in June month of 2020. It containt over 55k ads across 10 variables such as car brand, price, year of manufacturing, engine size, color, wheel placement, transmission, type of base, and the link to original ad (might not be actual).\n"
   ]
  },
  {
   "cell_type": "markdown",
   "metadata": {},
   "source": [
    "## 1 Exploratory Data Analysis <a class=\"anchor\" id=\"chapter1\"></a>\n",
    "\n",
    "### 1.1 Data Understanding <a class=\"anchor\" id=\"section_1_1\"></a>\n",
    "\n",
    "Originally this data was collected for the purpose of comparing how the car sales market changed prior to quarantine and after quarantine has been introduced. In this case we will look at the data that has been collected during quarantine and we’ll predict what affects the price of a car.\n",
    "\n",
    "**Exhibit 1: Variable Description** <a class=\"anchor\" id=\"exhibit1\"></a>\n",
    "* **car** - vehicle brand and model\n",
    "* **price** - listed price of a vehicle\n",
    "* **city** - city in Kazakhstan where vehicle is advertised\n",
    "* **year** - year of manufacture\n",
    "* **base** - base shape (sedan, minivan, offroad, etc.)\n",
    "* **engine** - engine volume in liters\n",
    "* **gas** - type of fuel vehicle runs on (benzine, gas, gas-benzine, electrical, etc.)\n",
    "* **transmission** - type of transmission\n",
    "* **wheel** - steering wheel position (left, right\n",
    "* **color** - color of the vahicle\n",
    "* **url** - url to original ad (may be outdated)\n",
    "\n",
    "We can classify the various data columns into numerical/categorical attributes:\n",
    "1. Numerical Attributes: price, year, engine\n",
    "2. Categorical Attributes: car, city, base, gas, transmission, wheel, color\n",
    "\n",
    "<hr>"
   ]
  },
  {
   "cell_type": "markdown",
   "metadata": {},
   "source": [
    "### 1.2 Data Collection  <a class=\"anchor\" id=\"section_1_2\"></a>\n",
    "In this particular case this step has been already been done. The data was parsed from web pages of advertisements from 7 major cities (regional centers) of Kazakhstan. The data for each city is on different file, however, and we want to have them them all standartized and merged into a single CSV file. \n",
    "\n",
    "#### Read multiple files into a list of dataframes\n",
    "There several mothods of reading multiple files. Here, we will use `glob` library preliminarily making sure the file names are consistent. "
   ]
  },
  {
   "cell_type": "code",
   "execution_count": 14,
   "metadata": {
    "scrolled": true
   },
   "outputs": [
    {
     "name": "stdout",
     "output_type": "stream",
     "text": [
      "7  files have been loaded\n"
     ]
    }
   ],
   "source": [
    "import pandas as pd\n",
    "import numpy as np\n",
    "from glob import glob\n",
    "\n",
    "filenames = glob('*COVID-19_clean.csv')\n",
    "dataframes = [pd.read_csv(f, sep=';') for f in filenames]\n",
    "\n",
    "print(len(dataframes), \" files have been loaded\")"
   ]
  },
  {
   "cell_type": "markdown",
   "metadata": {},
   "source": [
    "#### Join dataframes in list (data from 7 cities)\n",
    "To be able to join vertically the file structures must be identical. This can be verified by opening and exploring each file. Excel is more convininet here.\n",
    "\n",
    "Then perform vertical concatenation and set `ignore_index` parameter to `True` so that the resulting axis will be labeled `0, …, n - 1`."
   ]
  },
  {
   "cell_type": "code",
   "execution_count": 15,
   "metadata": {},
   "outputs": [
    {
     "data": {
      "text/html": [
       "<div>\n",
       "<style scoped>\n",
       "    .dataframe tbody tr th:only-of-type {\n",
       "        vertical-align: middle;\n",
       "    }\n",
       "\n",
       "    .dataframe tbody tr th {\n",
       "        vertical-align: top;\n",
       "    }\n",
       "\n",
       "    .dataframe thead th {\n",
       "        text-align: right;\n",
       "    }\n",
       "</style>\n",
       "<table border=\"1\" class=\"dataframe\">\n",
       "  <thead>\n",
       "    <tr style=\"text-align: right;\">\n",
       "      <th></th>\n",
       "      <th>car</th>\n",
       "      <th>price</th>\n",
       "      <th>city</th>\n",
       "      <th>year</th>\n",
       "      <th>base</th>\n",
       "      <th>engine</th>\n",
       "      <th>gas</th>\n",
       "      <th>transmission</th>\n",
       "      <th>wheel</th>\n",
       "      <th>color</th>\n",
       "      <th>url</th>\n",
       "    </tr>\n",
       "  </thead>\n",
       "  <tbody>\n",
       "    <tr>\n",
       "      <th>0</th>\n",
       "      <td>Volkswagen Passat</td>\n",
       "      <td>3 600 000</td>\n",
       "      <td>Актобе</td>\n",
       "      <td>2009</td>\n",
       "      <td>седан</td>\n",
       "      <td>2.0</td>\n",
       "      <td>бензин</td>\n",
       "      <td>КПП автомат</td>\n",
       "      <td>левый руль</td>\n",
       "      <td>серый</td>\n",
       "      <td>https://kolesa.kz//a/show/105704616</td>\n",
       "    </tr>\n",
       "    <tr>\n",
       "      <th>1</th>\n",
       "      <td>Land Rover Range Rover Sport</td>\n",
       "      <td>12 000 000</td>\n",
       "      <td>Актобе</td>\n",
       "      <td>2011</td>\n",
       "      <td>внедорожник</td>\n",
       "      <td>5.0</td>\n",
       "      <td>бензин</td>\n",
       "      <td>КПП автомат</td>\n",
       "      <td>левый руль</td>\n",
       "      <td>черный</td>\n",
       "      <td>https://kolesa.kz//a/show/97067436</td>\n",
       "    </tr>\n",
       "    <tr>\n",
       "      <th>2</th>\n",
       "      <td>Hyundai Accent</td>\n",
       "      <td>4 700 000</td>\n",
       "      <td>Актобе</td>\n",
       "      <td>2014</td>\n",
       "      <td>хэтчбек</td>\n",
       "      <td>1.6</td>\n",
       "      <td>газ-бензин</td>\n",
       "      <td>КПП типтроник</td>\n",
       "      <td>левый руль</td>\n",
       "      <td>белый</td>\n",
       "      <td>https://kolesa.kz//a/show/105254082</td>\n",
       "    </tr>\n",
       "    <tr>\n",
       "      <th>3</th>\n",
       "      <td>Infiniti QX80</td>\n",
       "      <td>27 999 000</td>\n",
       "      <td>Актобе</td>\n",
       "      <td>2019</td>\n",
       "      <td>внедорожник</td>\n",
       "      <td>5.6</td>\n",
       "      <td>бензин</td>\n",
       "      <td>КПП автомат</td>\n",
       "      <td>левый руль</td>\n",
       "      <td>белый</td>\n",
       "      <td>https://kolesa.kz//a/show/104433343</td>\n",
       "    </tr>\n",
       "    <tr>\n",
       "      <th>4</th>\n",
       "      <td>Kia Sorento</td>\n",
       "      <td>2 800 000</td>\n",
       "      <td>Актобе</td>\n",
       "      <td>2004</td>\n",
       "      <td>внедорожник</td>\n",
       "      <td>2.5</td>\n",
       "      <td>дизель</td>\n",
       "      <td>КПП автомат</td>\n",
       "      <td>левый руль</td>\n",
       "      <td>серебристый</td>\n",
       "      <td>https://kolesa.kz//a/show/105659979</td>\n",
       "    </tr>\n",
       "  </tbody>\n",
       "</table>\n",
       "</div>"
      ],
      "text/plain": [
       "                            car       price    city  year          base  \\\n",
       "0             Volkswagen Passat   3 600 000  Актобе  2009         седан   \n",
       "1  Land Rover Range Rover Sport  12 000 000  Актобе  2011   внедорожник   \n",
       "2                Hyundai Accent   4 700 000  Актобе  2014       хэтчбек   \n",
       "3                 Infiniti QX80  27 999 000  Актобе  2019   внедорожник   \n",
       "4                   Kia Sorento   2 800 000  Актобе  2004   внедорожник   \n",
       "\n",
       "   engine          gas    transmission       wheel         color  \\\n",
       "0     2.0       бензин     КПП автомат  левый руль         серый   \n",
       "1     5.0       бензин     КПП автомат  левый руль        черный   \n",
       "2     1.6   газ-бензин   КПП типтроник  левый руль         белый   \n",
       "3     5.6       бензин     КПП автомат  левый руль         белый   \n",
       "4     2.5       дизель     КПП автомат  левый руль   серебристый   \n",
       "\n",
       "                                   url  \n",
       "0  https://kolesa.kz//a/show/105704616  \n",
       "1   https://kolesa.kz//a/show/97067436  \n",
       "2  https://kolesa.kz//a/show/105254082  \n",
       "3  https://kolesa.kz//a/show/104433343  \n",
       "4  https://kolesa.kz//a/show/105659979  "
      ]
     },
     "execution_count": 15,
     "metadata": {},
     "output_type": "execute_result"
    }
   ],
   "source": [
    "data = pd.concat(dataframes, ignore_index=True)\n",
    "data.head()"
   ]
  },
  {
   "cell_type": "code",
   "execution_count": 16,
   "metadata": {},
   "outputs": [
    {
     "name": "stdout",
     "output_type": "stream",
     "text": [
      "There are 55977 rows, and 11 columns in the dataset.\n"
     ]
    }
   ],
   "source": [
    "print(\"There are\", data.shape[0], \"rows, and\", data.shape[1], \"columns in the dataset.\")"
   ]
  },
  {
   "cell_type": "markdown",
   "metadata": {},
   "source": [
    "<hr>\n",
    "\n",
    "## 2 Data Preparation <a class=\"anchor\" id=\"chapter2\"></a>\n",
    "\n",
    "Now you can perform the steps to clean the data.\n",
    "\n",
    "### 2.1 Data Cleaning <a class=\"anchor\" id=\"section_2_1\"></a>\n",
    "\n",
    "Since we are merging multiple files it is a good idea to verify each column for data consistency and range of values. \n",
    "\n",
    "**Common data problems**\n",
    "* Data type constraints: `price` and `engine` are not numeric, we will convert using `pd.numeric()`\n",
    "* There more problems with `engine` column. Since it contains data from several files, it has values of different type (numeric and text). At some rows, the values are with units (\"3 л\"), in other places it just says \"электрич\" for electric engines. Such inconsistencies are better handled in Excel if dataset size permits (which I did).\n",
    "* `url` column is of no use for analysis, we will drop it.\n",
    "* `price`s are represented with thousand separators, we will remove the spaces and convert the columns into continuous number.\n",
    "\n",
    "**Text and categorical data problems**\n",
    "* Quick check of values of each column revealed that there are leading spaces on columns `wheel`, `base`, `gas`, `transmission`, `color`. \n",
    "* Using the `unique()` function we check categorical columns if the values has any inconsistencies. This step better to be done after `strip`ping the columns of leading and trailing spaces.\n",
    "* Split the `car` column into two separate columns: `brand` and `model`. This way we can leverage brand information in our model.\n",
    "* The wheel column has only two possible values: `левый руль` and `правый руль`. Let's represent it as 0 and 1 respectively. Note: some files represented `левый руль` (default) as an empty space or NaN.\n"
   ]
  },
  {
   "cell_type": "code",
   "execution_count": 17,
   "metadata": {},
   "outputs": [
    {
     "data": {
      "text/plain": [
       "car              object\n",
       "price             int64\n",
       "city             object\n",
       "year              int64\n",
       "base             object\n",
       "engine          float64\n",
       "gas              object\n",
       "transmission     object\n",
       "wheel             int64\n",
       "color            object\n",
       "dtype: object"
      ]
     },
     "execution_count": 17,
     "metadata": {},
     "output_type": "execute_result"
    }
   ],
   "source": [
    "# Drop the url as it is of no use.\n",
    "data.drop('url', axis = 1, inplace = True)\n",
    "\n",
    "# Strip off empty spaces and convert to numeric\n",
    "data.price = data.price.astype(str).str.replace(' ', '')\n",
    "\n",
    "# Convert columns \"price\" and \"engine\"\n",
    "data[['price', 'engine']] = data[['price', 'engine']].apply(pd.to_numeric)\n",
    "\n",
    "# To remove space from the beginning of a string (leading spaces)\n",
    "cols =  ['base', 'gas', 'transmission',  'wheel',  'color']\n",
    "for col in cols:\n",
    "    data[col] = data[col].str.lstrip()\n",
    "\n",
    "# Transform wheel column to binary numeric\n",
    "data.wheel.replace(['левый руль', \"\", np.nan, 'правый руль'], [0, 0, 0, 1],  inplace=True)\n",
    "data.rename(columns = {'wheel':'wheel_right'})\n",
    "\n",
    "data.dtypes"
   ]
  },
  {
   "cell_type": "code",
   "execution_count": 18,
   "metadata": {},
   "outputs": [
    {
     "data": {
      "text/html": [
       "<div>\n",
       "<style scoped>\n",
       "    .dataframe tbody tr th:only-of-type {\n",
       "        vertical-align: middle;\n",
       "    }\n",
       "\n",
       "    .dataframe tbody tr th {\n",
       "        vertical-align: top;\n",
       "    }\n",
       "\n",
       "    .dataframe thead th {\n",
       "        text-align: right;\n",
       "    }\n",
       "</style>\n",
       "<table border=\"1\" class=\"dataframe\">\n",
       "  <thead>\n",
       "    <tr style=\"text-align: right;\">\n",
       "      <th></th>\n",
       "      <th>car</th>\n",
       "      <th>price</th>\n",
       "      <th>city</th>\n",
       "      <th>year</th>\n",
       "      <th>base</th>\n",
       "      <th>engine</th>\n",
       "      <th>gas</th>\n",
       "      <th>transmission</th>\n",
       "      <th>wheel</th>\n",
       "      <th>color</th>\n",
       "    </tr>\n",
       "  </thead>\n",
       "  <tbody>\n",
       "    <tr>\n",
       "      <th>0</th>\n",
       "      <td>Volkswagen Passat</td>\n",
       "      <td>3600000</td>\n",
       "      <td>Актобе</td>\n",
       "      <td>2009</td>\n",
       "      <td>седан</td>\n",
       "      <td>2.0</td>\n",
       "      <td>бензин</td>\n",
       "      <td>КПП автомат</td>\n",
       "      <td>0</td>\n",
       "      <td>серый</td>\n",
       "    </tr>\n",
       "    <tr>\n",
       "      <th>1</th>\n",
       "      <td>Land Rover Range Rover Sport</td>\n",
       "      <td>12000000</td>\n",
       "      <td>Актобе</td>\n",
       "      <td>2011</td>\n",
       "      <td>внедорожник</td>\n",
       "      <td>5.0</td>\n",
       "      <td>бензин</td>\n",
       "      <td>КПП автомат</td>\n",
       "      <td>0</td>\n",
       "      <td>черный</td>\n",
       "    </tr>\n",
       "    <tr>\n",
       "      <th>2</th>\n",
       "      <td>Hyundai Accent</td>\n",
       "      <td>4700000</td>\n",
       "      <td>Актобе</td>\n",
       "      <td>2014</td>\n",
       "      <td>хэтчбек</td>\n",
       "      <td>1.6</td>\n",
       "      <td>газ-бензин</td>\n",
       "      <td>КПП типтроник</td>\n",
       "      <td>0</td>\n",
       "      <td>белый</td>\n",
       "    </tr>\n",
       "    <tr>\n",
       "      <th>3</th>\n",
       "      <td>Infiniti QX80</td>\n",
       "      <td>27999000</td>\n",
       "      <td>Актобе</td>\n",
       "      <td>2019</td>\n",
       "      <td>внедорожник</td>\n",
       "      <td>5.6</td>\n",
       "      <td>бензин</td>\n",
       "      <td>КПП автомат</td>\n",
       "      <td>0</td>\n",
       "      <td>белый</td>\n",
       "    </tr>\n",
       "    <tr>\n",
       "      <th>4</th>\n",
       "      <td>Kia Sorento</td>\n",
       "      <td>2800000</td>\n",
       "      <td>Актобе</td>\n",
       "      <td>2004</td>\n",
       "      <td>внедорожник</td>\n",
       "      <td>2.5</td>\n",
       "      <td>дизель</td>\n",
       "      <td>КПП автомат</td>\n",
       "      <td>0</td>\n",
       "      <td>серебристый</td>\n",
       "    </tr>\n",
       "  </tbody>\n",
       "</table>\n",
       "</div>"
      ],
      "text/plain": [
       "                            car     price    city  year         base  engine  \\\n",
       "0             Volkswagen Passat   3600000  Актобе  2009        седан     2.0   \n",
       "1  Land Rover Range Rover Sport  12000000  Актобе  2011  внедорожник     5.0   \n",
       "2                Hyundai Accent   4700000  Актобе  2014      хэтчбек     1.6   \n",
       "3                 Infiniti QX80  27999000  Актобе  2019  внедорожник     5.6   \n",
       "4                   Kia Sorento   2800000  Актобе  2004  внедорожник     2.5   \n",
       "\n",
       "          gas   transmission  wheel        color  \n",
       "0      бензин    КПП автомат      0        серый  \n",
       "1      бензин    КПП автомат      0       черный  \n",
       "2  газ-бензин  КПП типтроник      0        белый  \n",
       "3      бензин    КПП автомат      0        белый  \n",
       "4      дизель    КПП автомат      0  серебристый  "
      ]
     },
     "execution_count": 18,
     "metadata": {},
     "output_type": "execute_result"
    }
   ],
   "source": [
    "data.head()"
   ]
  },
  {
   "cell_type": "markdown",
   "metadata": {},
   "source": [
    "There are a few other things we need to check for data quality:\n",
    "* Missing Values: Some ads do not fill certain information about the vehicle. We can deal with such missing values by either dropping them if they are not too many, imputing with average where appropriate, or in this particular case we find fill that information from variety of sources.\n",
    "* Outliers: Some cars may have very high prices despite their general characteristics (special tuning, rare model, retro, etc.) Trainig your model with such values may give wrong results. It is a good practice to remove these outliers.\n",
    "* Duplicate data: There may be some ads that are listed in several cities. We should drop the duplicate data, as it could lead to overfitting."
   ]
  },
  {
   "cell_type": "code",
   "execution_count": 26,
   "metadata": {},
   "outputs": [
    {
     "data": {
      "text/plain": [
       "car             0\n",
       "price           0\n",
       "city            0\n",
       "year            0\n",
       "base            0\n",
       "engine          0\n",
       "gas             0\n",
       "transmission    0\n",
       "wheel           0\n",
       "color           0\n",
       "dtype: int64"
      ]
     },
     "execution_count": 26,
     "metadata": {},
     "output_type": "execute_result"
    }
   ],
   "source": [
    "# Checking the missing values\n",
    "data.isnull().sum()"
   ]
  },
  {
   "cell_type": "code",
   "execution_count": 22,
   "metadata": {},
   "outputs": [
    {
     "data": {
      "text/html": [
       "<div>\n",
       "<style scoped>\n",
       "    .dataframe tbody tr th:only-of-type {\n",
       "        vertical-align: middle;\n",
       "    }\n",
       "\n",
       "    .dataframe tbody tr th {\n",
       "        vertical-align: top;\n",
       "    }\n",
       "\n",
       "    .dataframe thead th {\n",
       "        text-align: right;\n",
       "    }\n",
       "</style>\n",
       "<table border=\"1\" class=\"dataframe\">\n",
       "  <thead>\n",
       "    <tr style=\"text-align: right;\">\n",
       "      <th></th>\n",
       "      <th>car</th>\n",
       "      <th>price</th>\n",
       "      <th>city</th>\n",
       "      <th>year</th>\n",
       "      <th>base</th>\n",
       "      <th>engine</th>\n",
       "      <th>gas</th>\n",
       "      <th>transmission</th>\n",
       "      <th>wheel</th>\n",
       "      <th>color</th>\n",
       "    </tr>\n",
       "  </thead>\n",
       "  <tbody>\n",
       "    <tr>\n",
       "      <th>3212</th>\n",
       "      <td>Mitsubishi Galant</td>\n",
       "      <td>800000</td>\n",
       "      <td>Актобе</td>\n",
       "      <td>1996</td>\n",
       "      <td>седан</td>\n",
       "      <td>NaN</td>\n",
       "      <td>газ-бензин</td>\n",
       "      <td>КПП механика</td>\n",
       "      <td>0</td>\n",
       "      <td>зеленый</td>\n",
       "    </tr>\n",
       "    <tr>\n",
       "      <th>7749</th>\n",
       "      <td>Nissan Juke</td>\n",
       "      <td>4950000</td>\n",
       "      <td>Алматы</td>\n",
       "      <td>2013</td>\n",
       "      <td>седан</td>\n",
       "      <td>NaN</td>\n",
       "      <td>NaN</td>\n",
       "      <td>КПП автомат</td>\n",
       "      <td>0</td>\n",
       "      <td>нет цвета</td>\n",
       "    </tr>\n",
       "    <tr>\n",
       "      <th>7835</th>\n",
       "      <td>Daewoo Nexia</td>\n",
       "      <td>1790000</td>\n",
       "      <td>Алматы</td>\n",
       "      <td>2013</td>\n",
       "      <td>седан</td>\n",
       "      <td>NaN</td>\n",
       "      <td>NaN</td>\n",
       "      <td>КПП механика</td>\n",
       "      <td>0</td>\n",
       "      <td>нет цвета</td>\n",
       "    </tr>\n",
       "    <tr>\n",
       "      <th>11897</th>\n",
       "      <td>Toyota RAV 4</td>\n",
       "      <td>2000000</td>\n",
       "      <td>Алматы</td>\n",
       "      <td>1995</td>\n",
       "      <td>кроссовер</td>\n",
       "      <td>NaN</td>\n",
       "      <td>NaN</td>\n",
       "      <td>КПП автомат</td>\n",
       "      <td>1</td>\n",
       "      <td>черный</td>\n",
       "    </tr>\n",
       "    <tr>\n",
       "      <th>12459</th>\n",
       "      <td>Jaguar I-Pace</td>\n",
       "      <td>38000000</td>\n",
       "      <td>Алматы</td>\n",
       "      <td>2019</td>\n",
       "      <td>кроссовер</td>\n",
       "      <td>NaN</td>\n",
       "      <td>NaN</td>\n",
       "      <td>КПП вариатор</td>\n",
       "      <td>0</td>\n",
       "      <td>нет цвета</td>\n",
       "    </tr>\n",
       "    <tr>\n",
       "      <th>14741</th>\n",
       "      <td>Jaguar I-Pace</td>\n",
       "      <td>50208000</td>\n",
       "      <td>Алматы</td>\n",
       "      <td>2019</td>\n",
       "      <td>кроссовер</td>\n",
       "      <td>NaN</td>\n",
       "      <td>NaN</td>\n",
       "      <td>КПП вариатор</td>\n",
       "      <td>0</td>\n",
       "      <td>нет цвета</td>\n",
       "    </tr>\n",
       "    <tr>\n",
       "      <th>54345</th>\n",
       "      <td>ГАЗ ГАЗель</td>\n",
       "      <td>1300000</td>\n",
       "      <td>Шымкент</td>\n",
       "      <td>1997</td>\n",
       "      <td>пикап</td>\n",
       "      <td>NaN</td>\n",
       "      <td>газ-бензин</td>\n",
       "      <td>КПП механика</td>\n",
       "      <td>0</td>\n",
       "      <td>нет цвета</td>\n",
       "    </tr>\n",
       "  </tbody>\n",
       "</table>\n",
       "</div>"
      ],
      "text/plain": [
       "                     car     price     city  year       base  engine  \\\n",
       "3212   Mitsubishi Galant    800000   Актобе  1996      седан     NaN   \n",
       "7749         Nissan Juke   4950000   Алматы  2013      седан     NaN   \n",
       "7835        Daewoo Nexia   1790000   Алматы  2013      седан     NaN   \n",
       "11897       Toyota RAV 4   2000000   Алматы  1995  кроссовер     NaN   \n",
       "12459      Jaguar I-Pace  38000000   Алматы  2019  кроссовер     NaN   \n",
       "14741      Jaguar I-Pace  50208000   Алматы  2019  кроссовер     NaN   \n",
       "54345         ГАЗ ГАЗель   1300000  Шымкент  1997      пикап     NaN   \n",
       "\n",
       "              gas  transmission  wheel      color  \n",
       "3212   газ-бензин  КПП механика      0    зеленый  \n",
       "7749          NaN   КПП автомат      0  нет цвета  \n",
       "7835          NaN  КПП механика      0  нет цвета  \n",
       "11897         NaN   КПП автомат      1     черный  \n",
       "12459         NaN  КПП вариатор      0  нет цвета  \n",
       "14741         NaN  КПП вариатор      0  нет цвета  \n",
       "54345  газ-бензин  КПП механика      0  нет цвета  "
      ]
     },
     "execution_count": 22,
     "metadata": {},
     "output_type": "execute_result"
    }
   ],
   "source": [
    "data[data.engine.isnull()]"
   ]
  },
  {
   "cell_type": "markdown",
   "metadata": {},
   "source": [
    "Do not rush dropping rows with missing values without understanding underlying causes. We are dealing with light vehicle engine volumes here. We have electrical vehicle in our dataset too (Teslas, BMW i3, Nissan Leaf, etc.). Therefore, where for those 17 rows missing engine volume, where `gas` == electric impute zeroes. For reference, there are 10 such rows.\n",
    "\n",
    "The same applies to `gas` columns. For electric car models sometimes fuel type is left empty. To preserve such observations, let's impute `engine` and `gas` columns with `0` and `электричество` respectively, where `car` models have `Tesla` or `Nissan Leaf`. Note, all these steps can be done during initial cleaning in Excel for convinience."
   ]
  },
  {
   "cell_type": "code",
   "execution_count": 21,
   "metadata": {},
   "outputs": [],
   "source": [
    "# Filter the data to get electric vehicles and update engine volume to zero\n",
    "#data[(data.engine.isnull()) & (data['gas'] == 'электричество')]\n",
    "data.loc[(data.engine.isnull()) & (data['gas'] == 'электричество'), 'engine'] = 0"
   ]
  },
  {
   "cell_type": "markdown",
   "metadata": {},
   "source": [
    "Usually ads are posted with picture of a car and I suppose this is the reason why so many ads are missing color information. There are over 4300 of such ads. While other missing rows with small count can be dropped, 4300 is too much. Therefore, the decision here is to impute the missing colors with the most frequent (and neutral) color `white`. \n",
    "(I wonder what `нет цвета` means? Is it \"missing\" value or undefined color. Let's leave it as it is for now) "
   ]
  },
  {
   "cell_type": "code",
   "execution_count": 25,
   "metadata": {},
   "outputs": [],
   "source": [
    "#data.color.value_counts()\n",
    "\n",
    "# Find the mode of color in data\n",
    "color_mode = data.color.mode()[0]\n",
    "\n",
    "# Fill the missing values with mode value of month in data.\n",
    "data.color.fillna(color_mode, inplace = True)\n",
    "\n",
    "# Dropping the remaining records with missing values in dataframe.\n",
    "data = data.dropna()"
   ]
  },
  {
   "cell_type": "code",
   "execution_count": 24,
   "metadata": {},
   "outputs": [
    {
     "data": {
      "text/plain": [
       "'белый'"
      ]
     },
     "execution_count": 24,
     "metadata": {},
     "output_type": "execute_result"
    }
   ],
   "source": [
    "data.color.mode()[0]"
   ]
  },
  {
   "cell_type": "markdown",
   "metadata": {},
   "source": [
    "### 2.2 Data Statistics <a class=\"anchor\" id=\"section_2_2\"></a>\n",
    "\n",
    "Descriptive statistics is a good step to start exploring numeric variables. It gives us such measure as min, max, mean, standard deviation, quartiles, etc. We can interpret them to see if there are any missing values, outliers, range of values and decide how to preprocess them before feeding into our model.\n"
   ]
  },
  {
   "cell_type": "code",
   "execution_count": 27,
   "metadata": {},
   "outputs": [
    {
     "name": "stdout",
     "output_type": "stream",
     "text": [
      "                 price      year    engine     wheel\n",
      "count        55,967.00 55,967.00 55,967.00 55,967.00\n",
      "mean      5,326,194.54  2,005.49      2.40      0.05\n",
      "std      18,256,595.45      9.28      0.98      0.22\n",
      "min          10,000.00  1,927.00      0.00      0.00\n",
      "25%       1,600,000.00  1,997.00      1.60      0.00\n",
      "50%       3,400,000.00  2,007.00      2.00      0.00\n",
      "75%       6,000,000.00  2,013.00      2.80      0.00\n",
      "max   4,000,000,000.00  2,020.00      9.90      1.00\n"
     ]
    }
   ],
   "source": [
    "# Descriptive stats with applying some formatting for easy reading\n",
    "with pd.option_context('float_format', '{:,.2f}'.format): \n",
    "    print(data.describe())"
   ]
  },
  {
   "cell_type": "markdown",
   "metadata": {},
   "source": [
    ">What?! ***4_000_000_000*** (4 billions of tenge)?!!! This is clearly an ***outlier***."
   ]
  },
  {
   "cell_type": "code",
   "execution_count": 1,
   "metadata": {},
   "outputs": [
    {
     "ename": "NameError",
     "evalue": "name 'data' is not defined",
     "output_type": "error",
     "traceback": [
      "\u001b[1;31m---------------------------------------------------------------------------\u001b[0m",
      "\u001b[1;31mNameError\u001b[0m                                 Traceback (most recent call last)",
      "\u001b[1;32m<ipython-input-1-f707f87174d6>\u001b[0m in \u001b[0;36m<module>\u001b[1;34m()\u001b[0m\n\u001b[1;32m----> 1\u001b[1;33m \u001b[0mdata\u001b[0m\u001b[1;33m[\u001b[0m\u001b[0mdata\u001b[0m\u001b[1;33m.\u001b[0m\u001b[0mprice\u001b[0m \u001b[1;33m>=\u001b[0m \u001b[1;36m1_000_000_000\u001b[0m\u001b[1;33m]\u001b[0m\u001b[1;33m\u001b[0m\u001b[1;33m\u001b[0m\u001b[0m\n\u001b[0m",
      "\u001b[1;31mNameError\u001b[0m: name 'data' is not defined"
     ]
    }
   ],
   "source": [
    "data[data.price >= 1_000_000_000]"
   ]
  },
  {
   "cell_type": "markdown",
   "metadata": {},
   "source": [
    "## 3 Data Visualizations  <a class=\"anchor\" id=\"chapter3\"></a>\n",
    "\n",
    "A brief reminder:\n",
    "* Intended to allows us to understand our data more deeply\n",
    "    * understanding breeds good decisions\n",
    "    * fundamental communication tool\n",
    "* Without data visualization and data analysis:\n",
    "    * more prone to misunderstandings; and\n",
    "    * more prone to miss opportunities\n",
    "* Data Visualization is not producing a nice plot\n",
    "    * integrated with domain expertise\n",
    "    * can build on all other supervised and unsupervised tools\n",
    "    * should be pervasive and enable action\n",
    "\n",
    "Four pillars for visualization:\n",
    "* purpose (the why)\n",
    "* content (the what)\n",
    "* structure (the how)\n",
    "* formatting (everything else)\n",
    "\n",
    "Keep in mind good practices to “tell a story”:\n",
    "* communicate baseline\n",
    "* handle viewer’s biases properly\n",
    "* statistics is capable of summarizing information\n",
    "    * **insight**: reduce data to a few very informative summary statistics, then visualize them.\n",
    "\n",
    "### 3.1 Univariate Visualizations   <a class=\"anchor\" id=\"section_3_1\"></a>\n"
   ]
  },
  {
   "cell_type": "code",
   "execution_count": 29,
   "metadata": {},
   "outputs": [
    {
     "data": {
      "text/plain": [
       "array([[<matplotlib.axes._subplots.AxesSubplot object at 0x000001CD61D8CC08>,\n",
       "        <matplotlib.axes._subplots.AxesSubplot object at 0x000001CD6254AA88>],\n",
       "       [<matplotlib.axes._subplots.AxesSubplot object at 0x000001CD62586888>,\n",
       "        <matplotlib.axes._subplots.AxesSubplot object at 0x000001CD625BC988>]],\n",
       "      dtype=object)"
      ]
     },
     "execution_count": 29,
     "metadata": {},
     "output_type": "execute_result"
    },
    {
     "data": {
      "image/png": "[encoded data removed]",
      "text/plain": [
       "<Figure size 720x576 with 4 Axes>"
      ]
     },
     "metadata": {
      "needs_background": "light"
     },
     "output_type": "display_data"
    }
   ],
   "source": [
    "numeric_variables = data.select_dtypes(exclude=['object'])\n",
    "numeric_variables.hist(figsize=(10,8), bins=20)"
   ]
  },
  {
   "cell_type": "markdown",
   "metadata": {},
   "source": [
    "Due to the price of Lamborghini Diablo (4 billion tenge), the histogram of `price` column is not very informative. \n",
    "However on other three histograms we can start getting a few insights:\n",
    "1.\n",
    "2.\n",
    "3. \n",
    "\n",
    "Now, for categorical variables, we will look at their frequency distributions. We will use count plot for this."
   ]
  },
  {
   "cell_type": "code",
   "execution_count": 30,
   "metadata": {},
   "outputs": [
    {
     "data": {
      "text/plain": [
       "<matplotlib.axes._subplots.AxesSubplot at 0x1cd62737148>"
      ]
     },
     "execution_count": 30,
     "metadata": {},
     "output_type": "execute_result"
    },
    {
     "data": {
      "image/png": "[encoded data removed]",
      "text/plain": [
       "<Figure size 720x216 with 1 Axes>"
      ]
     },
     "metadata": {
      "needs_background": "light"
     },
     "output_type": "display_data"
    }
   ],
   "source": [
    "import matplotlib.pyplot as plt\n",
    "import seaborn as sns\n",
    "\n",
    "# this allows plots to appear directly in the notebook\n",
    "%matplotlib inline\n",
    "\n",
    "categorical_variables = data.select_dtypes(include=['object'])\n",
    "\n",
    "plt.figure(figsize=(10,3))\n",
    "sns.countplot(data = categorical_variables, x='city', order=categorical_variables.city.value_counts().index)"
   ]
  },
  {
   "cell_type": "code",
   "execution_count": 31,
   "metadata": {},
   "outputs": [
    {
     "data": {
      "text/plain": [
       "(array([ 0,  1,  2,  3,  4,  5,  6,  7,  8,  9, 10, 11, 12, 13, 14, 15, 16,\n",
       "        17]),\n",
       " <a list of 18 Text xticklabel objects>)"
      ]
     },
     "execution_count": 31,
     "metadata": {},
     "output_type": "execute_result"
    },
    {
     "data": {
      "image/png": "[encoded data removed]",
      "text/plain": [
       "<Figure size 864x360 with 1 Axes>"
      ]
     },
     "metadata": {
      "needs_background": "light"
     },
     "output_type": "display_data"
    }
   ],
   "source": [
    "plt.figure(figsize=(12,5))\n",
    "ax2 = sns.countplot(data = categorical_variables, x='base', order=categorical_variables.base.value_counts().index)\n",
    "\n",
    "for p in ax2.patches:\n",
    "        ax2.annotate('{:.0f}'.format(p.get_height()), (p.get_x()+0.04, p.get_height()+70))\n",
    "\n",
    "plt.xticks(\n",
    "    rotation=45, \n",
    "    horizontalalignment='right',\n",
    "    fontweight='light',\n",
    "    fontsize='large'  \n",
    ")"
   ]
  },
  {
   "cell_type": "code",
   "execution_count": 32,
   "metadata": {},
   "outputs": [
    {
     "data": {
      "text/plain": [
       "<matplotlib.axes._subplots.AxesSubplot at 0x1cd6418d508>"
      ]
     },
     "execution_count": 32,
     "metadata": {},
     "output_type": "execute_result"
    },
    {
     "data": {
      "image/png": "[encoded data removed]",
      "text/plain": [
       "<Figure size 720x216 with 1 Axes>"
      ]
     },
     "metadata": {
      "needs_background": "light"
     },
     "output_type": "display_data"
    }
   ],
   "source": [
    "plt.figure(figsize=(10,3))\n",
    "sns.countplot(data = categorical_variables, x='gas', orient='v')"
   ]
  },
  {
   "cell_type": "code",
   "execution_count": 33,
   "metadata": {},
   "outputs": [
    {
     "data": {
      "text/plain": [
       "<matplotlib.axes._subplots.AxesSubplot at 0x1cd641e4fc8>"
      ]
     },
     "execution_count": 33,
     "metadata": {},
     "output_type": "execute_result"
    },
    {
     "data": {
      "image/png": "[encoded data removed]",
      "text/plain": [
       "<Figure size 720x216 with 1 Axes>"
      ]
     },
     "metadata": {
      "needs_background": "light"
     },
     "output_type": "display_data"
    }
   ],
   "source": [
    "plt.figure(figsize=(10,3))\n",
    "sns.countplot(data = categorical_variables, x='transmission', order=categorical_variables.transmission.value_counts().index)"
   ]
  },
  {
   "cell_type": "code",
   "execution_count": 34,
   "metadata": {},
   "outputs": [
    {
     "data": {
      "text/plain": [
       "(array([ 0,  1,  2,  3,  4,  5,  6,  7,  8,  9, 10, 11, 12, 13, 14, 15, 16,\n",
       "        17, 18, 19, 20, 21, 22, 23, 24, 25, 26, 27]),\n",
       " <a list of 28 Text xticklabel objects>)"
      ]
     },
     "execution_count": 34,
     "metadata": {},
     "output_type": "execute_result"
    },
    {
     "data": {
      "image/png": "[encoded data removed]",
      "text/plain": [
       "<Figure size 1152x216 with 1 Axes>"
      ]
     },
     "metadata": {
      "needs_background": "light"
     },
     "output_type": "display_data"
    }
   ],
   "source": [
    "plt.figure(figsize=(16,3))\n",
    "sns.countplot(data = categorical_variables, x='color', order=categorical_variables.color.value_counts().index)\n",
    "plt.xticks(\n",
    "    rotation=45, \n",
    "    horizontalalignment='right',\n",
    "    fontweight='light',\n",
    "    fontsize='large'  \n",
    ")"
   ]
  },
  {
   "cell_type": "markdown",
   "metadata": {},
   "source": [
    "### 3.2  Data Relationships   <a class=\"anchor\" id=\"section_3_2\"></a>\n",
    "\n",
    "Let’s have a look at the relationship among various columns."
   ]
  },
  {
   "cell_type": "code",
   "execution_count": null,
   "metadata": {},
   "outputs": [],
   "source": [
    "# Compute the correlation matrix \n",
    "corr = data.corr()\n",
    "\n",
    "# Setup the matplotlib figure\n",
    "f, ax = plt.subplots(figsize=(8,8))\n",
    "\n",
    "# Generate a custome diverging color map\n",
    "cmap = sns.diverging_palette(220, 10, as_cmap=True)\n",
    "\n",
    "# Draw the heatmap\n",
    "_ = sns.heatmap(corr, cmap='YlGn', square=True, ax=ax, annot=True, linewidth=0.1)\n",
    "\n",
    "plt.title('Pearson Correlation of Features', y=1.05, size=15)"
   ]
  },
  {
   "cell_type": "code",
   "execution_count": null,
   "metadata": {},
   "outputs": [],
   "source": [
    "print(corr)"
   ]
  },
  {
   "cell_type": "markdown",
   "metadata": {},
   "source": [
    "## 4 Training the Model <a class=\"anchor\" id=\"chapter4\"></a>"
   ]
  },
  {
   "cell_type": "markdown",
   "metadata": {},
   "source": [
    "### 4.1 Linear Regression <a class=\"anchor\" id=\"section_3_1\"></a>\n",
    "\n",
    "Simple linear regression is an approach for predicting a **quantitative response** using a **single feature** (or \"predictor\" or \"input variable\"). It takes the following form:\n",
    "\n",
    "$y = \\beta_0 + \\beta_1x$\n",
    "\n",
    "What does each term represent?\n",
    "- $y$ is the response\n",
    "- $x$ is the feature\n",
    "- $\\beta_0$ is the intercept\n",
    "- $\\beta_1$ is the coefficient for x\n",
    "\n",
    "Together, $\\beta_0$ and $\\beta_1$ are called the **model coefficients**. To create your model, you must \"learn\" the values of these coefficients. And once we've learned these coefficients, we can use the model to predict Sales!\n",
    "\n",
    "Example using sklearn library:"
   ]
  },
  {
   "cell_type": "code",
   "execution_count": 36,
   "metadata": {},
   "outputs": [
    {
     "name": "stdout",
     "output_type": "stream",
     "text": [
      "Intercept:  -717793447.6584355\n",
      "Slope or coefficient of the feature (b1):  360569.66061734396\n"
     ]
    }
   ],
   "source": [
    "from sklearn.linear_model import LinearRegression \n",
    "\n",
    "lm=LinearRegression()\n",
    "X = data[['year']]\n",
    "Y = data['price']\n",
    "\n",
    "#fit the model, i.e. find the parameters b0 and b1\n",
    "lm.fit(X, Y)\n",
    "\n",
    "#obtain preditions\n",
    "Yhat = lm.predict(X)\n",
    "\n",
    "#you can view the intercept (b0):\n",
    "print('Intercept: ', lm.intercept_)\n",
    "\n",
    "#you can view the slope (b1):\n",
    "print('Slope or coefficient of the feature (b1): ', lm.coef_[0])"
   ]
  },
  {
   "cell_type": "markdown",
   "metadata": {},
   "source": [
    "The output doesn't make sense because we have too many outliers in the `target`. \n",
    "\n",
    "**The relationship between [b0 and b1] is given by:**\n",
    "Price = -717,793,447.65 + 360,569.66 * X"
   ]
  },
  {
   "cell_type": "markdown",
   "metadata": {},
   "source": [
    "### 4.2 Multiple Linear Regression <a class=\"anchor\" id=\"section_4_2\"></a>\n",
    "\n",
    "Yhat = b0 + b1 * X1 + b2 * X2\n",
    "\n",
    "* **High cardinality** - High cardinality means that most of the values in that dataset column are unique (e.g. `url` column). Low cardinality, on the other hand, means that many of these values in a dataset column are repeated (in our case `city`, `transmission`, `base`, `color`).\n",
    "* **Multicollinearity** - refers to a situation in which two or more explanatory variables in a multiple regression model are highly linearly related (Wikipedia).\n",
    "* **Heteroskedasticity** - \n",
    "\n",
    "<br>\n",
    "In order to start introducing other variables we need to do some feature engineering. Linear regression models take numeric variables as inputs. Our dataset has multiple categorical variable that we need to prepare first. We performed this step on `wheel` column above. Columns `base`, `gas`, `transmission`, and `color` are different - they have many categories (refer to frequency plot above). In order to transfor these nominal categorical variables to numeric we will apply a technique called *count/frequency encoding* - basically replacing a category with its frequency in that column. We won't go too much in detail here. \n",
    "\n",
    "`car` models column needs additional work which I did not cover in this exercise. Therefore, for now we will not include model information to our regression model."
   ]
  },
  {
   "cell_type": "code",
   "execution_count": 37,
   "metadata": {},
   "outputs": [
    {
     "name": "stdout",
     "output_type": "stream",
     "text": [
      "base :  18  labels\n",
      "gas :  6  labels\n",
      "transmission :  5  labels\n",
      "color :  28  labels\n"
     ]
    }
   ],
   "source": [
    "# Let's see again how many categories each of these columns have\n",
    "for col in categorical_variables.columns[2:]:\n",
    "    print(col, \": \", len(categorical_variables[col].unique()), \" labels\")"
   ]
  },
  {
   "cell_type": "code",
   "execution_count": 38,
   "metadata": {},
   "outputs": [
    {
     "data": {
      "text/plain": [
       "{'седан': 27121,\n",
       " 'кроссовер': 7444,\n",
       " 'внедорожник': 6626,\n",
       " 'хэтчбек': 5205,\n",
       " 'универсал': 3589,\n",
       " 'минивэн': 1825,\n",
       " 'фургон': 918,\n",
       " 'купе': 867,\n",
       " 'пикап': 845,\n",
       " 'микроавтобус': 819,\n",
       " 'лифтбэк': 247,\n",
       " 'лимузин': 182,\n",
       " 'микровэн': 172,\n",
       " 'кабриолет': 75,\n",
       " 'родстер': 19,\n",
       " 'тарга': 7,\n",
       " 'фастбэк': 4,\n",
       " 'хардтоп': 2}"
      ]
     },
     "execution_count": 38,
     "metadata": {},
     "output_type": "execute_result"
    }
   ],
   "source": [
    "# Capture frequency values for each category\n",
    "data.base.value_counts().to_dict()"
   ]
  },
  {
   "cell_type": "code",
   "execution_count": 39,
   "metadata": {},
   "outputs": [
    {
     "data": {
      "text/html": [
       "<div>\n",
       "<style scoped>\n",
       "    .dataframe tbody tr th:only-of-type {\n",
       "        vertical-align: middle;\n",
       "    }\n",
       "\n",
       "    .dataframe tbody tr th {\n",
       "        vertical-align: top;\n",
       "    }\n",
       "\n",
       "    .dataframe thead th {\n",
       "        text-align: right;\n",
       "    }\n",
       "</style>\n",
       "<table border=\"1\" class=\"dataframe\">\n",
       "  <thead>\n",
       "    <tr style=\"text-align: right;\">\n",
       "      <th></th>\n",
       "      <th>car</th>\n",
       "      <th>price</th>\n",
       "      <th>city</th>\n",
       "      <th>year</th>\n",
       "      <th>base</th>\n",
       "      <th>engine</th>\n",
       "      <th>gas</th>\n",
       "      <th>transmission</th>\n",
       "      <th>wheel</th>\n",
       "      <th>color</th>\n",
       "    </tr>\n",
       "  </thead>\n",
       "  <tbody>\n",
       "    <tr>\n",
       "      <th>0</th>\n",
       "      <td>Volkswagen Passat</td>\n",
       "      <td>3600000</td>\n",
       "      <td>Актобе</td>\n",
       "      <td>2009</td>\n",
       "      <td>27121</td>\n",
       "      <td>2.0</td>\n",
       "      <td>45214</td>\n",
       "      <td>26974</td>\n",
       "      <td>0</td>\n",
       "      <td>4620</td>\n",
       "    </tr>\n",
       "    <tr>\n",
       "      <th>1</th>\n",
       "      <td>Land Rover Range Rover Sport</td>\n",
       "      <td>12000000</td>\n",
       "      <td>Актобе</td>\n",
       "      <td>2011</td>\n",
       "      <td>6626</td>\n",
       "      <td>5.0</td>\n",
       "      <td>45214</td>\n",
       "      <td>26974</td>\n",
       "      <td>0</td>\n",
       "      <td>9019</td>\n",
       "    </tr>\n",
       "    <tr>\n",
       "      <th>2</th>\n",
       "      <td>Hyundai Accent</td>\n",
       "      <td>4700000</td>\n",
       "      <td>Актобе</td>\n",
       "      <td>2014</td>\n",
       "      <td>5205</td>\n",
       "      <td>1.6</td>\n",
       "      <td>6808</td>\n",
       "      <td>5921</td>\n",
       "      <td>0</td>\n",
       "      <td>16697</td>\n",
       "    </tr>\n",
       "    <tr>\n",
       "      <th>3</th>\n",
       "      <td>Infiniti QX80</td>\n",
       "      <td>27999000</td>\n",
       "      <td>Актобе</td>\n",
       "      <td>2019</td>\n",
       "      <td>6626</td>\n",
       "      <td>5.6</td>\n",
       "      <td>45214</td>\n",
       "      <td>26974</td>\n",
       "      <td>0</td>\n",
       "      <td>16697</td>\n",
       "    </tr>\n",
       "    <tr>\n",
       "      <th>4</th>\n",
       "      <td>Kia Sorento</td>\n",
       "      <td>2800000</td>\n",
       "      <td>Актобе</td>\n",
       "      <td>2004</td>\n",
       "      <td>6626</td>\n",
       "      <td>2.5</td>\n",
       "      <td>3581</td>\n",
       "      <td>26974</td>\n",
       "      <td>0</td>\n",
       "      <td>7435</td>\n",
       "    </tr>\n",
       "  </tbody>\n",
       "</table>\n",
       "</div>"
      ],
      "text/plain": [
       "                            car     price    city  year   base  engine    gas  \\\n",
       "0             Volkswagen Passat   3600000  Актобе  2009  27121     2.0  45214   \n",
       "1  Land Rover Range Rover Sport  12000000  Актобе  2011   6626     5.0  45214   \n",
       "2                Hyundai Accent   4700000  Актобе  2014   5205     1.6   6808   \n",
       "3                 Infiniti QX80  27999000  Актобе  2019   6626     5.6  45214   \n",
       "4                   Kia Sorento   2800000  Актобе  2004   6626     2.5   3581   \n",
       "\n",
       "   transmission  wheel  color  \n",
       "0         26974      0   4620  \n",
       "1         26974      0   9019  \n",
       "2          5921      0  16697  \n",
       "3         26974      0  16697  \n",
       "4         26974      0   7435  "
      ]
     },
     "execution_count": 39,
     "metadata": {},
     "output_type": "execute_result"
    }
   ],
   "source": [
    "frequency_map_base = data.base.value_counts().to_dict()\n",
    "frequency_map_gas = data.gas.value_counts().to_dict()\n",
    "frequency_map_transmission = data.transmission.value_counts().to_dict()\n",
    "frequency_map_color = data.color.value_counts().to_dict()\n",
    "\n",
    "data.base = data.base.map(frequency_map_base)\n",
    "data.gas = data.gas.map(frequency_map_gas)\n",
    "data.transmission = data.transmission.map(frequency_map_transmission)\n",
    "data.color = data.color.map(frequency_map_color)\n",
    "\n",
    "data.head()"
   ]
  },
  {
   "cell_type": "markdown",
   "metadata": {},
   "source": [
    "Now we are ready to feed these variables into our MLR model."
   ]
  },
  {
   "cell_type": "code",
   "execution_count": 40,
   "metadata": {},
   "outputs": [
    {
     "name": "stdout",
     "output_type": "stream",
     "text": [
      "Intercept:  -703104512.1035644\n",
      "Slopes / coefficients of the features (b1 to b7):  [ 3.48855903e+05 -3.82349376e+01  3.46307669e+06  3.16468843e+01\n",
      " -1.02652018e+01  2.79911318e+05  1.24216416e+01]\n"
     ]
    }
   ],
   "source": [
    "#extract and store predictor variables and store them as Z\n",
    "Z = data[['year', 'base', 'engine', 'gas', 'transmission', 'wheel', 'color']]\n",
    "\n",
    "#train the model\n",
    "lm.fit(Z, data['price'])\n",
    "\n",
    "#obtain preditions (array of arrays)\n",
    "Yhat = lm.predict(Z)\n",
    "\n",
    "#you can view the intercept (b0):\n",
    "print('Intercept: ', lm.intercept_)\n",
    "\n",
    "#you can view the slope array([b1, b2, b3, b4]):\n",
    "print('Slopes / coefficients of the features (b1 to b7): ', lm.coef_)"
   ]
  },
  {
   "cell_type": "code",
   "execution_count": 41,
   "metadata": {},
   "outputs": [
    {
     "data": {
      "text/plain": [
       "array([ 4847556.9197948 , 16772766.65090191,  5195261.87048948, ...,\n",
       "       -3144134.13227332,  1209388.90618932, 13347678.41615331])"
      ]
     },
     "execution_count": 41,
     "metadata": {},
     "output_type": "execute_result"
    }
   ],
   "source": [
    "Yhat"
   ]
  },
  {
   "cell_type": "markdown",
   "metadata": {},
   "source": [
    "#### The estimated linear model:\n",
    "\n",
    "**Price = **\n",
    "\n",
    "<hr>\n",
    "\n",
    "There is better of way representing model fitting results with **`statsmodels`** package.\n",
    "\n",
    "### 4.3 Linear Regression using statsmodels  <a class=\"anchor\" id=\"section_4_3\"></a>"
   ]
  },
  {
   "cell_type": "code",
   "execution_count": 45,
   "metadata": {},
   "outputs": [
    {
     "name": "stdout",
     "output_type": "stream",
     "text": [
      "                            OLS Regression Results                            \n",
      "==============================================================================\n",
      "Dep. Variable:                  price   R-squared:                       0.428\n",
      "Model:                            OLS   Adj. R-squared:                  0.428\n",
      "Method:                 Least Squares   F-statistic:                     5977.\n",
      "Date:                Wed, 07 Oct 2020   Prob (F-statistic):               0.00\n",
      "Time:                        17:38:26   Log-Likelihood:            -9.4542e+05\n",
      "No. Observations:               55966   AIC:                         1.891e+06\n",
      "Df Residuals:                   55958   BIC:                         1.891e+06\n",
      "Df Model:                           7                                         \n",
      "Covariance Type:            nonrobust                                         \n",
      "================================================================================\n",
      "                   coef    std err          t      P>|t|      [0.025      0.975]\n",
      "--------------------------------------------------------------------------------\n",
      "const        -6.859e+08   5.15e+06   -133.119      0.000   -6.96e+08   -6.76e+08\n",
      "year          3.404e+05   2570.704    132.425      0.000    3.35e+05    3.45e+05\n",
      "base           -35.8838      2.068    -17.349      0.000     -39.938     -31.830\n",
      "engine        3.192e+06   2.32e+04    137.527      0.000    3.15e+06    3.24e+06\n",
      "gas             27.7434      1.455     19.069      0.000      24.892      30.595\n",
      "transmission    10.5921      3.018      3.509      0.000       4.676      16.508\n",
      "wheel         1.895e+05   1.04e+05      1.818      0.069   -1.48e+04    3.94e+05\n",
      "color            2.1769      4.103      0.531      0.596      -5.865      10.219\n",
      "==============================================================================\n",
      "Omnibus:                    81358.795   Durbin-Watson:                   1.768\n",
      "Prob(Omnibus):                  0.000   Jarque-Bera (JB):         72677340.372\n",
      "Skew:                           8.449   Prob(JB):                         0.00\n",
      "Kurtosis:                     178.729   Cond. No.                     1.14e+07\n",
      "==============================================================================\n",
      "\n",
      "Warnings:\n",
      "[1] Standard Errors assume that the covariance matrix of the errors is correctly specified.\n",
      "[2] The condition number is large, 1.14e+07. This might indicate that there are\n",
      "strong multicollinearity or other numerical problems.\n"
     ]
    }
   ],
   "source": [
    "import statsmodels.api as sm\n",
    "\n",
    "X = data[['year', 'base', 'engine', 'gas', 'transmission', 'wheel', 'color']]\n",
    "y = data['price']\n",
    "\n",
    "X = sm.add_constant(X)\n",
    "model = sm.OLS(y, X)\n",
    "\n",
    "results = model.fit()\n",
    "#results.params\n",
    "\n",
    "# Full summary report\n",
    "print(results.summary())"
   ]
  },
  {
   "cell_type": "code",
   "execution_count": 43,
   "metadata": {},
   "outputs": [
    {
     "data": {
      "text/html": [
       "<table class=\"simpletable\">\n",
       "<caption>OLS Regression Results</caption>\n",
       "<tr>\n",
       "  <th>Dep. Variable:</th>          <td>price</td>      <th>  R-squared:         </th>  <td>   0.069</td>  \n",
       "</tr>\n",
       "<tr>\n",
       "  <th>Model:</th>                   <td>OLS</td>       <th>  Adj. R-squared:    </th>  <td>   0.069</td>  \n",
       "</tr>\n",
       "<tr>\n",
       "  <th>Method:</th>             <td>Least Squares</td>  <th>  F-statistic:       </th>  <td>   595.9</td>  \n",
       "</tr>\n",
       "<tr>\n",
       "  <th>Date:</th>             <td>Wed, 07 Oct 2020</td> <th>  Prob (F-statistic):</th>   <td>  0.00</td>   \n",
       "</tr>\n",
       "<tr>\n",
       "  <th>Time:</th>                 <td>17:37:06</td>     <th>  Log-Likelihood:    </th> <td>-1.0132e+06</td>\n",
       "</tr>\n",
       "<tr>\n",
       "  <th>No. Observations:</th>      <td> 55967</td>      <th>  AIC:               </th>  <td>2.026e+06</td> \n",
       "</tr>\n",
       "<tr>\n",
       "  <th>Df Residuals:</th>          <td> 55959</td>      <th>  BIC:               </th>  <td>2.026e+06</td> \n",
       "</tr>\n",
       "<tr>\n",
       "  <th>Df Model:</th>              <td>     7</td>      <th>                     </th>      <td> </td>     \n",
       "</tr>\n",
       "<tr>\n",
       "  <th>Covariance Type:</th>      <td>nonrobust</td>    <th>                     </th>      <td> </td>     \n",
       "</tr>\n",
       "</table>\n",
       "<table class=\"simpletable\">\n",
       "<tr>\n",
       "        <td></td>          <th>coef</th>     <th>std err</th>      <th>t</th>      <th>P>|t|</th>  <th>[0.025</th>    <th>0.975]</th>  \n",
       "</tr>\n",
       "<tr>\n",
       "  <th>const</th>        <td>-7.031e+08</td> <td> 1.73e+07</td> <td>  -40.680</td> <td> 0.000</td> <td>-7.37e+08</td> <td>-6.69e+08</td>\n",
       "</tr>\n",
       "<tr>\n",
       "  <th>year</th>         <td> 3.489e+05</td> <td> 8623.724</td> <td>   40.453</td> <td> 0.000</td> <td> 3.32e+05</td> <td> 3.66e+05</td>\n",
       "</tr>\n",
       "<tr>\n",
       "  <th>base</th>         <td>  -38.2349</td> <td>    6.939</td> <td>   -5.511</td> <td> 0.000</td> <td>  -51.834</td> <td>  -24.635</td>\n",
       "</tr>\n",
       "<tr>\n",
       "  <th>engine</th>       <td> 3.463e+06</td> <td> 7.78e+04</td> <td>   44.489</td> <td> 0.000</td> <td> 3.31e+06</td> <td> 3.62e+06</td>\n",
       "</tr>\n",
       "<tr>\n",
       "  <th>gas</th>          <td>   31.6469</td> <td>    4.881</td> <td>    6.484</td> <td> 0.000</td> <td>   22.081</td> <td>   41.213</td>\n",
       "</tr>\n",
       "<tr>\n",
       "  <th>transmission</th> <td>  -10.2652</td> <td>   10.125</td> <td>   -1.014</td> <td> 0.311</td> <td>  -30.111</td> <td>    9.580</td>\n",
       "</tr>\n",
       "<tr>\n",
       "  <th>wheel</th>        <td> 2.799e+05</td> <td>  3.5e+05</td> <td>    0.800</td> <td> 0.424</td> <td>-4.06e+05</td> <td> 9.65e+05</td>\n",
       "</tr>\n",
       "<tr>\n",
       "  <th>color</th>        <td>   12.4216</td> <td>   13.765</td> <td>    0.902</td> <td> 0.367</td> <td>  -14.558</td> <td>   39.401</td>\n",
       "</tr>\n",
       "</table>\n",
       "<table class=\"simpletable\">\n",
       "<tr>\n",
       "  <th>Omnibus:</th>       <td>276074.072</td> <th>  Durbin-Watson:     </th>     <td>   1.984</td>     \n",
       "</tr>\n",
       "<tr>\n",
       "  <th>Prob(Omnibus):</th>   <td> 0.000</td>   <th>  Jarque-Bera (JB):  </th> <td>5025980389261.756</td>\n",
       "</tr>\n",
       "<tr>\n",
       "  <th>Skew:</th>            <td>205.841</td>  <th>  Prob(JB):          </th>     <td>    0.00</td>     \n",
       "</tr>\n",
       "<tr>\n",
       "  <th>Kurtosis:</th>       <td>46425.970</td> <th>  Cond. No.          </th>     <td>1.14e+07</td>     \n",
       "</tr>\n",
       "</table><br/><br/>Warnings:<br/>[1] Standard Errors assume that the covariance matrix of the errors is correctly specified.<br/>[2] The condition number is large, 1.14e+07. This might indicate that there are<br/>strong multicollinearity or other numerical problems."
      ],
      "text/plain": [
       "<class 'statsmodels.iolib.summary.Summary'>\n",
       "\"\"\"\n",
       "                            OLS Regression Results                            \n",
       "==============================================================================\n",
       "Dep. Variable:                  price   R-squared:                       0.069\n",
       "Model:                            OLS   Adj. R-squared:                  0.069\n",
       "Method:                 Least Squares   F-statistic:                     595.9\n",
       "Date:                Wed, 07 Oct 2020   Prob (F-statistic):               0.00\n",
       "Time:                        17:37:06   Log-Likelihood:            -1.0132e+06\n",
       "No. Observations:               55967   AIC:                         2.026e+06\n",
       "Df Residuals:                   55959   BIC:                         2.026e+06\n",
       "Df Model:                           7                                         \n",
       "Covariance Type:            nonrobust                                         \n",
       "================================================================================\n",
       "                   coef    std err          t      P>|t|      [0.025      0.975]\n",
       "--------------------------------------------------------------------------------\n",
       "const        -7.031e+08   1.73e+07    -40.680      0.000   -7.37e+08   -6.69e+08\n",
       "year          3.489e+05   8623.724     40.453      0.000    3.32e+05    3.66e+05\n",
       "base           -38.2349      6.939     -5.511      0.000     -51.834     -24.635\n",
       "engine        3.463e+06   7.78e+04     44.489      0.000    3.31e+06    3.62e+06\n",
       "gas             31.6469      4.881      6.484      0.000      22.081      41.213\n",
       "transmission   -10.2652     10.125     -1.014      0.311     -30.111       9.580\n",
       "wheel         2.799e+05    3.5e+05      0.800      0.424   -4.06e+05    9.65e+05\n",
       "color           12.4216     13.765      0.902      0.367     -14.558      39.401\n",
       "==============================================================================\n",
       "Omnibus:                   276074.072   Durbin-Watson:                   1.984\n",
       "Prob(Omnibus):                  0.000   Jarque-Bera (JB):    5025980389261.756\n",
       "Skew:                         205.841   Prob(JB):                         0.00\n",
       "Kurtosis:                   46425.970   Cond. No.                     1.14e+07\n",
       "==============================================================================\n",
       "\n",
       "Warnings:\n",
       "[1] Standard Errors assume that the covariance matrix of the errors is correctly specified.\n",
       "[2] The condition number is large, 1.14e+07. This might indicate that there are\n",
       "strong multicollinearity or other numerical problems.\n",
       "\"\"\""
      ]
     },
     "execution_count": 43,
     "metadata": {},
     "output_type": "execute_result"
    }
   ],
   "source": [
    "results.summary()"
   ]
  },
  {
   "cell_type": "markdown",
   "metadata": {},
   "source": [
    "## 5 Model Evaluation with Visualization <a class=\"anchor\" id=\"chapter5\"></a>\n",
    "\n",
    "### 5.1 Regression Plot <a class=\"anchor\" id=\"section_5_1\"></a>\n",
    "\n",
    "Regression plots are a good estimate of the relationship between two variables, the strength of the correlation, and the direction of the relationship (positive or negative). The horizontal axis is the independent variable. The vertical axis is the dependent variable. Each point represents a different target point. The fitted line represents the predicted value."
   ]
  },
  {
   "cell_type": "code",
   "execution_count": 46,
   "metadata": {},
   "outputs": [
    {
     "data": {
      "text/plain": [
       "(0, 251089904.52821916)"
      ]
     },
     "execution_count": 46,
     "metadata": {},
     "output_type": "execute_result"
    },
    {
     "data": {
      "image/png": "[encoded data removed]",
      "text/plain": [
       "<Figure size 432x288 with 1 Axes>"
      ]
     },
     "metadata": {
      "needs_background": "light"
     },
     "output_type": "display_data"
    }
   ],
   "source": [
    "sns.regplot(x='engine', y='price', data=data)\n",
    "plt.ylim(0,)"
   ]
  },
  {
   "cell_type": "markdown",
   "metadata": {},
   "source": [
    "### 5.2 Resdiual Plot <a class=\"anchor\" id=\"section_5_2\"></a>\n",
    "The residual plot represents the error between the actual value. Examining the predicted value and actual value we see a difference. We obtain that value by subtracting the predicted value, and the actual target value. We then plot that value on the vertical axis with the independent variable as the horizontal axis. Similarly, for the second sample, we repeat the process. Subtracting the target value from the predicted value. Then plotting the value accordingly. Looking at the plot gives us some insight into our data. We expect to see the results to have zero mean, distributed evenly around the x axis with similar variance. There is no curvature. This type of residual plot suggests a linear plot is appropriate."
   ]
  },
  {
   "cell_type": "code",
   "execution_count": 47,
   "metadata": {},
   "outputs": [
    {
     "data": {
      "text/plain": [
       "<matplotlib.axes._subplots.AxesSubplot at 0x1cd6610c908>"
      ]
     },
     "execution_count": 47,
     "metadata": {},
     "output_type": "execute_result"
    },
    {
     "data": {
      "image/png": "[encoded data removed]",
      "text/plain": [
       "<Figure size 432x288 with 1 Axes>"
      ]
     },
     "metadata": {
      "needs_background": "light"
     },
     "output_type": "display_data"
    }
   ],
   "source": [
    "sns.residplot(data['year'], data['price'])"
   ]
  },
  {
   "cell_type": "markdown",
   "metadata": {},
   "source": [
    "### 5.3 Distribution Plot <a class=\"anchor\" id=\"section_3_3\"></a>\n",
    "A distribution plot counts the predicted value versus the actual value. These plots are extremely useful for visualizing models with more than one independent variable or feature."
   ]
  },
  {
   "cell_type": "code",
   "execution_count": 48,
   "metadata": {},
   "outputs": [
    {
     "data": {
      "text/plain": [
       "<matplotlib.axes._subplots.AxesSubplot at 0x1cd6616bbc8>"
      ]
     },
     "execution_count": 48,
     "metadata": {},
     "output_type": "execute_result"
    },
    {
     "data": {
      "image/png": "[encoded data removed]",
      "text/plain": [
       "<Figure size 432x288 with 1 Axes>"
      ]
     },
     "metadata": {
      "needs_background": "light"
     },
     "output_type": "display_data"
    }
   ],
   "source": [
    "ax1 = sns.distplot(data['price'], hist=False, color='r', label='Actual value')\n",
    "sns.distplot(Yhat, hist=False, color='b', label='Fitted values', ax=ax1)"
   ]
  },
  {
   "cell_type": "markdown",
   "metadata": {},
   "source": [
    "<hr>\n",
    "<hr>\n",
    "\n",
    "### Improving predictive power\n",
    "\n",
    "Improving predictive power of this model is not the purpose of this exercise. However, if you would like to experiment you can try following steps that we skipped as a starting idea.\n",
    "\n",
    "* There are clearly many outliers. We left the outliers as is\n",
    "* We did not check for duplicates \n",
    "* There are better ways of handling categorical variables other than *count/frequency encoding*\n",
    "* Data transformation techniques\n",
    "* Most importantly, we didn't fed the model with brand/make information. In my opinion, car brand should be the primary predictor.\n",
    "* etc."
   ]
  },
  {
   "cell_type": "code",
   "execution_count": 44,
   "metadata": {},
   "outputs": [],
   "source": [
    "# Get indexes where name column has value john\n",
    "indexNames = data[data['price'] >= 1_000_000_000].index\n",
    " \n",
    "# Delete these row indexes from dataFrame\n",
    "data.drop(indexNames , inplace=True)"
   ]
  },
  {
   "cell_type": "code",
   "execution_count": null,
   "metadata": {},
   "outputs": [],
   "source": [
    "#data[data['price'] >= 1_000_000_000]"
   ]
  },
  {
   "cell_type": "code",
   "execution_count": null,
   "metadata": {},
   "outputs": [],
   "source": [
    "# Duplicates\n",
    "data_duplicates = data[data.duplicated(subset=None)]"
   ]
  },
  {
   "cell_type": "code",
   "execution_count": null,
   "metadata": {},
   "outputs": [],
   "source": [
    "data_duplicates.sort_values(['car','price'])"
   ]
  },
  {
   "cell_type": "code",
   "execution_count": null,
   "metadata": {},
   "outputs": [],
   "source": []
  }
 ],
 "metadata": {
  "kernelspec": {
   "display_name": "Python 3",
   "language": "python",
   "name": "python3"
  },
  "language_info": {
   "codemirror_mode": {
    "name": "ipython",
    "version": 3
   },
   "file_extension": ".py",
   "mimetype": "text/x-python",
   "name": "python",
   "nbconvert_exporter": "python",
   "pygments_lexer": "ipython3",
   "version": "3.7.3"
  }
 },
 "nbformat": 4,
 "nbformat_minor": 4
}
