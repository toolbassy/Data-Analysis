{
 "cells": [
  {
   "cell_type": "markdown",
   "metadata": {
    "id": "E1cQdiiKDD7d"
   },
   "source": [
    "# **Case 2**: 2008 Democratic Primaries. Clinton vs Obama\n"
   ]
  },
  {
   "cell_type": "markdown",
   "metadata": {
    "id": "tB-hpfveMF2z"
   },
   "source": [
    "**Team 7** - Abraca-data:\n",
    "\n",
    "* Muratbekov Maksatbek\n",
    "* Sarkulov Yerden\n",
    "* Tolbassy Bakdaulet\n",
    "* Yegemberdi Nurgeldi\n",
    "* Zhakypov Aslan"
   ]
  },
  {
   "cell_type": "markdown",
   "metadata": {
    "id": "ePdPp9j_Makw"
   },
   "source": [
    "### Data Collection  <a class=\"anchor\" id=\"section_1_2\"></a>\n",
    "In this particular case we read the data containing all about election."
   ]
  },
  {
   "cell_type": "code",
   "execution_count": 250,
   "metadata": {
    "colab": {
     "base_uri": "https://localhost:8080/"
    },
    "id": "Yf_bf_5ZTc68",
    "outputId": "de3e2882-7290-48df-e7c2-f47e7a279503"
   },
   "outputs": [
    {
     "name": "stdout",
     "output_type": "stream",
     "text": [
      "Drive already mounted at /content/drive; to attempt to forcibly remount, call drive.mount(\"/content/drive\", force_remount=True).\n"
     ]
    }
   ],
   "source": [
    "from google.colab import drive\n",
    "drive.mount('/content/drive')"
   ]
  },
  {
   "cell_type": "code",
   "execution_count": 251,
   "metadata": {
    "colab": {
     "base_uri": "https://localhost:8080/",
     "height": 0
    },
    "id": "Kln7MrAeDD7e",
    "outputId": "8d4d898c-ccf8-40f0-dbb9-56781e4de7f2"
   },
   "outputs": [
    {
     "data": {
      "text/html": [
       "<div>\n",
       "<style scoped>\n",
       "    .dataframe tbody tr th:only-of-type {\n",
       "        vertical-align: middle;\n",
       "    }\n",
       "\n",
       "    .dataframe tbody tr th {\n",
       "        vertical-align: top;\n",
       "    }\n",
       "\n",
       "    .dataframe thead th {\n",
       "        text-align: right;\n",
       "    }\n",
       "</style>\n",
       "<table border=\"1\" class=\"dataframe\">\n",
       "  <thead>\n",
       "    <tr style=\"text-align: right;\">\n",
       "      <th></th>\n",
       "      <th>County</th>\n",
       "      <th>State</th>\n",
       "      <th>Region</th>\n",
       "      <th>FIPS</th>\n",
       "      <th>ElectionDate</th>\n",
       "      <th>ElectionType</th>\n",
       "      <th>TotalVote</th>\n",
       "      <th>Clinton</th>\n",
       "      <th>Obama</th>\n",
       "      <th>MalesPer100Females</th>\n",
       "      <th>AgeBelow35</th>\n",
       "      <th>Age35to65</th>\n",
       "      <th>Age65andAbove</th>\n",
       "      <th>White</th>\n",
       "      <th>Black</th>\n",
       "      <th>Asian</th>\n",
       "      <th>AmericanIndian</th>\n",
       "      <th>Hawaiian</th>\n",
       "      <th>Hispanic</th>\n",
       "      <th>HighSchool</th>\n",
       "      <th>Bachelors</th>\n",
       "      <th>Poverty</th>\n",
       "      <th>IncomeAbove75K</th>\n",
       "      <th>MedianIncome</th>\n",
       "      <th>AverageIncome</th>\n",
       "      <th>UnemployRate</th>\n",
       "      <th>ManfEmploy</th>\n",
       "      <th>SpeakingNonEnglish</th>\n",
       "      <th>Medicare</th>\n",
       "      <th>MedicareRate</th>\n",
       "      <th>SocialSecurity</th>\n",
       "      <th>SocialSecurityRate</th>\n",
       "      <th>RetiredWorkers</th>\n",
       "      <th>Disabilities</th>\n",
       "      <th>DisabilitiesRate</th>\n",
       "      <th>Homeowner</th>\n",
       "      <th>SameHouse1995and2000</th>\n",
       "      <th>Pop</th>\n",
       "      <th>PopDensity</th>\n",
       "      <th>LandArea</th>\n",
       "      <th>FarmArea</th>\n",
       "    </tr>\n",
       "  </thead>\n",
       "  <tbody>\n",
       "    <tr>\n",
       "      <th>0</th>\n",
       "      <td>Adair</td>\n",
       "      <td>IA</td>\n",
       "      <td>Midwest</td>\n",
       "      <td>19001</td>\n",
       "      <td>1/3/2008</td>\n",
       "      <td>Caucuses</td>\n",
       "      <td>75.0</td>\n",
       "      <td>22.0</td>\n",
       "      <td>24.0</td>\n",
       "      <td>96.7</td>\n",
       "      <td>37.7</td>\n",
       "      <td>40.3</td>\n",
       "      <td>21.9</td>\n",
       "      <td>99.2</td>\n",
       "      <td>0.1</td>\n",
       "      <td>0.5</td>\n",
       "      <td>NaN</td>\n",
       "      <td>0.0</td>\n",
       "      <td>0.8</td>\n",
       "      <td>87.8</td>\n",
       "      <td>11.2</td>\n",
       "      <td>9.7</td>\n",
       "      <td>8.6</td>\n",
       "      <td>39568.0</td>\n",
       "      <td>29222.0</td>\n",
       "      <td>3.2</td>\n",
       "      <td>12.916739</td>\n",
       "      <td>2.0</td>\n",
       "      <td>1551.0</td>\n",
       "      <td>19735.0</td>\n",
       "      <td>1825.0</td>\n",
       "      <td>23222.0</td>\n",
       "      <td>1230.0</td>\n",
       "      <td>90.0</td>\n",
       "      <td>1145.0</td>\n",
       "      <td>75.0</td>\n",
       "      <td>66.0</td>\n",
       "      <td>7714</td>\n",
       "      <td>13.5</td>\n",
       "      <td>570.0</td>\n",
       "      <td>373.0</td>\n",
       "    </tr>\n",
       "    <tr>\n",
       "      <th>1</th>\n",
       "      <td>Adams</td>\n",
       "      <td>IA</td>\n",
       "      <td>Midwest</td>\n",
       "      <td>19003</td>\n",
       "      <td>1/3/2008</td>\n",
       "      <td>Caucuses</td>\n",
       "      <td>50.0</td>\n",
       "      <td>18.0</td>\n",
       "      <td>7.0</td>\n",
       "      <td>96.8</td>\n",
       "      <td>37.1</td>\n",
       "      <td>40.8</td>\n",
       "      <td>22.1</td>\n",
       "      <td>99.2</td>\n",
       "      <td>NaN</td>\n",
       "      <td>0.2</td>\n",
       "      <td>0.5</td>\n",
       "      <td>0.0</td>\n",
       "      <td>0.6</td>\n",
       "      <td>84.5</td>\n",
       "      <td>12.0</td>\n",
       "      <td>10.6</td>\n",
       "      <td>7.8</td>\n",
       "      <td>35296.0</td>\n",
       "      <td>27297.0</td>\n",
       "      <td>4.6</td>\n",
       "      <td>6.964421</td>\n",
       "      <td>1.6</td>\n",
       "      <td>978.0</td>\n",
       "      <td>22936.0</td>\n",
       "      <td>1110.0</td>\n",
       "      <td>26032.0</td>\n",
       "      <td>720.0</td>\n",
       "      <td>78.0</td>\n",
       "      <td>1829.0</td>\n",
       "      <td>74.7</td>\n",
       "      <td>65.4</td>\n",
       "      <td>4192</td>\n",
       "      <td>9.9</td>\n",
       "      <td>425.0</td>\n",
       "      <td>238.0</td>\n",
       "    </tr>\n",
       "    <tr>\n",
       "      <th>2</th>\n",
       "      <td>Allamakee</td>\n",
       "      <td>IA</td>\n",
       "      <td>Midwest</td>\n",
       "      <td>19005</td>\n",
       "      <td>1/3/2008</td>\n",
       "      <td>Caucuses</td>\n",
       "      <td>80.0</td>\n",
       "      <td>25.0</td>\n",
       "      <td>33.0</td>\n",
       "      <td>104.5</td>\n",
       "      <td>41.5</td>\n",
       "      <td>40.8</td>\n",
       "      <td>17.7</td>\n",
       "      <td>99.0</td>\n",
       "      <td>0.2</td>\n",
       "      <td>0.2</td>\n",
       "      <td>0.3</td>\n",
       "      <td>0.0</td>\n",
       "      <td>6.9</td>\n",
       "      <td>81.4</td>\n",
       "      <td>14.4</td>\n",
       "      <td>10.8</td>\n",
       "      <td>10.7</td>\n",
       "      <td>36822.0</td>\n",
       "      <td>25579.0</td>\n",
       "      <td>4.6</td>\n",
       "      <td>16.473466</td>\n",
       "      <td>8.2</td>\n",
       "      <td>2838.0</td>\n",
       "      <td>19294.0</td>\n",
       "      <td>3270.0</td>\n",
       "      <td>22231.0</td>\n",
       "      <td>2245.0</td>\n",
       "      <td>186.0</td>\n",
       "      <td>1265.0</td>\n",
       "      <td>76.4</td>\n",
       "      <td>64.1</td>\n",
       "      <td>14796</td>\n",
       "      <td>23.1</td>\n",
       "      <td>659.0</td>\n",
       "      <td>326.0</td>\n",
       "    </tr>\n",
       "    <tr>\n",
       "      <th>3</th>\n",
       "      <td>Appanoose</td>\n",
       "      <td>IA</td>\n",
       "      <td>Midwest</td>\n",
       "      <td>19007</td>\n",
       "      <td>1/3/2008</td>\n",
       "      <td>Caucuses</td>\n",
       "      <td>60.0</td>\n",
       "      <td>17.0</td>\n",
       "      <td>10.0</td>\n",
       "      <td>94.0</td>\n",
       "      <td>42.0</td>\n",
       "      <td>39.2</td>\n",
       "      <td>18.9</td>\n",
       "      <td>98.5</td>\n",
       "      <td>0.7</td>\n",
       "      <td>0.4</td>\n",
       "      <td>0.1</td>\n",
       "      <td>0.0</td>\n",
       "      <td>1.1</td>\n",
       "      <td>81.4</td>\n",
       "      <td>12.2</td>\n",
       "      <td>14.9</td>\n",
       "      <td>6.6</td>\n",
       "      <td>31764.0</td>\n",
       "      <td>23705.0</td>\n",
       "      <td>5.4</td>\n",
       "      <td>15.080881</td>\n",
       "      <td>2.5</td>\n",
       "      <td>3072.0</td>\n",
       "      <td>22479.0</td>\n",
       "      <td>3415.0</td>\n",
       "      <td>24989.0</td>\n",
       "      <td>2050.0</td>\n",
       "      <td>453.0</td>\n",
       "      <td>3315.0</td>\n",
       "      <td>74.0</td>\n",
       "      <td>60.2</td>\n",
       "      <td>13422</td>\n",
       "      <td>27.0</td>\n",
       "      <td>516.0</td>\n",
       "      <td>236.0</td>\n",
       "    </tr>\n",
       "    <tr>\n",
       "      <th>4</th>\n",
       "      <td>Audubon</td>\n",
       "      <td>IA</td>\n",
       "      <td>Midwest</td>\n",
       "      <td>19009</td>\n",
       "      <td>1/3/2008</td>\n",
       "      <td>Caucuses</td>\n",
       "      <td>48.0</td>\n",
       "      <td>16.0</td>\n",
       "      <td>17.0</td>\n",
       "      <td>94.7</td>\n",
       "      <td>37.4</td>\n",
       "      <td>40.2</td>\n",
       "      <td>22.5</td>\n",
       "      <td>99.3</td>\n",
       "      <td>0.2</td>\n",
       "      <td>0.2</td>\n",
       "      <td>0.1</td>\n",
       "      <td>0.0</td>\n",
       "      <td>0.6</td>\n",
       "      <td>82.5</td>\n",
       "      <td>12.3</td>\n",
       "      <td>9.2</td>\n",
       "      <td>9.7</td>\n",
       "      <td>38941.0</td>\n",
       "      <td>31100.0</td>\n",
       "      <td>4.1</td>\n",
       "      <td>8.333333</td>\n",
       "      <td>2.7</td>\n",
       "      <td>1472.0</td>\n",
       "      <td>22797.0</td>\n",
       "      <td>1740.0</td>\n",
       "      <td>26947.0</td>\n",
       "      <td>1150.0</td>\n",
       "      <td>79.0</td>\n",
       "      <td>1223.0</td>\n",
       "      <td>79.2</td>\n",
       "      <td>70.4</td>\n",
       "      <td>6278</td>\n",
       "      <td>14.2</td>\n",
       "      <td>444.0</td>\n",
       "      <td>261.0</td>\n",
       "    </tr>\n",
       "  </tbody>\n",
       "</table>\n",
       "</div>"
      ],
      "text/plain": [
       "      County State   Region   FIPS  ...    Pop PopDensity  LandArea  FarmArea\n",
       "0      Adair    IA  Midwest  19001  ...   7714       13.5     570.0     373.0\n",
       "1      Adams    IA  Midwest  19003  ...   4192        9.9     425.0     238.0\n",
       "2  Allamakee    IA  Midwest  19005  ...  14796       23.1     659.0     326.0\n",
       "3  Appanoose    IA  Midwest  19007  ...  13422       27.0     516.0     236.0\n",
       "4    Audubon    IA  Midwest  19009  ...   6278       14.2     444.0     261.0\n",
       "\n",
       "[5 rows x 41 columns]"
      ]
     },
     "execution_count": 251,
     "metadata": {
      "tags": []
     },
     "output_type": "execute_result"
    }
   ],
   "source": [
    "#import the useful libraries.\n",
    "import numpy as np\n",
    "import pandas as pd\n",
    "import seaborn as sns\n",
    "import scipy.stats as stats\n",
    "import matplotlib.pyplot as plt\n",
    "# this allows plots to appear directly in the notebook\n",
    "%matplotlib inline\n",
    "\n",
    "filepath = r\"/content/drive/MyDrive/ElectionDataAlone.csv\"\n",
    "\n",
    "# read data then seperate column by\n",
    "data= pd.read_csv(filepath)\n",
    "\n",
    "data.head()"
   ]
  },
  {
   "cell_type": "code",
   "execution_count": 252,
   "metadata": {
    "colab": {
     "base_uri": "https://localhost:8080/"
    },
    "id": "brIT82WcDD7g",
    "outputId": "ca339ea9-fd4b-49ea-cbd6-85596e82e3e6"
   },
   "outputs": [
    {
     "name": "stdout",
     "output_type": "stream",
     "text": [
      "There are 2868 rows, and 41 columns in the dataset.\n"
     ]
    }
   ],
   "source": [
    "print(\"There are\", data.shape[0], \"rows, and\", data.shape[1], \"columns in the dataset.\")"
   ]
  },
  {
   "cell_type": "markdown",
   "metadata": {
    "id": "GPnvoOWiUV6Q"
   },
   "source": [
    "<hr>\n",
    "\n",
    "## Data Preparation <a class=\"anchor\" id=\"chapter2\"></a>\n",
    "\n",
    "Now you can perform the steps to clean the data."
   ]
  },
  {
   "cell_type": "code",
   "execution_count": 253,
   "metadata": {
    "colab": {
     "base_uri": "https://localhost:8080/"
    },
    "id": "uwq9TvCXDD7g",
    "outputId": "f151c302-5344-4646-a419-364d9a42972e"
   },
   "outputs": [
    {
     "data": {
      "text/plain": [
       "County                     0\n",
       "State                      0\n",
       "Region                     0\n",
       "FIPS                       0\n",
       "ElectionDate               0\n",
       "ElectionType               0\n",
       "TotalVote               1131\n",
       "Clinton                 1131\n",
       "Obama                   1131\n",
       "MalesPer100Females         0\n",
       "AgeBelow35                 0\n",
       "Age35to65                  0\n",
       "Age65andAbove              0\n",
       "White                      0\n",
       "Black                     80\n",
       "Asian                     94\n",
       "AmericanIndian            99\n",
       "Hawaiian                   0\n",
       " Hispanic                  0\n",
       "HighSchool                 1\n",
       "Bachelors                  1\n",
       "Poverty                    1\n",
       "IncomeAbove75K             2\n",
       "MedianIncome               1\n",
       "AverageIncome             30\n",
       "UnemployRate               1\n",
       "ManfEmploy               293\n",
       "SpeakingNonEnglish         1\n",
       "Medicare                   1\n",
       "MedicareRate               1\n",
       "SocialSecurity             1\n",
       "SocialSecurityRate         1\n",
       "RetiredWorkers             1\n",
       "Disabilities               8\n",
       "DisabilitiesRate           8\n",
       "Homeowner                  2\n",
       "SameHouse1995and2000       1\n",
       "Pop                        0\n",
       "PopDensity                 0\n",
       "LandArea                   1\n",
       "FarmArea                  87\n",
       "dtype: int64"
      ]
     },
     "execution_count": 253,
     "metadata": {
      "tags": []
     },
     "output_type": "execute_result"
    }
   ],
   "source": [
    "# Checking the missing values\n",
    "data.isnull().sum()"
   ]
  },
  {
   "cell_type": "code",
   "execution_count": 254,
   "metadata": {
    "colab": {
     "base_uri": "https://localhost:8080/"
    },
    "id": "PanNhAcKDD7g",
    "outputId": "4fe97803-8f50-466f-826a-9525d09f2f62"
   },
   "outputs": [
    {
     "data": {
      "text/plain": [
       "Index(['TotalVote', 'Clinton', 'Obama', 'Black', 'Asian', 'AmericanIndian',\n",
       "       'HighSchool', 'Bachelors', 'Poverty', 'IncomeAbove75K    ',\n",
       "       'MedianIncome', 'AverageIncome', 'UnemployRate', 'ManfEmploy',\n",
       "       'SpeakingNonEnglish', 'Medicare', 'MedicareRate', 'SocialSecurity',\n",
       "       'SocialSecurityRate', 'RetiredWorkers', 'Disabilities',\n",
       "       'DisabilitiesRate', 'Homeowner', 'SameHouse1995and2000', 'LandArea',\n",
       "       'FarmArea'],\n",
       "      dtype='object')"
      ]
     },
     "execution_count": 254,
     "metadata": {
      "tags": []
     },
     "output_type": "execute_result"
    }
   ],
   "source": [
    "# These are the coolumns (variables) with missing values in it \n",
    "data.columns[data.isnull().any()]"
   ]
  },
  {
   "cell_type": "markdown",
   "metadata": {
    "id": "qDUl6kacDD7g"
   },
   "source": [
    "<hr>\n",
    "Too many variables with missing values\n",
    "\n",
    "We are going to replace missing (NaN) values **mean** of each numeric column. \n",
    "\n",
    "<hr>"
   ]
  },
  {
   "cell_type": "code",
   "execution_count": 255,
   "metadata": {
    "colab": {
     "base_uri": "https://localhost:8080/",
     "height": 0
    },
    "id": "GsPbUSvRDD7g",
    "outputId": "5ee7562f-f26f-44ae-ddcc-0d866a77f4c4"
   },
   "outputs": [
    {
     "data": {
      "text/html": [
       "<div>\n",
       "<style scoped>\n",
       "    .dataframe tbody tr th:only-of-type {\n",
       "        vertical-align: middle;\n",
       "    }\n",
       "\n",
       "    .dataframe tbody tr th {\n",
       "        vertical-align: top;\n",
       "    }\n",
       "\n",
       "    .dataframe thead th {\n",
       "        text-align: right;\n",
       "    }\n",
       "</style>\n",
       "<table border=\"1\" class=\"dataframe\">\n",
       "  <thead>\n",
       "    <tr style=\"text-align: right;\">\n",
       "      <th></th>\n",
       "      <th>County</th>\n",
       "      <th>State</th>\n",
       "      <th>Region</th>\n",
       "      <th>FIPS</th>\n",
       "      <th>ElectionDate</th>\n",
       "      <th>ElectionType</th>\n",
       "      <th>TotalVote</th>\n",
       "      <th>Clinton</th>\n",
       "      <th>Obama</th>\n",
       "      <th>MalesPer100Females</th>\n",
       "      <th>AgeBelow35</th>\n",
       "      <th>Age35to65</th>\n",
       "      <th>Age65andAbove</th>\n",
       "      <th>White</th>\n",
       "      <th>Black</th>\n",
       "      <th>Asian</th>\n",
       "      <th>AmericanIndian</th>\n",
       "      <th>Hawaiian</th>\n",
       "      <th>Hispanic</th>\n",
       "      <th>HighSchool</th>\n",
       "      <th>Bachelors</th>\n",
       "      <th>Poverty</th>\n",
       "      <th>IncomeAbove75K</th>\n",
       "      <th>MedianIncome</th>\n",
       "      <th>AverageIncome</th>\n",
       "      <th>UnemployRate</th>\n",
       "      <th>ManfEmploy</th>\n",
       "      <th>SpeakingNonEnglish</th>\n",
       "      <th>Medicare</th>\n",
       "      <th>MedicareRate</th>\n",
       "      <th>SocialSecurity</th>\n",
       "      <th>SocialSecurityRate</th>\n",
       "      <th>RetiredWorkers</th>\n",
       "      <th>Disabilities</th>\n",
       "      <th>DisabilitiesRate</th>\n",
       "      <th>Homeowner</th>\n",
       "      <th>SameHouse1995and2000</th>\n",
       "      <th>Pop</th>\n",
       "      <th>PopDensity</th>\n",
       "      <th>LandArea</th>\n",
       "      <th>FarmArea</th>\n",
       "    </tr>\n",
       "  </thead>\n",
       "  <tbody>\n",
       "    <tr>\n",
       "      <th>1737</th>\n",
       "      <td>Hawaii</td>\n",
       "      <td>HI</td>\n",
       "      <td>West</td>\n",
       "      <td>15001</td>\n",
       "      <td>2/19/2008</td>\n",
       "      <td>Caucuses</td>\n",
       "      <td>NaN</td>\n",
       "      <td>NaN</td>\n",
       "      <td>NaN</td>\n",
       "      <td>100.0</td>\n",
       "      <td>46.9</td>\n",
       "      <td>39.7</td>\n",
       "      <td>13.3</td>\n",
       "      <td>35.9</td>\n",
       "      <td>0.7</td>\n",
       "      <td>25.4</td>\n",
       "      <td>0.5</td>\n",
       "      <td>10.6</td>\n",
       "      <td>11.6</td>\n",
       "      <td>84.6</td>\n",
       "      <td>22.1</td>\n",
       "      <td>10.8</td>\n",
       "      <td>20.9</td>\n",
       "      <td>47007.0</td>\n",
       "      <td>26591.0</td>\n",
       "      <td>2.8</td>\n",
       "      <td>NaN</td>\n",
       "      <td>18.4</td>\n",
       "      <td>24383.0</td>\n",
       "      <td>14575.0</td>\n",
       "      <td>29120.0</td>\n",
       "      <td>17407.0</td>\n",
       "      <td>19245.0</td>\n",
       "      <td>3796.0</td>\n",
       "      <td>2269.0</td>\n",
       "      <td>64.5</td>\n",
       "      <td>57.7</td>\n",
       "      <td>171191</td>\n",
       "      <td>42.5</td>\n",
       "      <td>5087.0</td>\n",
       "      <td>821.0</td>\n",
       "    </tr>\n",
       "    <tr>\n",
       "      <th>1738</th>\n",
       "      <td>Honolulu</td>\n",
       "      <td>HI</td>\n",
       "      <td>West</td>\n",
       "      <td>15003</td>\n",
       "      <td>2/19/2008</td>\n",
       "      <td>Caucuses</td>\n",
       "      <td>NaN</td>\n",
       "      <td>NaN</td>\n",
       "      <td>NaN</td>\n",
       "      <td>99.1</td>\n",
       "      <td>46.0</td>\n",
       "      <td>39.9</td>\n",
       "      <td>14.1</td>\n",
       "      <td>22.9</td>\n",
       "      <td>3.0</td>\n",
       "      <td>46.6</td>\n",
       "      <td>0.3</td>\n",
       "      <td>8.5</td>\n",
       "      <td>7.1</td>\n",
       "      <td>84.8</td>\n",
       "      <td>27.9</td>\n",
       "      <td>8.8</td>\n",
       "      <td>31.6</td>\n",
       "      <td>59963.0</td>\n",
       "      <td>36828.0</td>\n",
       "      <td>2.3</td>\n",
       "      <td>2.310511</td>\n",
       "      <td>28.9</td>\n",
       "      <td>131700.0</td>\n",
       "      <td>14548.0</td>\n",
       "      <td>140960.0</td>\n",
       "      <td>15571.0</td>\n",
       "      <td>102660.0</td>\n",
       "      <td>16523.0</td>\n",
       "      <td>1825.0</td>\n",
       "      <td>54.6</td>\n",
       "      <td>56.3</td>\n",
       "      <td>909863</td>\n",
       "      <td>1517.0</td>\n",
       "      <td>2127.0</td>\n",
       "      <td>71.0</td>\n",
       "    </tr>\n",
       "    <tr>\n",
       "      <th>1739</th>\n",
       "      <td>Kalawao</td>\n",
       "      <td>HI</td>\n",
       "      <td>West</td>\n",
       "      <td>15007</td>\n",
       "      <td>2/19/2008</td>\n",
       "      <td>Caucuses</td>\n",
       "      <td>NaN</td>\n",
       "      <td>NaN</td>\n",
       "      <td>NaN</td>\n",
       "      <td>76.2</td>\n",
       "      <td>4.5</td>\n",
       "      <td>79.2</td>\n",
       "      <td>16.2</td>\n",
       "      <td>41.4</td>\n",
       "      <td>NaN</td>\n",
       "      <td>25.2</td>\n",
       "      <td>NaN</td>\n",
       "      <td>30.6</td>\n",
       "      <td>8.1</td>\n",
       "      <td>39.5</td>\n",
       "      <td>10.2</td>\n",
       "      <td>NaN</td>\n",
       "      <td>NaN</td>\n",
       "      <td>NaN</td>\n",
       "      <td>NaN</td>\n",
       "      <td>NaN</td>\n",
       "      <td>NaN</td>\n",
       "      <td>40.1</td>\n",
       "      <td>44.0</td>\n",
       "      <td>39640.0</td>\n",
       "      <td>NaN</td>\n",
       "      <td>NaN</td>\n",
       "      <td>NaN</td>\n",
       "      <td>NaN</td>\n",
       "      <td>NaN</td>\n",
       "      <td>NaN</td>\n",
       "      <td>90.5</td>\n",
       "      <td>120</td>\n",
       "      <td>9.1</td>\n",
       "      <td>52.0</td>\n",
       "      <td>NaN</td>\n",
       "    </tr>\n",
       "    <tr>\n",
       "      <th>1740</th>\n",
       "      <td>Maui</td>\n",
       "      <td>HI</td>\n",
       "      <td>West</td>\n",
       "      <td>15009</td>\n",
       "      <td>2/19/2008</td>\n",
       "      <td>Caucuses</td>\n",
       "      <td>NaN</td>\n",
       "      <td>NaN</td>\n",
       "      <td>NaN</td>\n",
       "      <td>100.9</td>\n",
       "      <td>45.2</td>\n",
       "      <td>43.3</td>\n",
       "      <td>11.4</td>\n",
       "      <td>38.3</td>\n",
       "      <td>0.6</td>\n",
       "      <td>30.2</td>\n",
       "      <td>0.5</td>\n",
       "      <td>10.3</td>\n",
       "      <td>8.7</td>\n",
       "      <td>83.4</td>\n",
       "      <td>22.4</td>\n",
       "      <td>8.3</td>\n",
       "      <td>27.3</td>\n",
       "      <td>54537.0</td>\n",
       "      <td>31156.0</td>\n",
       "      <td>2.3</td>\n",
       "      <td>2.291587</td>\n",
       "      <td>24.1</td>\n",
       "      <td>16718.0</td>\n",
       "      <td>11951.0</td>\n",
       "      <td>19970.0</td>\n",
       "      <td>14276.0</td>\n",
       "      <td>13855.0</td>\n",
       "      <td>1570.0</td>\n",
       "      <td>1122.0</td>\n",
       "      <td>57.6</td>\n",
       "      <td>55.8</td>\n",
       "      <td>141320</td>\n",
       "      <td>121.9</td>\n",
       "      <td>2399.0</td>\n",
       "      <td>257.0</td>\n",
       "    </tr>\n",
       "    <tr>\n",
       "      <th>1741</th>\n",
       "      <td>Adams</td>\n",
       "      <td>WI</td>\n",
       "      <td>Midwest</td>\n",
       "      <td>55001</td>\n",
       "      <td>2/19/2008</td>\n",
       "      <td>Primary</td>\n",
       "      <td>NaN</td>\n",
       "      <td>NaN</td>\n",
       "      <td>NaN</td>\n",
       "      <td>116.2</td>\n",
       "      <td>38.9</td>\n",
       "      <td>41.7</td>\n",
       "      <td>19.6</td>\n",
       "      <td>94.9</td>\n",
       "      <td>3.4</td>\n",
       "      <td>0.4</td>\n",
       "      <td>1.0</td>\n",
       "      <td>0.0</td>\n",
       "      <td>2.8</td>\n",
       "      <td>76.7</td>\n",
       "      <td>10.0</td>\n",
       "      <td>13.3</td>\n",
       "      <td>10.3</td>\n",
       "      <td>37434.0</td>\n",
       "      <td>24768.0</td>\n",
       "      <td>6.6</td>\n",
       "      <td>5.601500</td>\n",
       "      <td>4.8</td>\n",
       "      <td>3138.0</td>\n",
       "      <td>15066.0</td>\n",
       "      <td>5850.0</td>\n",
       "      <td>28087.0</td>\n",
       "      <td>4085.0</td>\n",
       "      <td>440.0</td>\n",
       "      <td>2113.0</td>\n",
       "      <td>85.3</td>\n",
       "      <td>59.4</td>\n",
       "      <td>20843</td>\n",
       "      <td>32.2</td>\n",
       "      <td>689.0</td>\n",
       "      <td>124.0</td>\n",
       "    </tr>\n",
       "  </tbody>\n",
       "</table>\n",
       "</div>"
      ],
      "text/plain": [
       "        County State   Region   FIPS  ...     Pop PopDensity  LandArea  FarmArea\n",
       "1737    Hawaii    HI     West  15001  ...  171191       42.5    5087.0     821.0\n",
       "1738  Honolulu    HI     West  15003  ...  909863     1517.0    2127.0      71.0\n",
       "1739   Kalawao    HI     West  15007  ...     120        9.1      52.0       NaN\n",
       "1740      Maui    HI     West  15009  ...  141320      121.9    2399.0     257.0\n",
       "1741     Adams    WI  Midwest  55001  ...   20843       32.2     689.0     124.0\n",
       "\n",
       "[5 rows x 41 columns]"
      ]
     },
     "execution_count": 255,
     "metadata": {
      "tags": []
     },
     "output_type": "execute_result"
    }
   ],
   "source": [
    "# Checking the missing values\n",
    "data[data.TotalVote.isnull()].head()"
   ]
  },
  {
   "cell_type": "markdown",
   "metadata": {
    "id": "_LBlJsc6bhB3"
   },
   "source": [
    "There are nulls in TotalVote above 1737th stroke."
   ]
  },
  {
   "cell_type": "code",
   "execution_count": 256,
   "metadata": {
    "colab": {
     "base_uri": "https://localhost:8080/"
    },
    "id": "zqGX1M6TDD7g",
    "outputId": "96faf6f5-20c6-44cf-d9da-18f8711b837f"
   },
   "outputs": [
    {
     "name": "stdout",
     "output_type": "stream",
     "text": [
      "12863.796200345423\n",
      "5973.738054116292\n",
      "6178.1226252158895\n"
     ]
    }
   ],
   "source": [
    "print(data.TotalVote.mean())\n",
    "print(data.Clinton.mean())\n",
    "print(data.Obama.mean())"
   ]
  },
  {
   "cell_type": "code",
   "execution_count": 257,
   "metadata": {
    "colab": {
     "base_uri": "https://localhost:8080/",
     "height": 0
    },
    "id": "PB4TSICkDD7g",
    "outputId": "5d456ee3-1f37-41ac-b2da-2471e032d203"
   },
   "outputs": [
    {
     "data": {
      "text/html": [
       "<div>\n",
       "<style scoped>\n",
       "    .dataframe tbody tr th:only-of-type {\n",
       "        vertical-align: middle;\n",
       "    }\n",
       "\n",
       "    .dataframe tbody tr th {\n",
       "        vertical-align: top;\n",
       "    }\n",
       "\n",
       "    .dataframe thead th {\n",
       "        text-align: right;\n",
       "    }\n",
       "</style>\n",
       "<table border=\"1\" class=\"dataframe\">\n",
       "  <thead>\n",
       "    <tr style=\"text-align: right;\">\n",
       "      <th></th>\n",
       "      <th>TotalVote</th>\n",
       "      <th>Clinton</th>\n",
       "      <th>Obama</th>\n",
       "      <th>MalesPer100Females</th>\n",
       "      <th>AgeBelow35</th>\n",
       "      <th>Age35to65</th>\n",
       "      <th>Age65andAbove</th>\n",
       "      <th>White</th>\n",
       "      <th>Black</th>\n",
       "      <th>Asian</th>\n",
       "      <th>AmericanIndian</th>\n",
       "      <th>Hawaiian</th>\n",
       "      <th>Hispanic</th>\n",
       "      <th>HighSchool</th>\n",
       "      <th>Bachelors</th>\n",
       "      <th>Poverty</th>\n",
       "      <th>IncomeAbove75K</th>\n",
       "      <th>MedianIncome</th>\n",
       "      <th>AverageIncome</th>\n",
       "      <th>UnemployRate</th>\n",
       "      <th>ManfEmploy</th>\n",
       "      <th>SpeakingNonEnglish</th>\n",
       "      <th>Medicare</th>\n",
       "      <th>MedicareRate</th>\n",
       "      <th>SocialSecurity</th>\n",
       "      <th>SocialSecurityRate</th>\n",
       "      <th>RetiredWorkers</th>\n",
       "      <th>Disabilities</th>\n",
       "      <th>DisabilitiesRate</th>\n",
       "      <th>Homeowner</th>\n",
       "      <th>SameHouse1995and2000</th>\n",
       "      <th>Pop</th>\n",
       "      <th>PopDensity</th>\n",
       "      <th>LandArea</th>\n",
       "      <th>FarmArea</th>\n",
       "    </tr>\n",
       "  </thead>\n",
       "  <tbody>\n",
       "    <tr>\n",
       "      <th>0</th>\n",
       "      <td>75.0</td>\n",
       "      <td>22.0</td>\n",
       "      <td>24.0</td>\n",
       "      <td>96.7</td>\n",
       "      <td>37.7</td>\n",
       "      <td>40.3</td>\n",
       "      <td>21.9</td>\n",
       "      <td>99.2</td>\n",
       "      <td>0.1</td>\n",
       "      <td>0.5</td>\n",
       "      <td>NaN</td>\n",
       "      <td>0.0</td>\n",
       "      <td>0.8</td>\n",
       "      <td>87.8</td>\n",
       "      <td>11.2</td>\n",
       "      <td>9.7</td>\n",
       "      <td>8.6</td>\n",
       "      <td>39568.0</td>\n",
       "      <td>29222.0</td>\n",
       "      <td>3.2</td>\n",
       "      <td>12.916739</td>\n",
       "      <td>2.0</td>\n",
       "      <td>1551.0</td>\n",
       "      <td>19735.0</td>\n",
       "      <td>1825.0</td>\n",
       "      <td>23222.0</td>\n",
       "      <td>1230.0</td>\n",
       "      <td>90.0</td>\n",
       "      <td>1145.0</td>\n",
       "      <td>75.0</td>\n",
       "      <td>66.0</td>\n",
       "      <td>7714</td>\n",
       "      <td>13.5</td>\n",
       "      <td>570.0</td>\n",
       "      <td>373.0</td>\n",
       "    </tr>\n",
       "    <tr>\n",
       "      <th>1</th>\n",
       "      <td>50.0</td>\n",
       "      <td>18.0</td>\n",
       "      <td>7.0</td>\n",
       "      <td>96.8</td>\n",
       "      <td>37.1</td>\n",
       "      <td>40.8</td>\n",
       "      <td>22.1</td>\n",
       "      <td>99.2</td>\n",
       "      <td>NaN</td>\n",
       "      <td>0.2</td>\n",
       "      <td>0.5</td>\n",
       "      <td>0.0</td>\n",
       "      <td>0.6</td>\n",
       "      <td>84.5</td>\n",
       "      <td>12.0</td>\n",
       "      <td>10.6</td>\n",
       "      <td>7.8</td>\n",
       "      <td>35296.0</td>\n",
       "      <td>27297.0</td>\n",
       "      <td>4.6</td>\n",
       "      <td>6.964421</td>\n",
       "      <td>1.6</td>\n",
       "      <td>978.0</td>\n",
       "      <td>22936.0</td>\n",
       "      <td>1110.0</td>\n",
       "      <td>26032.0</td>\n",
       "      <td>720.0</td>\n",
       "      <td>78.0</td>\n",
       "      <td>1829.0</td>\n",
       "      <td>74.7</td>\n",
       "      <td>65.4</td>\n",
       "      <td>4192</td>\n",
       "      <td>9.9</td>\n",
       "      <td>425.0</td>\n",
       "      <td>238.0</td>\n",
       "    </tr>\n",
       "    <tr>\n",
       "      <th>2</th>\n",
       "      <td>80.0</td>\n",
       "      <td>25.0</td>\n",
       "      <td>33.0</td>\n",
       "      <td>104.5</td>\n",
       "      <td>41.5</td>\n",
       "      <td>40.8</td>\n",
       "      <td>17.7</td>\n",
       "      <td>99.0</td>\n",
       "      <td>0.2</td>\n",
       "      <td>0.2</td>\n",
       "      <td>0.3</td>\n",
       "      <td>0.0</td>\n",
       "      <td>6.9</td>\n",
       "      <td>81.4</td>\n",
       "      <td>14.4</td>\n",
       "      <td>10.8</td>\n",
       "      <td>10.7</td>\n",
       "      <td>36822.0</td>\n",
       "      <td>25579.0</td>\n",
       "      <td>4.6</td>\n",
       "      <td>16.473466</td>\n",
       "      <td>8.2</td>\n",
       "      <td>2838.0</td>\n",
       "      <td>19294.0</td>\n",
       "      <td>3270.0</td>\n",
       "      <td>22231.0</td>\n",
       "      <td>2245.0</td>\n",
       "      <td>186.0</td>\n",
       "      <td>1265.0</td>\n",
       "      <td>76.4</td>\n",
       "      <td>64.1</td>\n",
       "      <td>14796</td>\n",
       "      <td>23.1</td>\n",
       "      <td>659.0</td>\n",
       "      <td>326.0</td>\n",
       "    </tr>\n",
       "    <tr>\n",
       "      <th>3</th>\n",
       "      <td>60.0</td>\n",
       "      <td>17.0</td>\n",
       "      <td>10.0</td>\n",
       "      <td>94.0</td>\n",
       "      <td>42.0</td>\n",
       "      <td>39.2</td>\n",
       "      <td>18.9</td>\n",
       "      <td>98.5</td>\n",
       "      <td>0.7</td>\n",
       "      <td>0.4</td>\n",
       "      <td>0.1</td>\n",
       "      <td>0.0</td>\n",
       "      <td>1.1</td>\n",
       "      <td>81.4</td>\n",
       "      <td>12.2</td>\n",
       "      <td>14.9</td>\n",
       "      <td>6.6</td>\n",
       "      <td>31764.0</td>\n",
       "      <td>23705.0</td>\n",
       "      <td>5.4</td>\n",
       "      <td>15.080881</td>\n",
       "      <td>2.5</td>\n",
       "      <td>3072.0</td>\n",
       "      <td>22479.0</td>\n",
       "      <td>3415.0</td>\n",
       "      <td>24989.0</td>\n",
       "      <td>2050.0</td>\n",
       "      <td>453.0</td>\n",
       "      <td>3315.0</td>\n",
       "      <td>74.0</td>\n",
       "      <td>60.2</td>\n",
       "      <td>13422</td>\n",
       "      <td>27.0</td>\n",
       "      <td>516.0</td>\n",
       "      <td>236.0</td>\n",
       "    </tr>\n",
       "    <tr>\n",
       "      <th>4</th>\n",
       "      <td>48.0</td>\n",
       "      <td>16.0</td>\n",
       "      <td>17.0</td>\n",
       "      <td>94.7</td>\n",
       "      <td>37.4</td>\n",
       "      <td>40.2</td>\n",
       "      <td>22.5</td>\n",
       "      <td>99.3</td>\n",
       "      <td>0.2</td>\n",
       "      <td>0.2</td>\n",
       "      <td>0.1</td>\n",
       "      <td>0.0</td>\n",
       "      <td>0.6</td>\n",
       "      <td>82.5</td>\n",
       "      <td>12.3</td>\n",
       "      <td>9.2</td>\n",
       "      <td>9.7</td>\n",
       "      <td>38941.0</td>\n",
       "      <td>31100.0</td>\n",
       "      <td>4.1</td>\n",
       "      <td>8.333333</td>\n",
       "      <td>2.7</td>\n",
       "      <td>1472.0</td>\n",
       "      <td>22797.0</td>\n",
       "      <td>1740.0</td>\n",
       "      <td>26947.0</td>\n",
       "      <td>1150.0</td>\n",
       "      <td>79.0</td>\n",
       "      <td>1223.0</td>\n",
       "      <td>79.2</td>\n",
       "      <td>70.4</td>\n",
       "      <td>6278</td>\n",
       "      <td>14.2</td>\n",
       "      <td>444.0</td>\n",
       "      <td>261.0</td>\n",
       "    </tr>\n",
       "    <tr>\n",
       "      <th>...</th>\n",
       "      <td>...</td>\n",
       "      <td>...</td>\n",
       "      <td>...</td>\n",
       "      <td>...</td>\n",
       "      <td>...</td>\n",
       "      <td>...</td>\n",
       "      <td>...</td>\n",
       "      <td>...</td>\n",
       "      <td>...</td>\n",
       "      <td>...</td>\n",
       "      <td>...</td>\n",
       "      <td>...</td>\n",
       "      <td>...</td>\n",
       "      <td>...</td>\n",
       "      <td>...</td>\n",
       "      <td>...</td>\n",
       "      <td>...</td>\n",
       "      <td>...</td>\n",
       "      <td>...</td>\n",
       "      <td>...</td>\n",
       "      <td>...</td>\n",
       "      <td>...</td>\n",
       "      <td>...</td>\n",
       "      <td>...</td>\n",
       "      <td>...</td>\n",
       "      <td>...</td>\n",
       "      <td>...</td>\n",
       "      <td>...</td>\n",
       "      <td>...</td>\n",
       "      <td>...</td>\n",
       "      <td>...</td>\n",
       "      <td>...</td>\n",
       "      <td>...</td>\n",
       "      <td>...</td>\n",
       "      <td>...</td>\n",
       "    </tr>\n",
       "    <tr>\n",
       "      <th>2863</th>\n",
       "      <td>NaN</td>\n",
       "      <td>NaN</td>\n",
       "      <td>NaN</td>\n",
       "      <td>100.6</td>\n",
       "      <td>40.3</td>\n",
       "      <td>40.7</td>\n",
       "      <td>19.0</td>\n",
       "      <td>98.8</td>\n",
       "      <td>0.2</td>\n",
       "      <td>0.2</td>\n",
       "      <td>0.5</td>\n",
       "      <td>0.0</td>\n",
       "      <td>0.5</td>\n",
       "      <td>83.2</td>\n",
       "      <td>17.0</td>\n",
       "      <td>8.9</td>\n",
       "      <td>11.2</td>\n",
       "      <td>39360.0</td>\n",
       "      <td>32864.0</td>\n",
       "      <td>3.1</td>\n",
       "      <td>3.754185</td>\n",
       "      <td>3.7</td>\n",
       "      <td>1730.0</td>\n",
       "      <td>20305.0</td>\n",
       "      <td>1885.0</td>\n",
       "      <td>22124.0</td>\n",
       "      <td>1210.0</td>\n",
       "      <td>73.0</td>\n",
       "      <td>857.0</td>\n",
       "      <td>77.5</td>\n",
       "      <td>65.5</td>\n",
       "      <td>8540</td>\n",
       "      <td>13.8</td>\n",
       "      <td>617.0</td>\n",
       "      <td>348.0</td>\n",
       "    </tr>\n",
       "    <tr>\n",
       "      <th>2864</th>\n",
       "      <td>NaN</td>\n",
       "      <td>NaN</td>\n",
       "      <td>NaN</td>\n",
       "      <td>101.0</td>\n",
       "      <td>44.0</td>\n",
       "      <td>43.0</td>\n",
       "      <td>13.1</td>\n",
       "      <td>96.6</td>\n",
       "      <td>0.4</td>\n",
       "      <td>1.7</td>\n",
       "      <td>0.6</td>\n",
       "      <td>0.0</td>\n",
       "      <td>1.8</td>\n",
       "      <td>87.2</td>\n",
       "      <td>26.3</td>\n",
       "      <td>6.9</td>\n",
       "      <td>21.1</td>\n",
       "      <td>51424.0</td>\n",
       "      <td>43056.0</td>\n",
       "      <td>3.5</td>\n",
       "      <td>16.376826</td>\n",
       "      <td>4.1</td>\n",
       "      <td>2172.0</td>\n",
       "      <td>16134.0</td>\n",
       "      <td>2365.0</td>\n",
       "      <td>17568.0</td>\n",
       "      <td>1615.0</td>\n",
       "      <td>76.0</td>\n",
       "      <td>565.0</td>\n",
       "      <td>74.4</td>\n",
       "      <td>54.4</td>\n",
       "      <td>13745</td>\n",
       "      <td>29.9</td>\n",
       "      <td>467.0</td>\n",
       "      <td>277.0</td>\n",
       "    </tr>\n",
       "    <tr>\n",
       "      <th>2865</th>\n",
       "      <td>NaN</td>\n",
       "      <td>NaN</td>\n",
       "      <td>NaN</td>\n",
       "      <td>95.2</td>\n",
       "      <td>38.1</td>\n",
       "      <td>40.0</td>\n",
       "      <td>22.0</td>\n",
       "      <td>84.4</td>\n",
       "      <td>NaN</td>\n",
       "      <td>0.2</td>\n",
       "      <td>14.4</td>\n",
       "      <td>0.0</td>\n",
       "      <td>0.7</td>\n",
       "      <td>78.1</td>\n",
       "      <td>15.8</td>\n",
       "      <td>16.0</td>\n",
       "      <td>7.6</td>\n",
       "      <td>31907.0</td>\n",
       "      <td>27248.0</td>\n",
       "      <td>4.2</td>\n",
       "      <td>NaN</td>\n",
       "      <td>9.6</td>\n",
       "      <td>855.0</td>\n",
       "      <td>15562.0</td>\n",
       "      <td>1475.0</td>\n",
       "      <td>26847.0</td>\n",
       "      <td>1000.0</td>\n",
       "      <td>133.0</td>\n",
       "      <td>2421.0</td>\n",
       "      <td>71.3</td>\n",
       "      <td>57.9</td>\n",
       "      <td>5425</td>\n",
       "      <td>7.7</td>\n",
       "      <td>744.0</td>\n",
       "      <td>427.0</td>\n",
       "    </tr>\n",
       "    <tr>\n",
       "      <th>2866</th>\n",
       "      <td>NaN</td>\n",
       "      <td>NaN</td>\n",
       "      <td>NaN</td>\n",
       "      <td>105.9</td>\n",
       "      <td>44.0</td>\n",
       "      <td>41.1</td>\n",
       "      <td>14.8</td>\n",
       "      <td>95.8</td>\n",
       "      <td>1.5</td>\n",
       "      <td>0.5</td>\n",
       "      <td>1.6</td>\n",
       "      <td>0.0</td>\n",
       "      <td>2.6</td>\n",
       "      <td>86.1</td>\n",
       "      <td>23.0</td>\n",
       "      <td>12.8</td>\n",
       "      <td>11.0</td>\n",
       "      <td>40371.0</td>\n",
       "      <td>28928.0</td>\n",
       "      <td>3.0</td>\n",
       "      <td>17.977759</td>\n",
       "      <td>5.6</td>\n",
       "      <td>3641.0</td>\n",
       "      <td>16765.0</td>\n",
       "      <td>4190.0</td>\n",
       "      <td>19293.0</td>\n",
       "      <td>2845.0</td>\n",
       "      <td>317.0</td>\n",
       "      <td>1460.0</td>\n",
       "      <td>69.1</td>\n",
       "      <td>54.9</td>\n",
       "      <td>21779</td>\n",
       "      <td>41.8</td>\n",
       "      <td>533.0</td>\n",
       "      <td>342.0</td>\n",
       "    </tr>\n",
       "    <tr>\n",
       "      <th>2867</th>\n",
       "      <td>NaN</td>\n",
       "      <td>NaN</td>\n",
       "      <td>NaN</td>\n",
       "      <td>96.6</td>\n",
       "      <td>61.1</td>\n",
       "      <td>31.8</td>\n",
       "      <td>7.3</td>\n",
       "      <td>25.5</td>\n",
       "      <td>NaN</td>\n",
       "      <td>0.3</td>\n",
       "      <td>74.0</td>\n",
       "      <td>0.0</td>\n",
       "      <td>1.1</td>\n",
       "      <td>71.4</td>\n",
       "      <td>12.0</td>\n",
       "      <td>39.4</td>\n",
       "      <td>4.2</td>\n",
       "      <td>21213.0</td>\n",
       "      <td>17353.0</td>\n",
       "      <td>6.5</td>\n",
       "      <td>NaN</td>\n",
       "      <td>23.8</td>\n",
       "      <td>147.0</td>\n",
       "      <td>5587.0</td>\n",
       "      <td>180.0</td>\n",
       "      <td>6842.0</td>\n",
       "      <td>100.0</td>\n",
       "      <td>74.0</td>\n",
       "      <td>2813.0</td>\n",
       "      <td>59.4</td>\n",
       "      <td>64.8</td>\n",
       "      <td>2706</td>\n",
       "      <td>1.4</td>\n",
       "      <td>1971.0</td>\n",
       "      <td>1173.0</td>\n",
       "    </tr>\n",
       "  </tbody>\n",
       "</table>\n",
       "<p>2868 rows × 35 columns</p>\n",
       "</div>"
      ],
      "text/plain": [
       "      TotalVote  Clinton  Obama  ...  PopDensity  LandArea  FarmArea\n",
       "0          75.0     22.0   24.0  ...        13.5     570.0     373.0\n",
       "1          50.0     18.0    7.0  ...         9.9     425.0     238.0\n",
       "2          80.0     25.0   33.0  ...        23.1     659.0     326.0\n",
       "3          60.0     17.0   10.0  ...        27.0     516.0     236.0\n",
       "4          48.0     16.0   17.0  ...        14.2     444.0     261.0\n",
       "...         ...      ...    ...  ...         ...       ...       ...\n",
       "2863        NaN      NaN    NaN  ...        13.8     617.0     348.0\n",
       "2864        NaN      NaN    NaN  ...        29.9     467.0     277.0\n",
       "2865        NaN      NaN    NaN  ...         7.7     744.0     427.0\n",
       "2866        NaN      NaN    NaN  ...        41.8     533.0     342.0\n",
       "2867        NaN      NaN    NaN  ...         1.4    1971.0    1173.0\n",
       "\n",
       "[2868 rows x 35 columns]"
      ]
     },
     "execution_count": 257,
     "metadata": {
      "tags": []
     },
     "output_type": "execute_result"
    }
   ],
   "source": [
    "#display only numeric columns from 6 to 41\n",
    "data.iloc[:,6:]"
   ]
  },
  {
   "cell_type": "code",
   "execution_count": 258,
   "metadata": {
    "colab": {
     "base_uri": "https://localhost:8080/",
     "height": 0
    },
    "id": "YoznFEqJDD7h",
    "outputId": "6ab7e029-d2b1-489f-cab6-62bda6a886ea"
   },
   "outputs": [
    {
     "data": {
      "text/html": [
       "<div>\n",
       "<style scoped>\n",
       "    .dataframe tbody tr th:only-of-type {\n",
       "        vertical-align: middle;\n",
       "    }\n",
       "\n",
       "    .dataframe tbody tr th {\n",
       "        vertical-align: top;\n",
       "    }\n",
       "\n",
       "    .dataframe thead th {\n",
       "        text-align: right;\n",
       "    }\n",
       "</style>\n",
       "<table border=\"1\" class=\"dataframe\">\n",
       "  <thead>\n",
       "    <tr style=\"text-align: right;\">\n",
       "      <th></th>\n",
       "      <th>TotalVote</th>\n",
       "      <th>Clinton</th>\n",
       "      <th>Obama</th>\n",
       "      <th>MalesPer100Females</th>\n",
       "      <th>AgeBelow35</th>\n",
       "      <th>Age35to65</th>\n",
       "      <th>Age65andAbove</th>\n",
       "      <th>White</th>\n",
       "      <th>Black</th>\n",
       "      <th>Asian</th>\n",
       "      <th>AmericanIndian</th>\n",
       "      <th>Hawaiian</th>\n",
       "      <th>Hispanic</th>\n",
       "      <th>HighSchool</th>\n",
       "      <th>Bachelors</th>\n",
       "      <th>Poverty</th>\n",
       "      <th>IncomeAbove75K</th>\n",
       "      <th>MedianIncome</th>\n",
       "      <th>AverageIncome</th>\n",
       "      <th>UnemployRate</th>\n",
       "      <th>ManfEmploy</th>\n",
       "      <th>SpeakingNonEnglish</th>\n",
       "      <th>Medicare</th>\n",
       "      <th>MedicareRate</th>\n",
       "      <th>SocialSecurity</th>\n",
       "      <th>SocialSecurityRate</th>\n",
       "      <th>RetiredWorkers</th>\n",
       "      <th>Disabilities</th>\n",
       "      <th>DisabilitiesRate</th>\n",
       "      <th>Homeowner</th>\n",
       "      <th>SameHouse1995and2000</th>\n",
       "      <th>Pop</th>\n",
       "      <th>PopDensity</th>\n",
       "      <th>LandArea</th>\n",
       "      <th>FarmArea</th>\n",
       "    </tr>\n",
       "  </thead>\n",
       "  <tbody>\n",
       "    <tr>\n",
       "      <th>0</th>\n",
       "      <td>75.0000</td>\n",
       "      <td>22.000000</td>\n",
       "      <td>24.000000</td>\n",
       "      <td>96.7</td>\n",
       "      <td>37.7</td>\n",
       "      <td>40.3</td>\n",
       "      <td>21.9</td>\n",
       "      <td>99.2</td>\n",
       "      <td>0.100000</td>\n",
       "      <td>0.5</td>\n",
       "      <td>1.68931</td>\n",
       "      <td>0.0</td>\n",
       "      <td>0.8</td>\n",
       "      <td>87.8</td>\n",
       "      <td>11.2</td>\n",
       "      <td>9.7</td>\n",
       "      <td>8.6</td>\n",
       "      <td>39568.0</td>\n",
       "      <td>29222.0</td>\n",
       "      <td>3.2</td>\n",
       "      <td>12.916739</td>\n",
       "      <td>2.0</td>\n",
       "      <td>1551.0</td>\n",
       "      <td>19735.0</td>\n",
       "      <td>1825.0</td>\n",
       "      <td>23222.0</td>\n",
       "      <td>1230.0</td>\n",
       "      <td>90.0</td>\n",
       "      <td>1145.0</td>\n",
       "      <td>75.0</td>\n",
       "      <td>66.0</td>\n",
       "      <td>7714.0</td>\n",
       "      <td>13.5</td>\n",
       "      <td>570.0</td>\n",
       "      <td>373.0</td>\n",
       "    </tr>\n",
       "    <tr>\n",
       "      <th>1</th>\n",
       "      <td>50.0000</td>\n",
       "      <td>18.000000</td>\n",
       "      <td>7.000000</td>\n",
       "      <td>96.8</td>\n",
       "      <td>37.1</td>\n",
       "      <td>40.8</td>\n",
       "      <td>22.1</td>\n",
       "      <td>99.2</td>\n",
       "      <td>9.900215</td>\n",
       "      <td>0.2</td>\n",
       "      <td>0.50000</td>\n",
       "      <td>0.0</td>\n",
       "      <td>0.6</td>\n",
       "      <td>84.5</td>\n",
       "      <td>12.0</td>\n",
       "      <td>10.6</td>\n",
       "      <td>7.8</td>\n",
       "      <td>35296.0</td>\n",
       "      <td>27297.0</td>\n",
       "      <td>4.6</td>\n",
       "      <td>6.964421</td>\n",
       "      <td>1.6</td>\n",
       "      <td>978.0</td>\n",
       "      <td>22936.0</td>\n",
       "      <td>1110.0</td>\n",
       "      <td>26032.0</td>\n",
       "      <td>720.0</td>\n",
       "      <td>78.0</td>\n",
       "      <td>1829.0</td>\n",
       "      <td>74.7</td>\n",
       "      <td>65.4</td>\n",
       "      <td>4192.0</td>\n",
       "      <td>9.9</td>\n",
       "      <td>425.0</td>\n",
       "      <td>238.0</td>\n",
       "    </tr>\n",
       "    <tr>\n",
       "      <th>2</th>\n",
       "      <td>80.0000</td>\n",
       "      <td>25.000000</td>\n",
       "      <td>33.000000</td>\n",
       "      <td>104.5</td>\n",
       "      <td>41.5</td>\n",
       "      <td>40.8</td>\n",
       "      <td>17.7</td>\n",
       "      <td>99.0</td>\n",
       "      <td>0.200000</td>\n",
       "      <td>0.2</td>\n",
       "      <td>0.30000</td>\n",
       "      <td>0.0</td>\n",
       "      <td>6.9</td>\n",
       "      <td>81.4</td>\n",
       "      <td>14.4</td>\n",
       "      <td>10.8</td>\n",
       "      <td>10.7</td>\n",
       "      <td>36822.0</td>\n",
       "      <td>25579.0</td>\n",
       "      <td>4.6</td>\n",
       "      <td>16.473466</td>\n",
       "      <td>8.2</td>\n",
       "      <td>2838.0</td>\n",
       "      <td>19294.0</td>\n",
       "      <td>3270.0</td>\n",
       "      <td>22231.0</td>\n",
       "      <td>2245.0</td>\n",
       "      <td>186.0</td>\n",
       "      <td>1265.0</td>\n",
       "      <td>76.4</td>\n",
       "      <td>64.1</td>\n",
       "      <td>14796.0</td>\n",
       "      <td>23.1</td>\n",
       "      <td>659.0</td>\n",
       "      <td>326.0</td>\n",
       "    </tr>\n",
       "    <tr>\n",
       "      <th>3</th>\n",
       "      <td>60.0000</td>\n",
       "      <td>17.000000</td>\n",
       "      <td>10.000000</td>\n",
       "      <td>94.0</td>\n",
       "      <td>42.0</td>\n",
       "      <td>39.2</td>\n",
       "      <td>18.9</td>\n",
       "      <td>98.5</td>\n",
       "      <td>0.700000</td>\n",
       "      <td>0.4</td>\n",
       "      <td>0.10000</td>\n",
       "      <td>0.0</td>\n",
       "      <td>1.1</td>\n",
       "      <td>81.4</td>\n",
       "      <td>12.2</td>\n",
       "      <td>14.9</td>\n",
       "      <td>6.6</td>\n",
       "      <td>31764.0</td>\n",
       "      <td>23705.0</td>\n",
       "      <td>5.4</td>\n",
       "      <td>15.080881</td>\n",
       "      <td>2.5</td>\n",
       "      <td>3072.0</td>\n",
       "      <td>22479.0</td>\n",
       "      <td>3415.0</td>\n",
       "      <td>24989.0</td>\n",
       "      <td>2050.0</td>\n",
       "      <td>453.0</td>\n",
       "      <td>3315.0</td>\n",
       "      <td>74.0</td>\n",
       "      <td>60.2</td>\n",
       "      <td>13422.0</td>\n",
       "      <td>27.0</td>\n",
       "      <td>516.0</td>\n",
       "      <td>236.0</td>\n",
       "    </tr>\n",
       "    <tr>\n",
       "      <th>4</th>\n",
       "      <td>48.0000</td>\n",
       "      <td>16.000000</td>\n",
       "      <td>17.000000</td>\n",
       "      <td>94.7</td>\n",
       "      <td>37.4</td>\n",
       "      <td>40.2</td>\n",
       "      <td>22.5</td>\n",
       "      <td>99.3</td>\n",
       "      <td>0.200000</td>\n",
       "      <td>0.2</td>\n",
       "      <td>0.10000</td>\n",
       "      <td>0.0</td>\n",
       "      <td>0.6</td>\n",
       "      <td>82.5</td>\n",
       "      <td>12.3</td>\n",
       "      <td>9.2</td>\n",
       "      <td>9.7</td>\n",
       "      <td>38941.0</td>\n",
       "      <td>31100.0</td>\n",
       "      <td>4.1</td>\n",
       "      <td>8.333333</td>\n",
       "      <td>2.7</td>\n",
       "      <td>1472.0</td>\n",
       "      <td>22797.0</td>\n",
       "      <td>1740.0</td>\n",
       "      <td>26947.0</td>\n",
       "      <td>1150.0</td>\n",
       "      <td>79.0</td>\n",
       "      <td>1223.0</td>\n",
       "      <td>79.2</td>\n",
       "      <td>70.4</td>\n",
       "      <td>6278.0</td>\n",
       "      <td>14.2</td>\n",
       "      <td>444.0</td>\n",
       "      <td>261.0</td>\n",
       "    </tr>\n",
       "    <tr>\n",
       "      <th>...</th>\n",
       "      <td>...</td>\n",
       "      <td>...</td>\n",
       "      <td>...</td>\n",
       "      <td>...</td>\n",
       "      <td>...</td>\n",
       "      <td>...</td>\n",
       "      <td>...</td>\n",
       "      <td>...</td>\n",
       "      <td>...</td>\n",
       "      <td>...</td>\n",
       "      <td>...</td>\n",
       "      <td>...</td>\n",
       "      <td>...</td>\n",
       "      <td>...</td>\n",
       "      <td>...</td>\n",
       "      <td>...</td>\n",
       "      <td>...</td>\n",
       "      <td>...</td>\n",
       "      <td>...</td>\n",
       "      <td>...</td>\n",
       "      <td>...</td>\n",
       "      <td>...</td>\n",
       "      <td>...</td>\n",
       "      <td>...</td>\n",
       "      <td>...</td>\n",
       "      <td>...</td>\n",
       "      <td>...</td>\n",
       "      <td>...</td>\n",
       "      <td>...</td>\n",
       "      <td>...</td>\n",
       "      <td>...</td>\n",
       "      <td>...</td>\n",
       "      <td>...</td>\n",
       "      <td>...</td>\n",
       "      <td>...</td>\n",
       "    </tr>\n",
       "    <tr>\n",
       "      <th>2863</th>\n",
       "      <td>12863.7962</td>\n",
       "      <td>5973.738054</td>\n",
       "      <td>6178.122625</td>\n",
       "      <td>100.6</td>\n",
       "      <td>40.3</td>\n",
       "      <td>40.7</td>\n",
       "      <td>19.0</td>\n",
       "      <td>98.8</td>\n",
       "      <td>0.200000</td>\n",
       "      <td>0.2</td>\n",
       "      <td>0.50000</td>\n",
       "      <td>0.0</td>\n",
       "      <td>0.5</td>\n",
       "      <td>83.2</td>\n",
       "      <td>17.0</td>\n",
       "      <td>8.9</td>\n",
       "      <td>11.2</td>\n",
       "      <td>39360.0</td>\n",
       "      <td>32864.0</td>\n",
       "      <td>3.1</td>\n",
       "      <td>3.754185</td>\n",
       "      <td>3.7</td>\n",
       "      <td>1730.0</td>\n",
       "      <td>20305.0</td>\n",
       "      <td>1885.0</td>\n",
       "      <td>22124.0</td>\n",
       "      <td>1210.0</td>\n",
       "      <td>73.0</td>\n",
       "      <td>857.0</td>\n",
       "      <td>77.5</td>\n",
       "      <td>65.5</td>\n",
       "      <td>8540.0</td>\n",
       "      <td>13.8</td>\n",
       "      <td>617.0</td>\n",
       "      <td>348.0</td>\n",
       "    </tr>\n",
       "    <tr>\n",
       "      <th>2864</th>\n",
       "      <td>12863.7962</td>\n",
       "      <td>5973.738054</td>\n",
       "      <td>6178.122625</td>\n",
       "      <td>101.0</td>\n",
       "      <td>44.0</td>\n",
       "      <td>43.0</td>\n",
       "      <td>13.1</td>\n",
       "      <td>96.6</td>\n",
       "      <td>0.400000</td>\n",
       "      <td>1.7</td>\n",
       "      <td>0.60000</td>\n",
       "      <td>0.0</td>\n",
       "      <td>1.8</td>\n",
       "      <td>87.2</td>\n",
       "      <td>26.3</td>\n",
       "      <td>6.9</td>\n",
       "      <td>21.1</td>\n",
       "      <td>51424.0</td>\n",
       "      <td>43056.0</td>\n",
       "      <td>3.5</td>\n",
       "      <td>16.376826</td>\n",
       "      <td>4.1</td>\n",
       "      <td>2172.0</td>\n",
       "      <td>16134.0</td>\n",
       "      <td>2365.0</td>\n",
       "      <td>17568.0</td>\n",
       "      <td>1615.0</td>\n",
       "      <td>76.0</td>\n",
       "      <td>565.0</td>\n",
       "      <td>74.4</td>\n",
       "      <td>54.4</td>\n",
       "      <td>13745.0</td>\n",
       "      <td>29.9</td>\n",
       "      <td>467.0</td>\n",
       "      <td>277.0</td>\n",
       "    </tr>\n",
       "    <tr>\n",
       "      <th>2865</th>\n",
       "      <td>12863.7962</td>\n",
       "      <td>5973.738054</td>\n",
       "      <td>6178.122625</td>\n",
       "      <td>95.2</td>\n",
       "      <td>38.1</td>\n",
       "      <td>40.0</td>\n",
       "      <td>22.0</td>\n",
       "      <td>84.4</td>\n",
       "      <td>9.900215</td>\n",
       "      <td>0.2</td>\n",
       "      <td>14.40000</td>\n",
       "      <td>0.0</td>\n",
       "      <td>0.7</td>\n",
       "      <td>78.1</td>\n",
       "      <td>15.8</td>\n",
       "      <td>16.0</td>\n",
       "      <td>7.6</td>\n",
       "      <td>31907.0</td>\n",
       "      <td>27248.0</td>\n",
       "      <td>4.2</td>\n",
       "      <td>10.656417</td>\n",
       "      <td>9.6</td>\n",
       "      <td>855.0</td>\n",
       "      <td>15562.0</td>\n",
       "      <td>1475.0</td>\n",
       "      <td>26847.0</td>\n",
       "      <td>1000.0</td>\n",
       "      <td>133.0</td>\n",
       "      <td>2421.0</td>\n",
       "      <td>71.3</td>\n",
       "      <td>57.9</td>\n",
       "      <td>5425.0</td>\n",
       "      <td>7.7</td>\n",
       "      <td>744.0</td>\n",
       "      <td>427.0</td>\n",
       "    </tr>\n",
       "    <tr>\n",
       "      <th>2866</th>\n",
       "      <td>12863.7962</td>\n",
       "      <td>5973.738054</td>\n",
       "      <td>6178.122625</td>\n",
       "      <td>105.9</td>\n",
       "      <td>44.0</td>\n",
       "      <td>41.1</td>\n",
       "      <td>14.8</td>\n",
       "      <td>95.8</td>\n",
       "      <td>1.500000</td>\n",
       "      <td>0.5</td>\n",
       "      <td>1.60000</td>\n",
       "      <td>0.0</td>\n",
       "      <td>2.6</td>\n",
       "      <td>86.1</td>\n",
       "      <td>23.0</td>\n",
       "      <td>12.8</td>\n",
       "      <td>11.0</td>\n",
       "      <td>40371.0</td>\n",
       "      <td>28928.0</td>\n",
       "      <td>3.0</td>\n",
       "      <td>17.977759</td>\n",
       "      <td>5.6</td>\n",
       "      <td>3641.0</td>\n",
       "      <td>16765.0</td>\n",
       "      <td>4190.0</td>\n",
       "      <td>19293.0</td>\n",
       "      <td>2845.0</td>\n",
       "      <td>317.0</td>\n",
       "      <td>1460.0</td>\n",
       "      <td>69.1</td>\n",
       "      <td>54.9</td>\n",
       "      <td>21779.0</td>\n",
       "      <td>41.8</td>\n",
       "      <td>533.0</td>\n",
       "      <td>342.0</td>\n",
       "    </tr>\n",
       "    <tr>\n",
       "      <th>2867</th>\n",
       "      <td>12863.7962</td>\n",
       "      <td>5973.738054</td>\n",
       "      <td>6178.122625</td>\n",
       "      <td>96.6</td>\n",
       "      <td>61.1</td>\n",
       "      <td>31.8</td>\n",
       "      <td>7.3</td>\n",
       "      <td>25.5</td>\n",
       "      <td>9.900215</td>\n",
       "      <td>0.3</td>\n",
       "      <td>74.00000</td>\n",
       "      <td>0.0</td>\n",
       "      <td>1.1</td>\n",
       "      <td>71.4</td>\n",
       "      <td>12.0</td>\n",
       "      <td>39.4</td>\n",
       "      <td>4.2</td>\n",
       "      <td>21213.0</td>\n",
       "      <td>17353.0</td>\n",
       "      <td>6.5</td>\n",
       "      <td>10.656417</td>\n",
       "      <td>23.8</td>\n",
       "      <td>147.0</td>\n",
       "      <td>5587.0</td>\n",
       "      <td>180.0</td>\n",
       "      <td>6842.0</td>\n",
       "      <td>100.0</td>\n",
       "      <td>74.0</td>\n",
       "      <td>2813.0</td>\n",
       "      <td>59.4</td>\n",
       "      <td>64.8</td>\n",
       "      <td>2706.0</td>\n",
       "      <td>1.4</td>\n",
       "      <td>1971.0</td>\n",
       "      <td>1173.0</td>\n",
       "    </tr>\n",
       "  </tbody>\n",
       "</table>\n",
       "<p>2868 rows × 35 columns</p>\n",
       "</div>"
      ],
      "text/plain": [
       "       TotalVote      Clinton        Obama  ...  PopDensity  LandArea  FarmArea\n",
       "0        75.0000    22.000000    24.000000  ...        13.5     570.0     373.0\n",
       "1        50.0000    18.000000     7.000000  ...         9.9     425.0     238.0\n",
       "2        80.0000    25.000000    33.000000  ...        23.1     659.0     326.0\n",
       "3        60.0000    17.000000    10.000000  ...        27.0     516.0     236.0\n",
       "4        48.0000    16.000000    17.000000  ...        14.2     444.0     261.0\n",
       "...          ...          ...          ...  ...         ...       ...       ...\n",
       "2863  12863.7962  5973.738054  6178.122625  ...        13.8     617.0     348.0\n",
       "2864  12863.7962  5973.738054  6178.122625  ...        29.9     467.0     277.0\n",
       "2865  12863.7962  5973.738054  6178.122625  ...         7.7     744.0     427.0\n",
       "2866  12863.7962  5973.738054  6178.122625  ...        41.8     533.0     342.0\n",
       "2867  12863.7962  5973.738054  6178.122625  ...         1.4    1971.0    1173.0\n",
       "\n",
       "[2868 rows x 35 columns]"
      ]
     },
     "execution_count": 258,
     "metadata": {
      "tags": []
     },
     "output_type": "execute_result"
    }
   ],
   "source": [
    "#impute missing variables with mean of each column\n",
    "from sklearn.impute import SimpleImputer \n",
    "\n",
    "imputer = SimpleImputer(missing_values= np.nan, strategy='mean')\n",
    "imputer = imputer.fit(data.iloc[:,6:])\n",
    "\n",
    "data.iloc[:,6:] = imputer.transform(data.iloc[:,6:])\n",
    "\n",
    "#display only numeric columns from 6 to 41\n",
    "data.iloc[:,6:]"
   ]
  },
  {
   "cell_type": "code",
   "execution_count": 259,
   "metadata": {
    "colab": {
     "base_uri": "https://localhost:8080/"
    },
    "id": "xfjrYohQDD7h",
    "outputId": "6a884337-853b-40e1-c33f-0a949daf3fcd"
   },
   "outputs": [
    {
     "data": {
      "text/plain": [
       "County                  0\n",
       "State                   0\n",
       "Region                  0\n",
       "FIPS                    0\n",
       "ElectionDate            0\n",
       "ElectionType            0\n",
       "TotalVote               0\n",
       "Clinton                 0\n",
       "Obama                   0\n",
       "MalesPer100Females      0\n",
       "AgeBelow35              0\n",
       "Age35to65               0\n",
       "Age65andAbove           0\n",
       "White                   0\n",
       "Black                   0\n",
       "Asian                   0\n",
       "AmericanIndian          0\n",
       "Hawaiian                0\n",
       " Hispanic               0\n",
       "HighSchool              0\n",
       "Bachelors               0\n",
       "Poverty                 0\n",
       "IncomeAbove75K          0\n",
       "MedianIncome            0\n",
       "AverageIncome           0\n",
       "UnemployRate            0\n",
       "ManfEmploy              0\n",
       "SpeakingNonEnglish      0\n",
       "Medicare                0\n",
       "MedicareRate            0\n",
       "SocialSecurity          0\n",
       "SocialSecurityRate      0\n",
       "RetiredWorkers          0\n",
       "Disabilities            0\n",
       "DisabilitiesRate        0\n",
       "Homeowner               0\n",
       "SameHouse1995and2000    0\n",
       "Pop                     0\n",
       "PopDensity              0\n",
       "LandArea                0\n",
       "FarmArea                0\n",
       "dtype: int64"
      ]
     },
     "execution_count": 259,
     "metadata": {
      "tags": []
     },
     "output_type": "execute_result"
    }
   ],
   "source": [
    "# Checking the missing values\n",
    "data.isnull().sum()"
   ]
  },
  {
   "cell_type": "markdown",
   "metadata": {
    "id": "q8gmhrKxDD7h"
   },
   "source": [
    "## Splitting the data to train (*before 19 Feb 2008 inclusive*) and test (*after 19 Feb 2008*) sets\n",
    "\n",
    "First we should convert `ElectionDate` column to datatime format."
   ]
  },
  {
   "cell_type": "code",
   "execution_count": 260,
   "metadata": {
    "id": "UX_roZMIDD7h"
   },
   "outputs": [],
   "source": [
    "data['ElectionDate'] = pd.to_datetime(data.ElectionDate)"
   ]
  },
  {
   "cell_type": "code",
   "execution_count": 261,
   "metadata": {
    "colab": {
     "base_uri": "https://localhost:8080/",
     "height": 0
    },
    "id": "2Ae4w7JnDD7h",
    "outputId": "a7ec6170-2712-4be7-f089-fed0821cb515"
   },
   "outputs": [
    {
     "name": "stdout",
     "output_type": "stream",
     "text": [
      "Train set size:  (1737, 41)\n",
      "Test set size:  (1131, 41)\n"
     ]
    },
    {
     "data": {
      "text/html": [
       "<div>\n",
       "<style scoped>\n",
       "    .dataframe tbody tr th:only-of-type {\n",
       "        vertical-align: middle;\n",
       "    }\n",
       "\n",
       "    .dataframe tbody tr th {\n",
       "        vertical-align: top;\n",
       "    }\n",
       "\n",
       "    .dataframe thead th {\n",
       "        text-align: right;\n",
       "    }\n",
       "</style>\n",
       "<table border=\"1\" class=\"dataframe\">\n",
       "  <thead>\n",
       "    <tr style=\"text-align: right;\">\n",
       "      <th></th>\n",
       "      <th>County</th>\n",
       "      <th>State</th>\n",
       "      <th>Region</th>\n",
       "      <th>FIPS</th>\n",
       "      <th>ElectionDate</th>\n",
       "      <th>ElectionType</th>\n",
       "      <th>TotalVote</th>\n",
       "      <th>Clinton</th>\n",
       "      <th>Obama</th>\n",
       "      <th>MalesPer100Females</th>\n",
       "      <th>AgeBelow35</th>\n",
       "      <th>Age35to65</th>\n",
       "      <th>Age65andAbove</th>\n",
       "      <th>White</th>\n",
       "      <th>Black</th>\n",
       "      <th>Asian</th>\n",
       "      <th>AmericanIndian</th>\n",
       "      <th>Hawaiian</th>\n",
       "      <th>Hispanic</th>\n",
       "      <th>HighSchool</th>\n",
       "      <th>Bachelors</th>\n",
       "      <th>Poverty</th>\n",
       "      <th>IncomeAbove75K</th>\n",
       "      <th>MedianIncome</th>\n",
       "      <th>AverageIncome</th>\n",
       "      <th>UnemployRate</th>\n",
       "      <th>ManfEmploy</th>\n",
       "      <th>SpeakingNonEnglish</th>\n",
       "      <th>Medicare</th>\n",
       "      <th>MedicareRate</th>\n",
       "      <th>SocialSecurity</th>\n",
       "      <th>SocialSecurityRate</th>\n",
       "      <th>RetiredWorkers</th>\n",
       "      <th>Disabilities</th>\n",
       "      <th>DisabilitiesRate</th>\n",
       "      <th>Homeowner</th>\n",
       "      <th>SameHouse1995and2000</th>\n",
       "      <th>Pop</th>\n",
       "      <th>PopDensity</th>\n",
       "      <th>LandArea</th>\n",
       "      <th>FarmArea</th>\n",
       "    </tr>\n",
       "  </thead>\n",
       "  <tbody>\n",
       "    <tr>\n",
       "      <th>0</th>\n",
       "      <td>Adair</td>\n",
       "      <td>IA</td>\n",
       "      <td>Midwest</td>\n",
       "      <td>19001</td>\n",
       "      <td>2008-01-03</td>\n",
       "      <td>Caucuses</td>\n",
       "      <td>75.0</td>\n",
       "      <td>22.0</td>\n",
       "      <td>24.0</td>\n",
       "      <td>96.7</td>\n",
       "      <td>37.7</td>\n",
       "      <td>40.3</td>\n",
       "      <td>21.9</td>\n",
       "      <td>99.2</td>\n",
       "      <td>0.100000</td>\n",
       "      <td>0.5</td>\n",
       "      <td>1.68931</td>\n",
       "      <td>0.0</td>\n",
       "      <td>0.8</td>\n",
       "      <td>87.8</td>\n",
       "      <td>11.2</td>\n",
       "      <td>9.7</td>\n",
       "      <td>8.6</td>\n",
       "      <td>39568.0</td>\n",
       "      <td>29222.0</td>\n",
       "      <td>3.2</td>\n",
       "      <td>12.916739</td>\n",
       "      <td>2.0</td>\n",
       "      <td>1551.0</td>\n",
       "      <td>19735.0</td>\n",
       "      <td>1825.0</td>\n",
       "      <td>23222.0</td>\n",
       "      <td>1230.0</td>\n",
       "      <td>90.0</td>\n",
       "      <td>1145.0</td>\n",
       "      <td>75.0</td>\n",
       "      <td>66.0</td>\n",
       "      <td>7714.0</td>\n",
       "      <td>13.5</td>\n",
       "      <td>570.0</td>\n",
       "      <td>373.0</td>\n",
       "    </tr>\n",
       "    <tr>\n",
       "      <th>1</th>\n",
       "      <td>Adams</td>\n",
       "      <td>IA</td>\n",
       "      <td>Midwest</td>\n",
       "      <td>19003</td>\n",
       "      <td>2008-01-03</td>\n",
       "      <td>Caucuses</td>\n",
       "      <td>50.0</td>\n",
       "      <td>18.0</td>\n",
       "      <td>7.0</td>\n",
       "      <td>96.8</td>\n",
       "      <td>37.1</td>\n",
       "      <td>40.8</td>\n",
       "      <td>22.1</td>\n",
       "      <td>99.2</td>\n",
       "      <td>9.900215</td>\n",
       "      <td>0.2</td>\n",
       "      <td>0.50000</td>\n",
       "      <td>0.0</td>\n",
       "      <td>0.6</td>\n",
       "      <td>84.5</td>\n",
       "      <td>12.0</td>\n",
       "      <td>10.6</td>\n",
       "      <td>7.8</td>\n",
       "      <td>35296.0</td>\n",
       "      <td>27297.0</td>\n",
       "      <td>4.6</td>\n",
       "      <td>6.964421</td>\n",
       "      <td>1.6</td>\n",
       "      <td>978.0</td>\n",
       "      <td>22936.0</td>\n",
       "      <td>1110.0</td>\n",
       "      <td>26032.0</td>\n",
       "      <td>720.0</td>\n",
       "      <td>78.0</td>\n",
       "      <td>1829.0</td>\n",
       "      <td>74.7</td>\n",
       "      <td>65.4</td>\n",
       "      <td>4192.0</td>\n",
       "      <td>9.9</td>\n",
       "      <td>425.0</td>\n",
       "      <td>238.0</td>\n",
       "    </tr>\n",
       "    <tr>\n",
       "      <th>2</th>\n",
       "      <td>Allamakee</td>\n",
       "      <td>IA</td>\n",
       "      <td>Midwest</td>\n",
       "      <td>19005</td>\n",
       "      <td>2008-01-03</td>\n",
       "      <td>Caucuses</td>\n",
       "      <td>80.0</td>\n",
       "      <td>25.0</td>\n",
       "      <td>33.0</td>\n",
       "      <td>104.5</td>\n",
       "      <td>41.5</td>\n",
       "      <td>40.8</td>\n",
       "      <td>17.7</td>\n",
       "      <td>99.0</td>\n",
       "      <td>0.200000</td>\n",
       "      <td>0.2</td>\n",
       "      <td>0.30000</td>\n",
       "      <td>0.0</td>\n",
       "      <td>6.9</td>\n",
       "      <td>81.4</td>\n",
       "      <td>14.4</td>\n",
       "      <td>10.8</td>\n",
       "      <td>10.7</td>\n",
       "      <td>36822.0</td>\n",
       "      <td>25579.0</td>\n",
       "      <td>4.6</td>\n",
       "      <td>16.473466</td>\n",
       "      <td>8.2</td>\n",
       "      <td>2838.0</td>\n",
       "      <td>19294.0</td>\n",
       "      <td>3270.0</td>\n",
       "      <td>22231.0</td>\n",
       "      <td>2245.0</td>\n",
       "      <td>186.0</td>\n",
       "      <td>1265.0</td>\n",
       "      <td>76.4</td>\n",
       "      <td>64.1</td>\n",
       "      <td>14796.0</td>\n",
       "      <td>23.1</td>\n",
       "      <td>659.0</td>\n",
       "      <td>326.0</td>\n",
       "    </tr>\n",
       "    <tr>\n",
       "      <th>3</th>\n",
       "      <td>Appanoose</td>\n",
       "      <td>IA</td>\n",
       "      <td>Midwest</td>\n",
       "      <td>19007</td>\n",
       "      <td>2008-01-03</td>\n",
       "      <td>Caucuses</td>\n",
       "      <td>60.0</td>\n",
       "      <td>17.0</td>\n",
       "      <td>10.0</td>\n",
       "      <td>94.0</td>\n",
       "      <td>42.0</td>\n",
       "      <td>39.2</td>\n",
       "      <td>18.9</td>\n",
       "      <td>98.5</td>\n",
       "      <td>0.700000</td>\n",
       "      <td>0.4</td>\n",
       "      <td>0.10000</td>\n",
       "      <td>0.0</td>\n",
       "      <td>1.1</td>\n",
       "      <td>81.4</td>\n",
       "      <td>12.2</td>\n",
       "      <td>14.9</td>\n",
       "      <td>6.6</td>\n",
       "      <td>31764.0</td>\n",
       "      <td>23705.0</td>\n",
       "      <td>5.4</td>\n",
       "      <td>15.080881</td>\n",
       "      <td>2.5</td>\n",
       "      <td>3072.0</td>\n",
       "      <td>22479.0</td>\n",
       "      <td>3415.0</td>\n",
       "      <td>24989.0</td>\n",
       "      <td>2050.0</td>\n",
       "      <td>453.0</td>\n",
       "      <td>3315.0</td>\n",
       "      <td>74.0</td>\n",
       "      <td>60.2</td>\n",
       "      <td>13422.0</td>\n",
       "      <td>27.0</td>\n",
       "      <td>516.0</td>\n",
       "      <td>236.0</td>\n",
       "    </tr>\n",
       "    <tr>\n",
       "      <th>4</th>\n",
       "      <td>Audubon</td>\n",
       "      <td>IA</td>\n",
       "      <td>Midwest</td>\n",
       "      <td>19009</td>\n",
       "      <td>2008-01-03</td>\n",
       "      <td>Caucuses</td>\n",
       "      <td>48.0</td>\n",
       "      <td>16.0</td>\n",
       "      <td>17.0</td>\n",
       "      <td>94.7</td>\n",
       "      <td>37.4</td>\n",
       "      <td>40.2</td>\n",
       "      <td>22.5</td>\n",
       "      <td>99.3</td>\n",
       "      <td>0.200000</td>\n",
       "      <td>0.2</td>\n",
       "      <td>0.10000</td>\n",
       "      <td>0.0</td>\n",
       "      <td>0.6</td>\n",
       "      <td>82.5</td>\n",
       "      <td>12.3</td>\n",
       "      <td>9.2</td>\n",
       "      <td>9.7</td>\n",
       "      <td>38941.0</td>\n",
       "      <td>31100.0</td>\n",
       "      <td>4.1</td>\n",
       "      <td>8.333333</td>\n",
       "      <td>2.7</td>\n",
       "      <td>1472.0</td>\n",
       "      <td>22797.0</td>\n",
       "      <td>1740.0</td>\n",
       "      <td>26947.0</td>\n",
       "      <td>1150.0</td>\n",
       "      <td>79.0</td>\n",
       "      <td>1223.0</td>\n",
       "      <td>79.2</td>\n",
       "      <td>70.4</td>\n",
       "      <td>6278.0</td>\n",
       "      <td>14.2</td>\n",
       "      <td>444.0</td>\n",
       "      <td>261.0</td>\n",
       "    </tr>\n",
       "  </tbody>\n",
       "</table>\n",
       "</div>"
      ],
      "text/plain": [
       "      County State   Region   FIPS  ...      Pop PopDensity  LandArea  FarmArea\n",
       "0      Adair    IA  Midwest  19001  ...   7714.0       13.5     570.0     373.0\n",
       "1      Adams    IA  Midwest  19003  ...   4192.0        9.9     425.0     238.0\n",
       "2  Allamakee    IA  Midwest  19005  ...  14796.0       23.1     659.0     326.0\n",
       "3  Appanoose    IA  Midwest  19007  ...  13422.0       27.0     516.0     236.0\n",
       "4    Audubon    IA  Midwest  19009  ...   6278.0       14.2     444.0     261.0\n",
       "\n",
       "[5 rows x 41 columns]"
      ]
     },
     "execution_count": 261,
     "metadata": {
      "tags": []
     },
     "output_type": "execute_result"
    }
   ],
   "source": [
    "#Splitting the data to train and test\n",
    "dataTrain = data[data.ElectionDate < '2/19/2008']\n",
    "dataTest = data[data.ElectionDate >= '2/19/2008']\n",
    "\n",
    "print(\"Train set size: \", dataTrain.shape)\n",
    "print(\"Test set size: \", dataTest.shape)\n",
    "dataTrain.head()"
   ]
  },
  {
   "cell_type": "markdown",
   "metadata": {
    "id": "WGVn7K1TDD7h"
   },
   "source": [
    "As you see we split the data correctly giving filled null value rows with mean to data test.\n",
    "\n",
    "\n",
    "## Creating a new columns with Obama's vote margin and etc.\n",
    "\n",
    "This helps to predict wins or not Obama."
   ]
  },
  {
   "cell_type": "markdown",
   "metadata": {
    "id": "UI3M0TjZlDsS"
   },
   "source": [
    "`ObamaMargin` is column that indicates the difference between votes of two candidates, while `ObamaMarginPercent` is a percent of `ObamaMargin` to `TotalVote`. `ObamaWins` is binary column."
   ]
  },
  {
   "cell_type": "code",
   "execution_count": 262,
   "metadata": {
    "colab": {
     "base_uri": "https://localhost:8080/"
    },
    "id": "n9SePBqDDD7h",
    "outputId": "25736930-0239-4d6d-a812-313b69714877"
   },
   "outputs": [
    {
     "name": "stderr",
     "output_type": "stream",
     "text": [
      "/usr/local/lib/python3.6/dist-packages/ipykernel_launcher.py:1: SettingWithCopyWarning: \n",
      "A value is trying to be set on a copy of a slice from a DataFrame.\n",
      "Try using .loc[row_indexer,col_indexer] = value instead\n",
      "\n",
      "See the caveats in the documentation: https://pandas.pydata.org/pandas-docs/stable/user_guide/indexing.html#returning-a-view-versus-a-copy\n",
      "  \"\"\"Entry point for launching an IPython kernel.\n",
      "/usr/local/lib/python3.6/dist-packages/ipykernel_launcher.py:2: SettingWithCopyWarning: \n",
      "A value is trying to be set on a copy of a slice from a DataFrame.\n",
      "Try using .loc[row_indexer,col_indexer] = value instead\n",
      "\n",
      "See the caveats in the documentation: https://pandas.pydata.org/pandas-docs/stable/user_guide/indexing.html#returning-a-view-versus-a-copy\n",
      "  \n",
      "/usr/local/lib/python3.6/dist-packages/ipykernel_launcher.py:3: SettingWithCopyWarning: \n",
      "A value is trying to be set on a copy of a slice from a DataFrame.\n",
      "Try using .loc[row_indexer,col_indexer] = value instead\n",
      "\n",
      "See the caveats in the documentation: https://pandas.pydata.org/pandas-docs/stable/user_guide/indexing.html#returning-a-view-versus-a-copy\n",
      "  This is separate from the ipykernel package so we can avoid doing imports until\n",
      "/usr/local/lib/python3.6/dist-packages/ipykernel_launcher.py:5: SettingWithCopyWarning: \n",
      "A value is trying to be set on a copy of a slice from a DataFrame.\n",
      "Try using .loc[row_indexer,col_indexer] = value instead\n",
      "\n",
      "See the caveats in the documentation: https://pandas.pydata.org/pandas-docs/stable/user_guide/indexing.html#returning-a-view-versus-a-copy\n",
      "  \"\"\"\n",
      "/usr/local/lib/python3.6/dist-packages/ipykernel_launcher.py:6: SettingWithCopyWarning: \n",
      "A value is trying to be set on a copy of a slice from a DataFrame.\n",
      "Try using .loc[row_indexer,col_indexer] = value instead\n",
      "\n",
      "See the caveats in the documentation: https://pandas.pydata.org/pandas-docs/stable/user_guide/indexing.html#returning-a-view-versus-a-copy\n",
      "  \n"
     ]
    }
   ],
   "source": [
    "dataTrain['ObamaMargin'] = dataTrain.Obama - dataTrain.Clinton\n",
    "dataTrain['ObamaMarginPercent'] = dataTrain.ObamaMargin / dataTrain.TotalVote\n",
    "dataTrain['ObamaWins'] = np.where(dataTrain.ObamaMargin > 0, 1, 0)\n",
    "\n",
    "dataTrain['BlackMargin'] = dataTrain.Black - dataTrain.White\n",
    "dataTrain['BlackCounty'] = np.where(dataTrain.BlackMargin > 0, 1, 0)\n"
   ]
  },
  {
   "cell_type": "code",
   "execution_count": 263,
   "metadata": {
    "colab": {
     "base_uri": "https://localhost:8080/"
    },
    "id": "WJU2OZHdDD7i",
    "outputId": "fef2aa28-b752-46e0-b025-217b98e2d2b2"
   },
   "outputs": [
    {
     "data": {
      "text/plain": [
       "0       0\n",
       "1       0\n",
       "2       0\n",
       "3       0\n",
       "4       0\n",
       "       ..\n",
       "1732    0\n",
       "1733    0\n",
       "1734    0\n",
       "1735    0\n",
       "1736    0\n",
       "Name: BlackCounty, Length: 1737, dtype: int64"
      ]
     },
     "execution_count": 263,
     "metadata": {
      "tags": []
     },
     "output_type": "execute_result"
    }
   ],
   "source": [
    "dataTrain.BlackCounty"
   ]
  },
  {
   "cell_type": "markdown",
   "metadata": {
    "id": "XxYbZPt-DD7i"
   },
   "source": [
    "## Data Vizualizations"
   ]
  },
  {
   "cell_type": "markdown",
   "metadata": {
    "id": "qvSqkm_SSIZ-"
   },
   "source": [
    "### How Obama's margin changed over time?"
   ]
  },
  {
   "cell_type": "code",
   "execution_count": 264,
   "metadata": {
    "colab": {
     "base_uri": "https://localhost:8080/",
     "height": 0
    },
    "id": "YQcjet2VDD7i",
    "outputId": "68690933-9144-4f48-89b2-da68774df791"
   },
   "outputs": [
    {
     "data": {
      "image/png": "[encoded data removed]",
      "text/plain": [
       "<Figure size 1080x360 with 1 Axes>"
      ]
     },
     "metadata": {
      "needs_background": "light",
      "tags": []
     },
     "output_type": "display_data"
    }
   ],
   "source": [
    "from statsmodels.nonparametric.smoothers_lowess import lowess\n",
    "\n",
    "plt.figure(figsize=(15,5))\n",
    "plt.plot(dataTrain.ElectionDate, dataTrain.ObamaMarginPercent, 'o', fillstyle='none', color='blue');\n",
    "plt.xticks(rotation='30')\n",
    "plt.ylabel('Obama margin (% of total)')\n",
    "plt.title(\"How Obama's margin changed over time\")\n",
    "\n",
    "# calculate a smooth curve through the scatter plot\n",
    "ys = lowess(dataTrain.ObamaMarginPercent, dataTrain.ElectionDate)[:,1]\n",
    "_ = plt.plot(dataTrain.ElectionDate, ys,'red',linewidth=2)\n",
    "\n",
    "# More info on LOWESS: https://stackoverflow.com/questions/23784399/how-to-visualize-a-nonlinear-relationship-in-a-scatter-plot"
   ]
  },
  {
   "cell_type": "markdown",
   "metadata": {
    "id": "35DvNyrQSRBT"
   },
   "source": [
    "### What if the county have more blacks than whites? Is that county would vote to Obama? **Yes, absolutely.**"
   ]
  },
  {
   "cell_type": "code",
   "execution_count": 265,
   "metadata": {
    "colab": {
     "base_uri": "https://localhost:8080/",
     "height": 0
    },
    "id": "QkffHZkYFAoR",
    "outputId": "41c0c51f-77fd-40d8-b7e8-9ec8003ed5db"
   },
   "outputs": [
    {
     "data": {
      "text/plain": [
       "<matplotlib.axes._subplots.AxesSubplot at 0x7f51b23131d0>"
      ]
     },
     "execution_count": 265,
     "metadata": {
      "tags": []
     },
     "output_type": "execute_result"
    },
    {
     "data": {
      "image/png": "[encoded data removed]",
      "text/plain": [
       "<Figure size 1080x360 with 1 Axes>"
      ]
     },
     "metadata": {
      "needs_background": "light",
      "tags": []
     },
     "output_type": "display_data"
    }
   ],
   "source": [
    "fig, ax = plt.subplots(figsize = (15,5))  \n",
    "\n",
    "sns.scatterplot(data=dataTrain, x=\"ElectionDate\", y=\"ObamaMarginPercent\", hue=\"BlackCounty\")\n"
   ]
  },
  {
   "cell_type": "markdown",
   "metadata": {
    "id": "U9PjMlw8TMpM"
   },
   "source": [
    "Which exhibits have great effects to Obama's Margin percentage?"
   ]
  },
  {
   "cell_type": "code",
   "execution_count": 266,
   "metadata": {
    "colab": {
     "base_uri": "https://localhost:8080/",
     "height": 0
    },
    "id": "P8u0hG4pHS7p",
    "outputId": "4912993e-cacc-4316-adcb-49e19cab8227"
   },
   "outputs": [
    {
     "data": {
      "text/plain": [
       "<matplotlib.axes._subplots.AxesSubplot at 0x7f51b20ff3c8>"
      ]
     },
     "execution_count": 266,
     "metadata": {
      "tags": []
     },
     "output_type": "execute_result"
    },
    {
     "data": {
      "image/png": "[encoded data removed]",
      "text/plain": [
       "<Figure size 1080x360 with 1 Axes>"
      ]
     },
     "metadata": {
      "needs_background": "light",
      "tags": []
     },
     "output_type": "display_data"
    }
   ],
   "source": [
    "fig, ax = plt.subplots(figsize = (15,5))  \n",
    "\n",
    "sns.scatterplot(data=dataTrain, x=\"ElectionDate\", y=\"ObamaMarginPercent\", hue=\"Region\", size = 'Obama')"
   ]
  },
  {
   "cell_type": "code",
   "execution_count": 267,
   "metadata": {
    "colab": {
     "base_uri": "https://localhost:8080/",
     "height": 0
    },
    "id": "VCG_q5chOR8A",
    "outputId": "a65e8681-90bd-4936-9353-8b73cbcf7b80"
   },
   "outputs": [
    {
     "data": {
      "text/plain": [
       "<seaborn.axisgrid.FacetGrid at 0x7f51b22c7710>"
      ]
     },
     "execution_count": 267,
     "metadata": {
      "tags": []
     },
     "output_type": "execute_result"
    },
    {
     "data": {
      "image/png": "[encoded data removed]",
      "text/plain": [
       "<Figure size 819.1x720 with 1 Axes>"
      ]
     },
     "metadata": {
      "tags": []
     },
     "output_type": "display_data"
    }
   ],
   "source": [
    "import seaborn as sns\n",
    "sns.set_theme(style=\"white\")\n",
    "\n",
    "# Plot miles per gallon against horsepower with other semantics\n",
    "sns.relplot(x=\"ElectionDate\", y=\"ObamaMarginPercent\", hue=\"Region\", size=\"Obama\",\n",
    "            sizes=(40, 400), alpha=.5,\n",
    "            height=10, data=dataTrain)"
   ]
  },
  {
   "cell_type": "markdown",
   "metadata": {
    "id": "AttuWpRTDD7n"
   },
   "source": [
    "## Creating a copy of the data without unnecessary variables"
   ]
  },
  {
   "cell_type": "code",
   "execution_count": 268,
   "metadata": {
    "id": "aeokXSeADD7n"
   },
   "outputs": [],
   "source": [
    "dropFromData = [\"County\",\"FIPS\",\"ObamaMargin\",\"Obama\",\"Clinton\",\"TotalVote\", \"BlackMargin\", \"BlackCounty\"]\n",
    "election_data = dataTrain.drop(dropFromData, axis = 1)"
   ]
  },
  {
   "cell_type": "code",
   "execution_count": 269,
   "metadata": {
    "colab": {
     "base_uri": "https://localhost:8080/",
     "height": 0
    },
    "id": "Wp_H5Ri_DD7n",
    "outputId": "78c84d48-f031-45ac-d2fa-f6b8005cdb3b"
   },
   "outputs": [
    {
     "data": {
      "text/html": [
       "<div>\n",
       "<style scoped>\n",
       "    .dataframe tbody tr th:only-of-type {\n",
       "        vertical-align: middle;\n",
       "    }\n",
       "\n",
       "    .dataframe tbody tr th {\n",
       "        vertical-align: top;\n",
       "    }\n",
       "\n",
       "    .dataframe thead th {\n",
       "        text-align: right;\n",
       "    }\n",
       "</style>\n",
       "<table border=\"1\" class=\"dataframe\">\n",
       "  <thead>\n",
       "    <tr style=\"text-align: right;\">\n",
       "      <th></th>\n",
       "      <th>State</th>\n",
       "      <th>Region</th>\n",
       "      <th>ElectionDate</th>\n",
       "      <th>ElectionType</th>\n",
       "      <th>MalesPer100Females</th>\n",
       "      <th>AgeBelow35</th>\n",
       "      <th>Age35to65</th>\n",
       "      <th>Age65andAbove</th>\n",
       "      <th>White</th>\n",
       "      <th>Black</th>\n",
       "      <th>Asian</th>\n",
       "      <th>AmericanIndian</th>\n",
       "      <th>Hawaiian</th>\n",
       "      <th>Hispanic</th>\n",
       "      <th>HighSchool</th>\n",
       "      <th>Bachelors</th>\n",
       "      <th>Poverty</th>\n",
       "      <th>IncomeAbove75K</th>\n",
       "      <th>MedianIncome</th>\n",
       "      <th>AverageIncome</th>\n",
       "      <th>UnemployRate</th>\n",
       "      <th>ManfEmploy</th>\n",
       "      <th>SpeakingNonEnglish</th>\n",
       "      <th>Medicare</th>\n",
       "      <th>MedicareRate</th>\n",
       "      <th>SocialSecurity</th>\n",
       "      <th>SocialSecurityRate</th>\n",
       "      <th>RetiredWorkers</th>\n",
       "      <th>Disabilities</th>\n",
       "      <th>DisabilitiesRate</th>\n",
       "      <th>Homeowner</th>\n",
       "      <th>SameHouse1995and2000</th>\n",
       "      <th>Pop</th>\n",
       "      <th>PopDensity</th>\n",
       "      <th>LandArea</th>\n",
       "      <th>FarmArea</th>\n",
       "      <th>ObamaMarginPercent</th>\n",
       "      <th>ObamaWins</th>\n",
       "    </tr>\n",
       "  </thead>\n",
       "  <tbody>\n",
       "    <tr>\n",
       "      <th>0</th>\n",
       "      <td>IA</td>\n",
       "      <td>Midwest</td>\n",
       "      <td>2008-01-03</td>\n",
       "      <td>Caucuses</td>\n",
       "      <td>96.7</td>\n",
       "      <td>37.7</td>\n",
       "      <td>40.3</td>\n",
       "      <td>21.9</td>\n",
       "      <td>99.2</td>\n",
       "      <td>0.100000</td>\n",
       "      <td>0.5</td>\n",
       "      <td>1.68931</td>\n",
       "      <td>0.0</td>\n",
       "      <td>0.8</td>\n",
       "      <td>87.8</td>\n",
       "      <td>11.2</td>\n",
       "      <td>9.7</td>\n",
       "      <td>8.6</td>\n",
       "      <td>39568.0</td>\n",
       "      <td>29222.0</td>\n",
       "      <td>3.2</td>\n",
       "      <td>12.916739</td>\n",
       "      <td>2.0</td>\n",
       "      <td>1551.0</td>\n",
       "      <td>19735.0</td>\n",
       "      <td>1825.0</td>\n",
       "      <td>23222.0</td>\n",
       "      <td>1230.0</td>\n",
       "      <td>90.0</td>\n",
       "      <td>1145.0</td>\n",
       "      <td>75.0</td>\n",
       "      <td>66.0</td>\n",
       "      <td>7714.0</td>\n",
       "      <td>13.5</td>\n",
       "      <td>570.0</td>\n",
       "      <td>373.0</td>\n",
       "      <td>0.026667</td>\n",
       "      <td>1</td>\n",
       "    </tr>\n",
       "    <tr>\n",
       "      <th>1</th>\n",
       "      <td>IA</td>\n",
       "      <td>Midwest</td>\n",
       "      <td>2008-01-03</td>\n",
       "      <td>Caucuses</td>\n",
       "      <td>96.8</td>\n",
       "      <td>37.1</td>\n",
       "      <td>40.8</td>\n",
       "      <td>22.1</td>\n",
       "      <td>99.2</td>\n",
       "      <td>9.900215</td>\n",
       "      <td>0.2</td>\n",
       "      <td>0.50000</td>\n",
       "      <td>0.0</td>\n",
       "      <td>0.6</td>\n",
       "      <td>84.5</td>\n",
       "      <td>12.0</td>\n",
       "      <td>10.6</td>\n",
       "      <td>7.8</td>\n",
       "      <td>35296.0</td>\n",
       "      <td>27297.0</td>\n",
       "      <td>4.6</td>\n",
       "      <td>6.964421</td>\n",
       "      <td>1.6</td>\n",
       "      <td>978.0</td>\n",
       "      <td>22936.0</td>\n",
       "      <td>1110.0</td>\n",
       "      <td>26032.0</td>\n",
       "      <td>720.0</td>\n",
       "      <td>78.0</td>\n",
       "      <td>1829.0</td>\n",
       "      <td>74.7</td>\n",
       "      <td>65.4</td>\n",
       "      <td>4192.0</td>\n",
       "      <td>9.9</td>\n",
       "      <td>425.0</td>\n",
       "      <td>238.0</td>\n",
       "      <td>-0.220000</td>\n",
       "      <td>0</td>\n",
       "    </tr>\n",
       "    <tr>\n",
       "      <th>2</th>\n",
       "      <td>IA</td>\n",
       "      <td>Midwest</td>\n",
       "      <td>2008-01-03</td>\n",
       "      <td>Caucuses</td>\n",
       "      <td>104.5</td>\n",
       "      <td>41.5</td>\n",
       "      <td>40.8</td>\n",
       "      <td>17.7</td>\n",
       "      <td>99.0</td>\n",
       "      <td>0.200000</td>\n",
       "      <td>0.2</td>\n",
       "      <td>0.30000</td>\n",
       "      <td>0.0</td>\n",
       "      <td>6.9</td>\n",
       "      <td>81.4</td>\n",
       "      <td>14.4</td>\n",
       "      <td>10.8</td>\n",
       "      <td>10.7</td>\n",
       "      <td>36822.0</td>\n",
       "      <td>25579.0</td>\n",
       "      <td>4.6</td>\n",
       "      <td>16.473466</td>\n",
       "      <td>8.2</td>\n",
       "      <td>2838.0</td>\n",
       "      <td>19294.0</td>\n",
       "      <td>3270.0</td>\n",
       "      <td>22231.0</td>\n",
       "      <td>2245.0</td>\n",
       "      <td>186.0</td>\n",
       "      <td>1265.0</td>\n",
       "      <td>76.4</td>\n",
       "      <td>64.1</td>\n",
       "      <td>14796.0</td>\n",
       "      <td>23.1</td>\n",
       "      <td>659.0</td>\n",
       "      <td>326.0</td>\n",
       "      <td>0.100000</td>\n",
       "      <td>1</td>\n",
       "    </tr>\n",
       "    <tr>\n",
       "      <th>3</th>\n",
       "      <td>IA</td>\n",
       "      <td>Midwest</td>\n",
       "      <td>2008-01-03</td>\n",
       "      <td>Caucuses</td>\n",
       "      <td>94.0</td>\n",
       "      <td>42.0</td>\n",
       "      <td>39.2</td>\n",
       "      <td>18.9</td>\n",
       "      <td>98.5</td>\n",
       "      <td>0.700000</td>\n",
       "      <td>0.4</td>\n",
       "      <td>0.10000</td>\n",
       "      <td>0.0</td>\n",
       "      <td>1.1</td>\n",
       "      <td>81.4</td>\n",
       "      <td>12.2</td>\n",
       "      <td>14.9</td>\n",
       "      <td>6.6</td>\n",
       "      <td>31764.0</td>\n",
       "      <td>23705.0</td>\n",
       "      <td>5.4</td>\n",
       "      <td>15.080881</td>\n",
       "      <td>2.5</td>\n",
       "      <td>3072.0</td>\n",
       "      <td>22479.0</td>\n",
       "      <td>3415.0</td>\n",
       "      <td>24989.0</td>\n",
       "      <td>2050.0</td>\n",
       "      <td>453.0</td>\n",
       "      <td>3315.0</td>\n",
       "      <td>74.0</td>\n",
       "      <td>60.2</td>\n",
       "      <td>13422.0</td>\n",
       "      <td>27.0</td>\n",
       "      <td>516.0</td>\n",
       "      <td>236.0</td>\n",
       "      <td>-0.116667</td>\n",
       "      <td>0</td>\n",
       "    </tr>\n",
       "    <tr>\n",
       "      <th>4</th>\n",
       "      <td>IA</td>\n",
       "      <td>Midwest</td>\n",
       "      <td>2008-01-03</td>\n",
       "      <td>Caucuses</td>\n",
       "      <td>94.7</td>\n",
       "      <td>37.4</td>\n",
       "      <td>40.2</td>\n",
       "      <td>22.5</td>\n",
       "      <td>99.3</td>\n",
       "      <td>0.200000</td>\n",
       "      <td>0.2</td>\n",
       "      <td>0.10000</td>\n",
       "      <td>0.0</td>\n",
       "      <td>0.6</td>\n",
       "      <td>82.5</td>\n",
       "      <td>12.3</td>\n",
       "      <td>9.2</td>\n",
       "      <td>9.7</td>\n",
       "      <td>38941.0</td>\n",
       "      <td>31100.0</td>\n",
       "      <td>4.1</td>\n",
       "      <td>8.333333</td>\n",
       "      <td>2.7</td>\n",
       "      <td>1472.0</td>\n",
       "      <td>22797.0</td>\n",
       "      <td>1740.0</td>\n",
       "      <td>26947.0</td>\n",
       "      <td>1150.0</td>\n",
       "      <td>79.0</td>\n",
       "      <td>1223.0</td>\n",
       "      <td>79.2</td>\n",
       "      <td>70.4</td>\n",
       "      <td>6278.0</td>\n",
       "      <td>14.2</td>\n",
       "      <td>444.0</td>\n",
       "      <td>261.0</td>\n",
       "      <td>0.020833</td>\n",
       "      <td>1</td>\n",
       "    </tr>\n",
       "  </tbody>\n",
       "</table>\n",
       "</div>"
      ],
      "text/plain": [
       "  State   Region ElectionDate  ... FarmArea  ObamaMarginPercent  ObamaWins\n",
       "0    IA  Midwest   2008-01-03  ...    373.0            0.026667          1\n",
       "1    IA  Midwest   2008-01-03  ...    238.0           -0.220000          0\n",
       "2    IA  Midwest   2008-01-03  ...    326.0            0.100000          1\n",
       "3    IA  Midwest   2008-01-03  ...    236.0           -0.116667          0\n",
       "4    IA  Midwest   2008-01-03  ...    261.0            0.020833          1\n",
       "\n",
       "[5 rows x 38 columns]"
      ]
     },
     "execution_count": 269,
     "metadata": {
      "tags": []
     },
     "output_type": "execute_result"
    }
   ],
   "source": [
    "election_data.head()"
   ]
  },
  {
   "cell_type": "code",
   "execution_count": 270,
   "metadata": {
    "colab": {
     "base_uri": "https://localhost:8080/"
    },
    "id": "I0iF17-MDD7n",
    "outputId": "7ff1da26-d982-4371-8d80-af27ee84dcac"
   },
   "outputs": [
    {
     "data": {
      "text/plain": [
       "(1737, 38)"
      ]
     },
     "execution_count": 270,
     "metadata": {
      "tags": []
     },
     "output_type": "execute_result"
    }
   ],
   "source": [
    "election_data.shape"
   ]
  },
  {
   "cell_type": "markdown",
   "metadata": {
    "id": "OQ3B6xW-DD7o"
   },
   "source": [
    "<hr>\n",
    "\n",
    "# Supervised Learning: Regression\n"
   ]
  },
  {
   "cell_type": "markdown",
   "metadata": {
    "id": "dpHvlAzWsHsC"
   },
   "source": [
    "### Splitting the election_data, which is provided from first train dataset, into train and test sets"
   ]
  },
  {
   "cell_type": "markdown",
   "metadata": {
    "id": "3OO55_k8DD7o"
   },
   "source": [
    "As you remember we split the data into train (which does not contain null values) and test datasets, then we split the train dataset to train and test too. This dataset hepls to know the performance of models."
   ]
  },
  {
   "cell_type": "code",
   "execution_count": 271,
   "metadata": {
    "id": "a2mQqpu6DD7o"
   },
   "outputs": [],
   "source": [
    "#Create Feature variable X (predictors/independent) and Target variable y (dependent)\n",
    "y = election_data.ObamaMarginPercent\n",
    "X = election_data.drop(['State', 'Region', 'ElectionDate', 'ElectionType', 'ObamaMarginPercent', 'ObamaWins'], axis = 1)"
   ]
  },
  {
   "cell_type": "code",
   "execution_count": 272,
   "metadata": {
    "id": "qqCFQxapDD7o"
   },
   "outputs": [],
   "source": [
    "#Split the data into training set (70%) and test set (30%)\n",
    "from sklearn.model_selection import train_test_split\n",
    "X_train, X_test, y_train, y_test = train_test_split(X, y, test_size = 0.30, random_state = 10)"
   ]
  },
  {
   "cell_type": "code",
   "execution_count": 273,
   "metadata": {
    "colab": {
     "base_uri": "https://localhost:8080/"
    },
    "id": "9Z0PziF7DD7o",
    "outputId": "cd805546-9e43-4cae-a3b8-2cc264c76cb4"
   },
   "outputs": [
    {
     "data": {
      "text/plain": [
       "(522, 32)"
      ]
     },
     "execution_count": 273,
     "metadata": {
      "tags": []
     },
     "output_type": "execute_result"
    }
   ],
   "source": [
    "X_test.shape"
   ]
  },
  {
   "cell_type": "code",
   "execution_count": 274,
   "metadata": {
    "colab": {
     "base_uri": "https://localhost:8080/",
     "height": 0
    },
    "id": "BaJfhGo0-yIe",
    "outputId": "5152737e-74aa-48db-dcd5-46f0148894f2"
   },
   "outputs": [
    {
     "data": {
      "text/plain": [
       "Text(0.5, 1.05, 'Pearson Correlation of Features')"
      ]
     },
     "execution_count": 274,
     "metadata": {
      "tags": []
     },
     "output_type": "execute_result"
    },
    {
     "data": {
      "image/png": "[encoded data removed]",
      "text/plain": [
       "<Figure size 2880x144 with 2 Axes>"
      ]
     },
     "metadata": {
      "tags": []
     },
     "output_type": "display_data"
    }
   ],
   "source": [
    "# Compute the correlation matrix \n",
    "corr = election_data.corr()\n",
    "corr = corr[32:]\n",
    "# Setup the matplotlib figure\n",
    "f, ax = plt.subplots(figsize=(40,2))\n",
    "\n",
    "# Generate a custome diverging color map\n",
    "cmap = sns.diverging_palette(220, 10, as_cmap=True)\n",
    "\n",
    "# Draw the heatmap\n",
    "_ = sns.heatmap(corr, cmap='RdBu', square=True, ax=ax, annot=True, linewidth=0.1)\n",
    "\n",
    "plt.title('Pearson Correlation of Features', y=1.05, size=15)"
   ]
  },
  {
   "cell_type": "markdown",
   "metadata": {
    "id": "w0fFgwM5AoKC"
   },
   "source": [
    "Look at the `White` and `Black` on x-axis. Now it is obvious that race of people has the most effects to Obama's Margin Percentage. Top relation rates: `Black`, `White`, `SocialSecurityRate`, `Bachelors`, `HighSchool`."
   ]
  },
  {
   "cell_type": "code",
   "execution_count": 275,
   "metadata": {
    "colab": {
     "base_uri": "https://localhost:8080/"
    },
    "id": "XzGL_yD1JrnO",
    "outputId": "b1557801-6e52-43fa-eef5-59bd8aa4078a"
   },
   "outputs": [
    {
     "data": {
      "text/plain": [
       "Index(['MalesPer100Females', 'AgeBelow35', 'Age35to65', 'Age65andAbove',\n",
       "       'White', 'Black', 'Asian', 'AmericanIndian', 'Hawaiian', ' Hispanic',\n",
       "       'HighSchool', 'Bachelors', 'Poverty', 'IncomeAbove75K    ',\n",
       "       'MedianIncome', 'AverageIncome', 'UnemployRate', 'ManfEmploy',\n",
       "       'SpeakingNonEnglish', 'Medicare', 'MedicareRate', 'SocialSecurity',\n",
       "       'SocialSecurityRate', 'RetiredWorkers', 'Disabilities',\n",
       "       'DisabilitiesRate', 'Homeowner', 'SameHouse1995and2000', 'Pop',\n",
       "       'PopDensity', 'LandArea', 'FarmArea'],\n",
       "      dtype='object')"
      ]
     },
     "execution_count": 275,
     "metadata": {
      "tags": []
     },
     "output_type": "execute_result"
    }
   ],
   "source": [
    "X.columns"
   ]
  },
  {
   "cell_type": "markdown",
   "metadata": {
    "id": "CBNDwzQ3Uqwv"
   },
   "source": [
    "### Model 1 (the best model)"
   ]
  },
  {
   "cell_type": "markdown",
   "metadata": {
    "id": "Nc3YUP3KzzGK"
   },
   "source": [
    "#### Evalution"
   ]
  },
  {
   "cell_type": "markdown",
   "metadata": {
    "id": "Lv0MzlITDD7o"
   },
   "source": [
    "To evaluate the performance of models we prefer to use **R-Squared**, **Root Mean Square Error (RMSE)** and **Mean Absolute Error (MAE)**."
   ]
  },
  {
   "cell_type": "code",
   "execution_count": 276,
   "metadata": {
    "colab": {
     "base_uri": "https://localhost:8080/"
    },
    "id": "8S6edkm2bGli",
    "outputId": "36b3b82f-e10c-4cba-ddd6-6c232718150b"
   },
   "outputs": [
    {
     "name": "stdout",
     "output_type": "stream",
     "text": [
      "Evaluation the models against test data using MAE, RMSE and R2\n",
      "LinearRegression\n",
      "    MAE 0.1521087932625633\n",
      "    RMSE 0.1980698179330634\n",
      "    R2 0.5522590196973303\n",
      "KNeighborsRegressor\n",
      "    MAE 0.2321398180793533\n",
      "    RMSE 0.29559421702980815\n",
      "    R2 0.0028003723196678987\n"
     ]
    }
   ],
   "source": [
    "from sklearn.neighbors import KNeighborsRegressor\n",
    "from sklearn.linear_model import LinearRegression\n",
    "\n",
    "\n",
    "# Sklearn regression model evaluation functions\n",
    "from sklearn.metrics import mean_absolute_error\n",
    "from sklearn.metrics import mean_squared_error\n",
    "from math import sqrt\n",
    "from sklearn.metrics import r2_score\n",
    "\n",
    "\n",
    "models = [LinearRegression(), KNeighborsRegressor()]\n",
    "\n",
    "for model in models:\n",
    "    model.fit(X_train, y_train)\n",
    "\n",
    "print('Evaluation the models against test data using MAE, RMSE and R2')\n",
    "for model in models:\n",
    "    predictions = model.predict(X_test)\n",
    "    print(type(model).__name__)\n",
    "    print(\"    MAE\", mean_absolute_error(y_test, predictions))\n",
    "    print(\"    RMSE\", np.sqrt(mean_squared_error(y_test, predictions)))\n",
    "    print(\"    R2\", r2_score(y_test, predictions))"
   ]
  },
  {
   "cell_type": "code",
   "execution_count": 277,
   "metadata": {
    "colab": {
     "base_uri": "https://localhost:8080/"
    },
    "id": "WOftEE6xPznh",
    "outputId": "ca564edc-cc5e-4d9e-f3ac-5562fc731307"
   },
   "outputs": [
    {
     "name": "stdout",
     "output_type": "stream",
     "text": [
      "LinearRegression [0.47917911 0.53035172]\n",
      "KNRegressor [0.10005884 0.04327738]\n"
     ]
    },
    {
     "name": "stderr",
     "output_type": "stream",
     "text": [
      "/usr/local/lib/python3.6/dist-packages/sklearn/model_selection/_split.py:296: FutureWarning: Setting a random_state has no effect since shuffle is False. This will raise an error in 0.24. You should leave random_state to its default (None), or set shuffle=True.\n",
      "  FutureWarning\n",
      "/usr/local/lib/python3.6/dist-packages/sklearn/model_selection/_split.py:296: FutureWarning: Setting a random_state has no effect since shuffle is False. This will raise an error in 0.24. You should leave random_state to its default (None), or set shuffle=True.\n",
      "  FutureWarning\n"
     ]
    }
   ],
   "source": [
    "models = []\n",
    "models.append((\"LinearRegression\",LinearRegression()))\n",
    "models.append((\"KNRegressor\",KNeighborsRegressor()))\n",
    "\n",
    "\n",
    "for name,model in models:\n",
    "   kfold = KFold(n_splits=2, random_state=50)\n",
    "   cv_result = cross_val_score(model,X_test, y_test, cv = kfold,scoring = \"r2\")\n",
    "   print(name, cv_result)"
   ]
  },
  {
   "cell_type": "markdown",
   "metadata": {
    "id": "zS5GbiaSyhN0"
   },
   "source": [
    "LinearRegression is dominating in all evaluating methods."
   ]
  },
  {
   "cell_type": "markdown",
   "metadata": {
    "id": "tvO4d9RJz3CK"
   },
   "source": [
    "#### Predicting with Model 1"
   ]
  },
  {
   "cell_type": "code",
   "execution_count": 278,
   "metadata": {
    "colab": {
     "base_uri": "https://localhost:8080/"
    },
    "id": "DdUbbNEUz87y",
    "outputId": "5642f0c2-858b-4713-852b-dc793e28ae25"
   },
   "outputs": [
    {
     "data": {
      "text/plain": [
       "array([ 9.28170009e-02, -2.39172435e-01,  1.22930249e-01,  6.88154195e-02,\n",
       "        2.50671900e-01,  1.41685758e-01, -2.38052288e-01, -5.24780978e-02,\n",
       "        1.75438598e-01,  1.04112149e-01, -8.05662771e-02,  1.75864959e-01,\n",
       "       -1.16875281e-01,  6.26944279e-03,  1.58336502e-01, -4.55317472e-02,\n",
       "        6.41845872e-03,  4.26604954e-01, -8.78035135e-03, -1.27488653e-01,\n",
       "       -3.59623767e-01,  2.42282344e-03, -8.30259687e-02,  2.46547059e-02,\n",
       "        2.43469906e-01, -2.45106871e-01, -1.01181016e-01,  9.94355522e-02,\n",
       "        1.06278248e-02,  1.42782128e-02, -1.38345811e-01, -7.07655457e-02,\n",
       "        9.38805489e-02, -4.19858036e-01,  1.55610357e-01, -3.12766568e-01,\n",
       "       -2.60870932e-01, -1.74933921e-01, -5.48448249e-01, -2.79799771e-02,\n",
       "       -4.15029829e-01,  1.61246129e-01, -2.51902304e-01, -4.12261500e-01,\n",
       "       -9.60430770e-02, -8.62809238e-02,  4.77111005e-02,  2.06716117e-01,\n",
       "       -2.53173984e-01,  2.20253716e-01,  8.19668872e-02,  5.31887022e-01,\n",
       "       -2.07743637e-01, -1.29842838e-01, -3.21191490e-01,  2.66285533e-01,\n",
       "        2.21038258e-01, -2.47375392e-01,  4.74488718e-01, -1.78818724e-01,\n",
       "       -1.40339546e-01,  3.89656908e-03,  2.94875076e-01,  5.17594486e-05,\n",
       "        2.21222172e-01, -9.45850645e-02, -2.23072717e-01, -9.26497176e-02,\n",
       "        3.47987035e-02,  2.67537948e-02, -1.72470272e-01, -7.02280282e-02,\n",
       "        7.26147379e-01, -2.80017133e-01, -1.09864209e-01, -1.09604975e-01,\n",
       "       -8.82791874e-02, -1.29385985e-01,  1.91680883e-01,  5.99073445e-02,\n",
       "        5.85979750e-02, -1.16408960e-01, -1.63299832e-02, -1.51667570e-01,\n",
       "        2.52138357e-01, -1.74602531e-02,  3.51175130e-01, -4.39798672e-01,\n",
       "        2.04499756e-02, -2.68339948e-01, -2.35444949e-01,  5.15515171e-01,\n",
       "        1.33760607e-01,  1.65058889e-01, -4.71090298e-02, -1.44134729e-01,\n",
       "       -2.67890727e-01, -2.06939181e-01, -5.46619753e-02,  6.97460503e-02,\n",
       "       -2.50312291e-01,  8.21537864e-02, -1.86638347e-01, -3.51367360e-01,\n",
       "       -2.00284181e-02, -7.03136389e-02, -1.16858740e-01, -1.03647898e-01,\n",
       "       -4.89182458e-01, -4.61010697e-02,  3.64756248e-01,  6.96961009e-02,\n",
       "       -6.22359315e-02,  1.52701090e-01, -2.47646686e-01, -1.18140224e-01,\n",
       "       -1.17579257e-01,  1.42180689e-01, -5.19461468e-02, -1.15951999e-02,\n",
       "        1.50354284e-01, -1.29574858e-01, -2.70434241e-01, -1.12871663e-01,\n",
       "       -1.62518179e-01, -5.63859771e-02, -1.42549380e-01, -1.99144728e-01,\n",
       "       -8.89516650e-02, -4.58209067e-02, -1.93953874e-01,  1.23500552e-01,\n",
       "        1.27408166e-01, -1.36631318e-01, -2.28368065e-01, -4.15720617e-01,\n",
       "       -6.11449594e-02,  2.42596881e-02, -1.34854326e-02, -5.86570094e-03,\n",
       "        4.89874252e-03, -4.50726106e-02, -8.17686137e-02,  5.02377536e-03,\n",
       "       -1.90384365e-02, -1.31226717e-02,  3.78092268e-02, -5.71560498e-02,\n",
       "       -4.28155525e-01,  2.31098006e-01, -1.40437522e-01, -6.79257194e-02,\n",
       "       -2.18406408e-01, -1.24102621e-01, -1.76104015e-01,  3.03422989e-01,\n",
       "       -2.99564387e-01, -3.87794746e-01, -3.52106577e-02,  5.24994849e-02,\n",
       "        5.73061570e-03,  6.63109221e-02, -2.93933158e-01,  2.30160717e-01,\n",
       "        3.74313584e-01,  5.20253949e-02, -5.87238839e-02, -2.28403659e-01,\n",
       "        1.23786121e-01, -1.36152634e-01,  6.94545184e-01,  1.18570585e-01,\n",
       "        3.58504910e-01,  2.15280249e-02, -8.64170106e-02,  1.93926980e-01,\n",
       "        1.94988125e-01,  2.74142151e-01,  1.46128808e-01,  5.01704102e-02,\n",
       "        1.58172460e-01, -9.51228106e-02,  9.29615257e-02, -2.33650263e-01,\n",
       "       -4.06780859e-01, -6.67879933e-02,  2.53831444e-03, -2.41362961e-01,\n",
       "        1.83983934e-01,  6.95033788e-03,  1.10681986e-02, -3.58521036e-01,\n",
       "       -2.16130561e-02,  1.15788394e-01,  9.48258459e-02, -5.35736541e-01,\n",
       "        9.36681537e-03, -3.05696145e-01, -5.44635933e-03, -8.99139798e-02,\n",
       "       -3.68397751e-01, -9.38014973e-02, -2.12693767e-01,  9.10330384e-03,\n",
       "       -1.68759051e-01, -3.22445693e-01,  1.68310543e-02,  2.95206012e-01,\n",
       "       -6.55208616e-01,  9.59819999e-02,  1.83403146e-01, -4.11171954e-01,\n",
       "       -2.28689301e-01, -8.90801150e-02, -2.66906861e-01, -5.92178404e-01,\n",
       "       -1.32145557e-01, -1.39939889e-01,  3.01716032e-02,  8.27043769e-02,\n",
       "        1.95213964e-01, -4.27076740e-02, -9.58325490e-02, -1.11579462e-01,\n",
       "        1.08108564e-01, -1.16764879e-02, -8.83175131e-02,  7.77108657e-03,\n",
       "       -2.13830491e-01, -2.12705050e-01, -6.24737657e-02, -7.93481314e-02,\n",
       "        2.70026741e-01, -9.97166414e-02,  6.48184677e-01,  1.61289128e-01,\n",
       "       -6.78285430e-02,  3.18589444e-02, -1.47335225e-01, -6.64118261e-02,\n",
       "       -2.83007499e-01,  2.60652315e-01, -2.30578063e-02,  1.41311946e-01,\n",
       "       -4.73443306e-02, -3.36317402e-02,  2.41210044e-01, -4.57991264e-01,\n",
       "       -3.00609502e-01, -2.85432933e-01, -3.05880070e-02, -1.93542302e-01,\n",
       "        3.53815604e-01, -9.96289437e-02, -4.59927062e-02, -2.41066298e-01,\n",
       "       -3.15556886e-02,  1.17977718e-01, -3.67207793e-02,  2.88853512e-02,\n",
       "        3.42399359e-01, -4.17506049e-01, -1.76080887e-02, -8.66310259e-02,\n",
       "       -1.79508047e-01, -7.55240268e-02,  2.64754887e-02, -9.16459208e-02,\n",
       "       -1.04507205e-01, -8.79694051e-03,  7.28710631e-02,  2.29570288e-01,\n",
       "       -1.37591680e-01,  1.49409953e-01, -3.45497798e-01, -4.79671831e-01,\n",
       "        3.68214898e-01,  2.03103107e-01,  8.46646400e-02, -2.56373520e-02,\n",
       "       -2.25204609e-01,  2.07299290e-01, -1.97351101e-01, -1.87988623e-02,\n",
       "       -4.30521074e-02, -2.23607292e-01,  9.74584712e-02, -9.03327051e-02,\n",
       "        1.14529965e-01, -3.36608891e-02, -3.71086875e-02,  2.93188964e-01,\n",
       "       -1.92049486e-01,  2.20211893e-01,  2.42314817e-03,  1.01202011e-01,\n",
       "        6.16494288e-02, -8.35635725e-02,  8.39400630e-02, -1.21142142e-01,\n",
       "        4.16096290e-02, -1.24084818e-01, -4.60149759e-02, -3.96632843e-01,\n",
       "        2.19692704e-01, -3.68777791e-02,  6.17526098e-02,  1.08557603e-01,\n",
       "       -6.27351163e-03,  7.18817619e-02,  1.02248964e-01, -6.31593316e-01,\n",
       "       -9.62832169e-02,  3.39258959e-01, -2.12356182e-01,  2.52493125e-01,\n",
       "       -3.16805596e-02, -2.26762896e-01,  1.35139540e-02, -1.94853210e-01,\n",
       "       -8.89100751e-02, -3.57334351e-01, -4.20781099e-03, -5.39090104e-02,\n",
       "       -1.84692227e-02,  2.38524013e-01,  5.34381724e-03, -5.59797300e-02,\n",
       "        4.16084869e-01,  1.73380098e-01,  3.70278448e-01, -5.59932353e-02,\n",
       "        3.28078421e-01, -7.56455429e-02, -1.60619078e-01,  6.04252256e-02,\n",
       "        2.78709182e-02,  5.32112553e-02,  2.78809987e-01,  1.70328205e-03,\n",
       "       -2.07956816e-01, -3.55457642e-02, -3.74624124e-01,  1.43900392e-01,\n",
       "       -2.15080889e-02, -1.03809206e-01, -1.33679439e-01,  3.01797027e-01,\n",
       "       -3.05215674e-01,  3.35472050e-01, -1.54049317e-01, -4.95076911e-02,\n",
       "        7.33332454e-02, -9.46085676e-02, -3.98202345e-01, -9.89123276e-02,\n",
       "       -2.48514633e-01, -2.80010561e-01,  4.41404511e-01,  2.71877429e-02,\n",
       "        3.18744416e-01, -4.64691372e-01,  1.24487580e-01,  5.50110726e-01,\n",
       "        1.98979445e-01,  3.84151485e-02,  3.86969088e-02, -1.19224510e-01,\n",
       "       -1.80601174e-01, -1.18524926e-01, -1.01338709e-01, -2.18198431e-01,\n",
       "        3.07323258e-01, -2.57519680e-02,  7.13692596e-02, -4.15980740e-02,\n",
       "        5.96694635e-02,  9.73958639e-03, -1.12806904e-02,  4.00507479e-01,\n",
       "        1.37396828e-01,  1.42047294e-01, -1.35964736e-01,  1.03081258e-01,\n",
       "       -1.76492172e-01,  1.88528814e-01, -1.71716051e-03,  7.18280115e-02,\n",
       "        6.52977140e-02,  2.39153422e-01, -1.36957482e-01,  5.19720594e-02,\n",
       "        1.82283676e-02, -6.65366988e-03, -9.20926715e-02, -5.63067578e-02,\n",
       "       -1.53779451e-01, -2.07614074e-03,  2.08796953e-01,  2.21832539e-01,\n",
       "        1.93122364e-01, -2.45032752e-02, -9.56630219e-02,  2.10658117e-02,\n",
       "        5.87476670e-01,  6.52062434e-01, -1.26679543e-01, -8.93170857e-02,\n",
       "       -3.95680374e-01,  2.23459501e-01,  1.77140750e-02, -3.05941141e-01,\n",
       "        3.75369326e-01,  3.41052434e-02,  3.82815128e-01,  3.93072999e-02,\n",
       "       -9.22913336e-02, -2.85939325e-01, -3.25824203e-02, -1.24045028e-01,\n",
       "        1.03466753e-01, -1.06875460e-01, -2.34723092e-01,  2.56576956e-02,\n",
       "       -3.19365127e-02, -1.37147440e-01, -2.50143833e-01, -6.96741180e-02,\n",
       "       -3.50884137e-01, -1.27463324e-01, -3.71522436e-02,  1.26423537e-01,\n",
       "       -1.24922296e-01, -3.23476194e-01,  9.29433303e-03, -2.41203491e-01,\n",
       "       -1.95868100e-01,  4.14836463e-01, -6.59148609e-02,  2.36346124e-01,\n",
       "        6.31390617e-02, -3.55924751e-01,  7.18471733e-01,  4.32552699e-02,\n",
       "       -1.01185481e-01, -1.05592030e-01, -6.02188716e-02, -1.21608095e-01,\n",
       "       -2.29944509e-01, -2.91342508e-01, -1.42048936e-01, -4.49506328e-01,\n",
       "        8.81250354e-02, -3.26129350e-01,  3.91136503e-01, -8.44502544e-02,\n",
       "        9.65979113e-02,  1.58025514e-01, -2.58201316e-01, -2.32155521e-01,\n",
       "       -2.16599581e-01, -1.06894745e-01, -1.13040465e-01,  2.49053170e-01,\n",
       "       -3.83782650e-02, -9.37387441e-02, -3.29327469e-01,  9.74115465e-02,\n",
       "       -5.52689626e-02,  5.96544336e-02,  8.89472403e-02, -2.40640600e-01,\n",
       "        7.31973444e-02,  8.79807952e-02, -8.91314147e-04, -3.62280223e-01,\n",
       "       -3.33943443e-01, -5.35566400e-02, -2.01109655e-01,  1.44235320e-01,\n",
       "        6.25989121e-01,  4.95082559e-01,  1.22345600e-01, -2.30763248e-01,\n",
       "        4.02494599e-02, -1.69195606e-02,  5.84370451e-01, -1.60548157e-01,\n",
       "       -4.70342959e-01,  1.23457684e-01,  9.39350890e-02,  9.80744367e-03,\n",
       "        4.71637714e-02,  4.54199798e-02, -7.76091550e-02, -1.32453802e-02,\n",
       "       -1.88752604e-01,  1.28772631e-01,  8.00715940e-02,  3.04977950e-02,\n",
       "        1.53127378e-01,  8.71757482e-02,  6.62756480e-02, -4.67611006e-01,\n",
       "       -5.60196823e-02,  8.67145011e-02, -1.68912688e-01,  2.68095800e-01,\n",
       "        1.97669777e-01, -1.31444873e-01,  1.20182801e-01, -1.70830109e-01,\n",
       "        2.72189281e-03, -4.40803505e-01, -3.96055119e-02, -5.85885845e-02,\n",
       "       -7.31798852e-02,  4.10216928e-01, -5.20641937e-02,  3.65227624e-01,\n",
       "        4.28785354e-02,  1.17628294e-01])"
      ]
     },
     "execution_count": 278,
     "metadata": {
      "tags": []
     },
     "output_type": "execute_result"
    }
   ],
   "source": [
    "from sklearn.linear_model import LinearRegression\n",
    "regressor = LinearRegression()\n",
    "regressor.fit(X_train, y_train)\n",
    "y_pred = regressor.predict(X_test)\n",
    "y_pred"
   ]
  },
  {
   "cell_type": "markdown",
   "metadata": {
    "id": "yXce2woc10CL"
   },
   "source": [
    "As you see `y_pred` is predicted Obama's margin percents over Hillary Clinton's."
   ]
  },
  {
   "cell_type": "markdown",
   "metadata": {
    "id": "rJtbQlE8dVBe"
   },
   "source": [
    "### Model 2"
   ]
  },
  {
   "cell_type": "code",
   "execution_count": 279,
   "metadata": {
    "colab": {
     "base_uri": "https://localhost:8080/"
    },
    "id": "9o8PHtA7DD7o",
    "outputId": "988150f2-5674-4f3d-e35c-fe4a0e3e01e6"
   },
   "outputs": [
    {
     "name": "stdout",
     "output_type": "stream",
     "text": [
      "Check models against training data using MAE, RMSE and R2\n",
      "LinearRegression\n",
      "    MAE 0.17327071356800475\n",
      "    RMSE 0.21500517829394786\n",
      "    R2 0.5059527324648443\n",
      "KNeighborsRegressor\n",
      "    MAE 0.1283583757587347\n",
      "    RMSE 0.1650272525792668\n",
      "    R2 0.708940351203974\n",
      "--------------------\n",
      "Evaluation the models against test data using MAE, RMSE and R2\n",
      "LinearRegression\n",
      "    MAE 0.16730506744766163\n",
      "    RMSE 0.21455674771148098\n",
      "    R2 0.474618717980379\n",
      "KNeighborsRegressor\n",
      "    MAE 0.15942900216944986\n",
      "    RMSE 0.2089907053786861\n",
      "    R2 0.5015240788022222\n"
     ]
    }
   ],
   "source": [
    "\n",
    "col_names = ['HighSchool', 'Black', 'Bachelors', 'AgeBelow35', 'IncomeAbove75K    ']\n",
    "\n",
    "models = [LinearRegression(), KNeighborsRegressor()]\n",
    "\n",
    "print('Check models against training data using MAE, RMSE and R2')\n",
    "for model in models:\n",
    "    model.fit(X_train[col_names], y_train)\n",
    "    predictions = model.predict(X_train[col_names])\n",
    "    print(type(model).__name__)\n",
    "    print(\"    MAE\", mean_absolute_error(y_train, predictions))\n",
    "    print(\"    RMSE\", np.sqrt(mean_squared_error(y_train, predictions)))\n",
    "    print(\"    R2\", r2_score(y_train, predictions))\n",
    "\n",
    "\n",
    "print('--------------------')\n",
    "print('Evaluation the models against test data using MAE, RMSE and R2')\n",
    "for model in models:\n",
    "    model.fit(X_train[col_names], y_train)\n",
    "    predictions = model.predict(X_test[col_names])\n",
    "    print(type(model).__name__)\n",
    "    print(\"    MAE\", mean_absolute_error(y_test, predictions))\n",
    "    print(\"    RMSE\", np.sqrt(mean_squared_error(y_test, predictions)))\n",
    "    print(\"    R2\", r2_score(y_test, predictions))"
   ]
  },
  {
   "cell_type": "markdown",
   "metadata": {
    "id": "jt13bl--moWC"
   },
   "source": [
    "### Model 3"
   ]
  },
  {
   "cell_type": "code",
   "execution_count": 280,
   "metadata": {
    "colab": {
     "base_uri": "https://localhost:8080/"
    },
    "id": "pzLSdMypDD7o",
    "outputId": "3df3ac74-1de3-4987-d84a-9558d42aaf48"
   },
   "outputs": [
    {
     "name": "stdout",
     "output_type": "stream",
     "text": [
      "Check models against training data using MAE, RMSE and R2\n",
      "LinearRegression\n",
      "    MAE 0.17400323393435685\n",
      "    RMSE 0.21587929487744423\n",
      "    R2 0.5019274082454767\n",
      "KNeighborsRegressor\n",
      "    MAE 0.1306092269543179\n",
      "    RMSE 0.1689049988399089\n",
      "    R2 0.695101233110642\n",
      "--------------------\n",
      "Evaluation the models against test data using MAE, RMSE and R2\n",
      "LinearRegression\n",
      "    MAE 0.1673601385806225\n",
      "    RMSE 0.21419279958603002\n",
      "    R2 0.47639959283715383\n",
      "KNeighborsRegressor\n",
      "    MAE 0.16120866791644708\n",
      "    RMSE 0.2166434870415814\n",
      "    R2 0.4643494986128689\n"
     ]
    }
   ],
   "source": [
    "\n",
    "col_names = ['Age65andAbove', 'White', 'Black',  'Bachelors', 'HighSchool']\n",
    "\n",
    "models = [LinearRegression(), KNeighborsRegressor()]\n",
    "\n",
    "print('Check models against training data using MAE, RMSE and R2')\n",
    "for model in models:\n",
    "    model.fit(X_train[col_names], y_train)\n",
    "    predictions = model.predict(X_train[col_names])\n",
    "    print(type(model).__name__)\n",
    "    print(\"    MAE\", mean_absolute_error(y_train, predictions))\n",
    "    print(\"    RMSE\", np.sqrt(mean_squared_error(y_train, predictions)))\n",
    "    print(\"    R2\", r2_score(y_train, predictions))\n",
    "\n",
    "\n",
    "print('--------------------')\n",
    "print('Evaluation the models against test data using MAE, RMSE and R2')\n",
    "for model in models:\n",
    "    model.fit(X_train[col_names], y_train)\n",
    "    predictions = model.predict(X_test[col_names])\n",
    "    print(type(model).__name__)\n",
    "    print(\"    MAE\", mean_absolute_error(y_test, predictions))\n",
    "    print(\"    RMSE\", np.sqrt(mean_squared_error(y_test, predictions)))\n",
    "    print(\"    R2\", r2_score(y_test, predictions))"
   ]
  },
  {
   "cell_type": "markdown",
   "metadata": {
    "id": "L2sxC88zm8Qp"
   },
   "source": [
    "### Model 4 "
   ]
  },
  {
   "cell_type": "code",
   "execution_count": 281,
   "metadata": {
    "colab": {
     "base_uri": "https://localhost:8080/"
    },
    "id": "zxbg3_qoDD7o",
    "outputId": "f96fa747-f80b-4a23-95cd-4adc47b789f5"
   },
   "outputs": [
    {
     "name": "stdout",
     "output_type": "stream",
     "text": [
      "Check models against training data using MAE, RMSE and R2\n",
      "LinearRegression\n",
      "    MAE 0.2264726098812209\n",
      "    RMSE 0.275091963964614\n",
      "    R2 0.1912273251044312\n",
      "KNeighborsRegressor\n",
      "    MAE 0.20509784674946416\n",
      "    RMSE 0.2542188567127043\n",
      "    R2 0.309305202902753\n",
      "--------------------\n",
      "Evaluation the models against test data using MAE, RMSE and R2\n",
      "LinearRegression\n",
      "    MAE 0.21631670558071833\n",
      "    RMSE 0.266783992113127\n",
      "    R2 0.18771249081157426\n",
      "KNeighborsRegressor\n",
      "    MAE 0.2534728563963949\n",
      "    RMSE 0.3154224049526063\n",
      "    R2 -0.1354690957887601\n"
     ]
    }
   ],
   "source": [
    "\n",
    "col_names = ['Age65andAbove', 'White', 'MedicareRate']\n",
    "models = [LinearRegression(), KNeighborsRegressor()]\n",
    "\n",
    "print('Check models against training data using MAE, RMSE and R2')\n",
    "for model in models:\n",
    "    model.fit(X_train[col_names], y_train)\n",
    "    predictions = model.predict(X_train[col_names])\n",
    "    print(type(model).__name__)\n",
    "    print(\"    MAE\", mean_absolute_error(y_train, predictions))\n",
    "    print(\"    RMSE\", np.sqrt(mean_squared_error(y_train, predictions)))\n",
    "    print(\"    R2\", r2_score(y_train, predictions))\n",
    "\n",
    "\n",
    "print('--------------------')\n",
    "print('Evaluation the models against test data using MAE, RMSE and R2')\n",
    "for model in models:\n",
    "    model.fit(X_train[col_names], y_train)\n",
    "    predictions = model.predict(X_test[col_names])\n",
    "    print(type(model).__name__)\n",
    "    print(\"    MAE\", mean_absolute_error(y_test, predictions))\n",
    "    print(\"    RMSE\", np.sqrt(mean_squared_error(y_test, predictions)))\n",
    "    print(\"    R2\", r2_score(y_test, predictions))"
   ]
  },
  {
   "cell_type": "markdown",
   "metadata": {
    "id": "yDOqFqpynfCo"
   },
   "source": [
    "### Model 5"
   ]
  },
  {
   "cell_type": "code",
   "execution_count": 282,
   "metadata": {
    "colab": {
     "base_uri": "https://localhost:8080/"
    },
    "id": "FmvKP8CqFXYy",
    "outputId": "c5e0944a-80ef-4f6e-f2b0-b59961001705"
   },
   "outputs": [
    {
     "name": "stdout",
     "output_type": "stream",
     "text": [
      "Check models against training data using MAE, RMSE and R2\n",
      "LinearRegression\n",
      "    MAE 0.24452392306017684\n",
      "    RMSE 0.29880965356334843\n",
      "    R2 0.04575496263290424\n",
      "KNeighborsRegressor\n",
      "    MAE 0.20603229747470292\n",
      "    RMSE 0.2552308132340202\n",
      "    R2 0.30379542870763654\n",
      "--------------------\n",
      "Evaluation the models against test data using MAE, RMSE and R2\n",
      "LinearRegression\n",
      "    MAE 0.23539544334329005\n",
      "    RMSE 0.2949695717361642\n",
      "    R2 0.007010454053860582\n",
      "KNeighborsRegressor\n",
      "    MAE 0.24918764150934575\n",
      "    RMSE 0.3138920809139422\n",
      "    R2 -0.12447799045414398\n"
     ]
    }
   ],
   "source": [
    "col_names = ['AgeBelow35', 'MalesPer100Females', 'LandArea']\n",
    "models = [LinearRegression(), KNeighborsRegressor()]\n",
    "\n",
    "print('Check models against training data using MAE, RMSE and R2')\n",
    "for model in models:\n",
    "    model.fit(X_train[col_names], y_train)\n",
    "    predictions = model.predict(X_train[col_names])\n",
    "    print(type(model).__name__)\n",
    "    print(\"    MAE\", mean_absolute_error(y_train, predictions))\n",
    "    print(\"    RMSE\", np.sqrt(mean_squared_error(y_train, predictions)))\n",
    "    print(\"    R2\", r2_score(y_train, predictions))\n",
    "\n",
    "\n",
    "print('--------------------')\n",
    "print('Evaluation the models against test data using MAE, RMSE and R2')\n",
    "for model in models:\n",
    "    model.fit(X_train[col_names], y_train)\n",
    "    predictions = model.predict(X_test[col_names])\n",
    "    print(type(model).__name__)\n",
    "    print(\"    MAE\", mean_absolute_error(y_test, predictions))\n",
    "    print(\"    RMSE\", np.sqrt(mean_squared_error(y_test, predictions)))\n",
    "    print(\"    R2\", r2_score(y_test, predictions))"
   ]
  },
  {
   "cell_type": "markdown",
   "metadata": {
    "id": "I3UxHTbuoOex"
   },
   "source": [
    "Model 1 has greater performance as it trained with more different columns."
   ]
  },
  {
   "cell_type": "markdown",
   "metadata": {
    "id": "6nY15IoxDD7o"
   },
   "source": [
    "<hr>\n",
    "\n",
    "# Unsupervised Learning"
   ]
  },
  {
   "cell_type": "markdown",
   "metadata": {
    "id": "r9f6cqolDD7o"
   },
   "source": [
    "## Principal Component Analysis"
   ]
  },
  {
   "cell_type": "code",
   "execution_count": 283,
   "metadata": {
    "colab": {
     "base_uri": "https://localhost:8080/",
     "height": 0
    },
    "id": "GEFVycTGDD7o",
    "outputId": "b8489b20-4049-4aaa-ef3b-e916fa9d529e"
   },
   "outputs": [
    {
     "data": {
      "text/html": [
       "<div>\n",
       "<style scoped>\n",
       "    .dataframe tbody tr th:only-of-type {\n",
       "        vertical-align: middle;\n",
       "    }\n",
       "\n",
       "    .dataframe tbody tr th {\n",
       "        vertical-align: top;\n",
       "    }\n",
       "\n",
       "    .dataframe thead th {\n",
       "        text-align: right;\n",
       "    }\n",
       "</style>\n",
       "<table border=\"1\" class=\"dataframe\">\n",
       "  <thead>\n",
       "    <tr style=\"text-align: right;\">\n",
       "      <th></th>\n",
       "      <th>MalesPer100Females</th>\n",
       "      <th>AgeBelow35</th>\n",
       "      <th>Age35to65</th>\n",
       "      <th>Age65andAbove</th>\n",
       "      <th>White</th>\n",
       "      <th>Black</th>\n",
       "      <th>Asian</th>\n",
       "      <th>AmericanIndian</th>\n",
       "      <th>Hawaiian</th>\n",
       "      <th>Hispanic</th>\n",
       "      <th>HighSchool</th>\n",
       "      <th>Bachelors</th>\n",
       "      <th>Poverty</th>\n",
       "      <th>IncomeAbove75K</th>\n",
       "      <th>MedianIncome</th>\n",
       "      <th>AverageIncome</th>\n",
       "      <th>UnemployRate</th>\n",
       "      <th>ManfEmploy</th>\n",
       "      <th>SpeakingNonEnglish</th>\n",
       "      <th>Medicare</th>\n",
       "      <th>MedicareRate</th>\n",
       "      <th>SocialSecurity</th>\n",
       "      <th>SocialSecurityRate</th>\n",
       "      <th>RetiredWorkers</th>\n",
       "      <th>Disabilities</th>\n",
       "      <th>DisabilitiesRate</th>\n",
       "      <th>Homeowner</th>\n",
       "      <th>SameHouse1995and2000</th>\n",
       "      <th>Pop</th>\n",
       "      <th>PopDensity</th>\n",
       "      <th>LandArea</th>\n",
       "      <th>FarmArea</th>\n",
       "      <th>ObamaMarginPercent</th>\n",
       "    </tr>\n",
       "  </thead>\n",
       "  <tbody>\n",
       "    <tr>\n",
       "      <th>0</th>\n",
       "      <td>96.7</td>\n",
       "      <td>37.7</td>\n",
       "      <td>40.3</td>\n",
       "      <td>21.9</td>\n",
       "      <td>99.2</td>\n",
       "      <td>0.100000</td>\n",
       "      <td>0.5</td>\n",
       "      <td>1.68931</td>\n",
       "      <td>0.0</td>\n",
       "      <td>0.8</td>\n",
       "      <td>87.8</td>\n",
       "      <td>11.2</td>\n",
       "      <td>9.7</td>\n",
       "      <td>8.6</td>\n",
       "      <td>39568.0</td>\n",
       "      <td>29222.0</td>\n",
       "      <td>3.2</td>\n",
       "      <td>12.916739</td>\n",
       "      <td>2.0</td>\n",
       "      <td>1551.0</td>\n",
       "      <td>19735.0</td>\n",
       "      <td>1825.0</td>\n",
       "      <td>23222.0</td>\n",
       "      <td>1230.0</td>\n",
       "      <td>90.0</td>\n",
       "      <td>1145.0</td>\n",
       "      <td>75.0</td>\n",
       "      <td>66.0</td>\n",
       "      <td>7714.0</td>\n",
       "      <td>13.5</td>\n",
       "      <td>570.0</td>\n",
       "      <td>373.0</td>\n",
       "      <td>0.026667</td>\n",
       "    </tr>\n",
       "    <tr>\n",
       "      <th>1</th>\n",
       "      <td>96.8</td>\n",
       "      <td>37.1</td>\n",
       "      <td>40.8</td>\n",
       "      <td>22.1</td>\n",
       "      <td>99.2</td>\n",
       "      <td>9.900215</td>\n",
       "      <td>0.2</td>\n",
       "      <td>0.50000</td>\n",
       "      <td>0.0</td>\n",
       "      <td>0.6</td>\n",
       "      <td>84.5</td>\n",
       "      <td>12.0</td>\n",
       "      <td>10.6</td>\n",
       "      <td>7.8</td>\n",
       "      <td>35296.0</td>\n",
       "      <td>27297.0</td>\n",
       "      <td>4.6</td>\n",
       "      <td>6.964421</td>\n",
       "      <td>1.6</td>\n",
       "      <td>978.0</td>\n",
       "      <td>22936.0</td>\n",
       "      <td>1110.0</td>\n",
       "      <td>26032.0</td>\n",
       "      <td>720.0</td>\n",
       "      <td>78.0</td>\n",
       "      <td>1829.0</td>\n",
       "      <td>74.7</td>\n",
       "      <td>65.4</td>\n",
       "      <td>4192.0</td>\n",
       "      <td>9.9</td>\n",
       "      <td>425.0</td>\n",
       "      <td>238.0</td>\n",
       "      <td>-0.220000</td>\n",
       "    </tr>\n",
       "    <tr>\n",
       "      <th>2</th>\n",
       "      <td>104.5</td>\n",
       "      <td>41.5</td>\n",
       "      <td>40.8</td>\n",
       "      <td>17.7</td>\n",
       "      <td>99.0</td>\n",
       "      <td>0.200000</td>\n",
       "      <td>0.2</td>\n",
       "      <td>0.30000</td>\n",
       "      <td>0.0</td>\n",
       "      <td>6.9</td>\n",
       "      <td>81.4</td>\n",
       "      <td>14.4</td>\n",
       "      <td>10.8</td>\n",
       "      <td>10.7</td>\n",
       "      <td>36822.0</td>\n",
       "      <td>25579.0</td>\n",
       "      <td>4.6</td>\n",
       "      <td>16.473466</td>\n",
       "      <td>8.2</td>\n",
       "      <td>2838.0</td>\n",
       "      <td>19294.0</td>\n",
       "      <td>3270.0</td>\n",
       "      <td>22231.0</td>\n",
       "      <td>2245.0</td>\n",
       "      <td>186.0</td>\n",
       "      <td>1265.0</td>\n",
       "      <td>76.4</td>\n",
       "      <td>64.1</td>\n",
       "      <td>14796.0</td>\n",
       "      <td>23.1</td>\n",
       "      <td>659.0</td>\n",
       "      <td>326.0</td>\n",
       "      <td>0.100000</td>\n",
       "    </tr>\n",
       "  </tbody>\n",
       "</table>\n",
       "</div>"
      ],
      "text/plain": [
       "   MalesPer100Females  AgeBelow35  ...  FarmArea  ObamaMarginPercent\n",
       "0                96.7        37.7  ...     373.0            0.026667\n",
       "1                96.8        37.1  ...     238.0           -0.220000\n",
       "2               104.5        41.5  ...     326.0            0.100000\n",
       "\n",
       "[3 rows x 33 columns]"
      ]
     },
     "execution_count": 283,
     "metadata": {
      "tags": []
     },
     "output_type": "execute_result"
    }
   ],
   "source": [
    "# Let's split the election_data again so that we get all available data\n",
    "X_train = election_data.iloc[:, 4:37]\n",
    "X_train.head(3)"
   ]
  },
  {
   "cell_type": "markdown",
   "metadata": {
    "id": "D9RG7WyQDD7o"
   },
   "source": [
    "## Feature Scaling"
   ]
  },
  {
   "cell_type": "code",
   "execution_count": 284,
   "metadata": {
    "id": "DO6_OM9LDD7o"
   },
   "outputs": [],
   "source": [
    "# feature scaling\n",
    "from sklearn.preprocessing import StandardScaler\n",
    "sc_X = StandardScaler()\n",
    "X_train = sc_X.fit_transform(X_train)\n",
    "#X_test = sc_X.transform(X_test)"
   ]
  },
  {
   "cell_type": "markdown",
   "metadata": {
    "id": "hOGWLBIlDD7o"
   },
   "source": [
    "### Decide on the number of components\n",
    "\n",
    "The number of components in PCA can be decided after checking variance with respect to `no_components`. Let’s see some of common ways of checking the components.\n",
    "\n",
    "### Plot No_components & Variance Graph"
   ]
  },
  {
   "cell_type": "code",
   "execution_count": 285,
   "metadata": {
    "colab": {
     "base_uri": "https://localhost:8080/"
    },
    "id": "S_CbhbTODD7o",
    "outputId": "95f3c3ae-3bea-4920-975e-d8615983f337"
   },
   "outputs": [
    {
     "data": {
      "text/plain": [
       "(1737, 33)"
      ]
     },
     "execution_count": 285,
     "metadata": {
      "tags": []
     },
     "output_type": "execute_result"
    }
   ],
   "source": [
    "import matplotlib.pyplot as plt\n",
    "%matplotlib inline\n",
    "import seaborn as sns\n",
    "from sklearn.decomposition import PCA\n",
    "\n",
    "# number features in original data (= 590)\n",
    "X_train.shape"
   ]
  },
  {
   "cell_type": "code",
   "execution_count": 286,
   "metadata": {
    "colab": {
     "base_uri": "https://localhost:8080/",
     "height": 0
    },
    "id": "Ds7ulXEdDD7o",
    "outputId": "7a9ebce0-4abb-4112-ded5-8c964d45ccc9"
   },
   "outputs": [
    {
     "data": {
      "image/png": "[encoded data removed]",
      "text/plain": [
       "<Figure size 432x288 with 1 Axes>"
      ]
     },
     "metadata": {
      "needs_background": "light",
      "tags": []
     },
     "output_type": "display_data"
    }
   ],
   "source": [
    "pca=PCA()  \n",
    "pca.n_components=33  \n",
    "pca_data=pca.fit_transform(X_train)\n",
    "\n",
    "percentage_var_explained = pca.explained_variance_ratio_  \n",
    "cum_var_explained=np.cumsum(percentage_var_explained) #plot PCA spectrum   \n",
    "\n",
    "plt.figure(1,figsize=(6,4))\n",
    "plt.clf()  \n",
    "plt.plot(cum_var_explained, linewidth=2)  \n",
    "plt.axis('tight')  \n",
    "plt.grid() \n",
    "plt.xlabel('n_components') \n",
    "plt.ylabel('Cumulative_Variance_explained')  \n",
    "plt.show()"
   ]
  },
  {
   "cell_type": "code",
   "execution_count": 287,
   "metadata": {
    "colab": {
     "base_uri": "https://localhost:8080/"
    },
    "id": "01j1mk1aDD7o",
    "outputId": "fddda357-16e2-423e-99c4-37b0fdc4c609"
   },
   "outputs": [
    {
     "name": "stdout",
     "output_type": "stream",
     "text": [
      "When n_components = 0,   variance=25.430000\n",
      "When n_components = 1,   variance=40.870000\n",
      "When n_components = 2,   variance=52.290000\n",
      "When n_components = 3,   variance=61.260000\n",
      "When n_components = 4,   variance=66.390000\n",
      "When n_components = 5,   variance=71.010000\n",
      "When n_components = 6,   variance=75.160000\n",
      "When n_components = 7,   variance=78.400000\n",
      "When n_components = 8,   variance=81.290000\n",
      "When n_components = 9,   variance=83.920000\n",
      "When n_components = 10,   variance=86.080000\n",
      "When n_components = 11,   variance=88.200000\n",
      "When n_components = 12,   variance=89.930000\n",
      "When n_components = 13,   variance=91.630000\n",
      "When n_components = 14,   variance=93.060000\n",
      "When n_components = 15,   variance=94.420000\n",
      "When n_components = 16,   variance=95.540000\n",
      "When n_components = 17,   variance=96.350000\n",
      "When n_components = 18,   variance=97.100000\n",
      "When n_components = 19,   variance=97.780000\n",
      "When n_components = 20,   variance=98.330000\n",
      "When n_components = 21,   variance=98.710000\n",
      "When n_components = 22,   variance=99.080000\n",
      "When n_components = 23,   variance=99.370000\n",
      "When n_components = 24,   variance=99.570000\n",
      "When n_components = 25,   variance=99.730000\n",
      "When n_components = 26,   variance=99.870000\n",
      "When n_components = 27,   variance=99.940000\n",
      "When n_components = 28,   variance=99.980000\n",
      "When n_components = 29,   variance=99.990000\n",
      "When n_components = 30,   variance=100.000000\n",
      "When n_components = 31,   variance=100.000000\n",
      "When n_components = 32,   variance=100.000000\n"
     ]
    }
   ],
   "source": [
    "# look at explainded variance of PCA components \n",
    "exp_var_cumsum = pd.Series(np.round(pca.explained_variance_ratio_.cumsum(),4)*100)  \n",
    "\n",
    "for index, var in enumerate(exp_var_cumsum):  \n",
    "    print('When n_components = %d,   variance=%f' %(index,np.round(var,3)))"
   ]
  },
  {
   "cell_type": "markdown",
   "metadata": {
    "id": "MkLz0YQRDD7p"
   },
   "source": [
    "When n_components = 13,   variance=91.630000\n",
    "\n",
    "From above we can see that n_components=13 explains 91.6% of variance\n",
    "\n",
    "### Passing %Variance as Input parameter to PCA()"
   ]
  },
  {
   "cell_type": "code",
   "execution_count": 288,
   "metadata": {
    "colab": {
     "base_uri": "https://localhost:8080/"
    },
    "id": "h92vxRKeDD7p",
    "outputId": "12196ed4-69f8-414b-8a91-1ab9c57ca07b"
   },
   "outputs": [
    {
     "name": "stdout",
     "output_type": "stream",
     "text": [
      "Number of components to explain 90% Variance is 14\n"
     ]
    }
   ],
   "source": [
    "#Let's say you would like to explain 90% variance  \n",
    "pca=PCA(.90)  \n",
    "pca.fit(X_train)  \n",
    "\n",
    "print('Number of components to explain 90% Variance is', pca.n_components_)"
   ]
  },
  {
   "cell_type": "code",
   "execution_count": 289,
   "metadata": {
    "id": "P1PvXFsgDD7p"
   },
   "outputs": [],
   "source": [
    "# applying PCA\n",
    "from sklearn.decomposition import PCA\n",
    "pca = PCA(n_components = 14)\n",
    "X_train = pca.fit_transform(X_train)\n",
    "#X_test = pca.transform(X_test)\n",
    "explained_variance = pca.explained_variance_ratio_"
   ]
  },
  {
   "cell_type": "code",
   "execution_count": 290,
   "metadata": {
    "colab": {
     "base_uri": "https://localhost:8080/"
    },
    "id": "o6ZQ-VlRDD7p",
    "outputId": "5763a391-c862-4a31-fc82-165f7edb205a"
   },
   "outputs": [
    {
     "name": "stdout",
     "output_type": "stream",
     "text": [
      "Components =  14 ;\n",
      "Total explained variance =  0.91631\n"
     ]
    }
   ],
   "source": [
    "#pca.explained_variance_ratio_\n",
    "#pca.explained_variance_ratio_.cumsum()\n",
    "print(\"Components = \", pca.n_components_ , \n",
    "       \";\\nTotal explained variance = \", round(pca.explained_variance_ratio_.sum(),5)  )"
   ]
  },
  {
   "cell_type": "code",
   "execution_count": 291,
   "metadata": {
    "colab": {
     "base_uri": "https://localhost:8080/"
    },
    "id": "lVpqP6T4DD7p",
    "outputId": "62410c0c-d29f-457c-ada8-ff4d346e33be"
   },
   "outputs": [
    {
     "data": {
      "text/plain": [
       "(1737, 14)"
      ]
     },
     "execution_count": 291,
     "metadata": {
      "tags": []
     },
     "output_type": "execute_result"
    }
   ],
   "source": [
    "X_train.shape"
   ]
  },
  {
   "cell_type": "code",
   "execution_count": 291,
   "metadata": {
    "id": "DhTnB6bvDD7p"
   },
   "outputs": [],
   "source": []
  }
 ],
 "metadata": {
  "colab": {
   "collapsed_sections": [
    "WGVn7K1TDD7h",
    "XxYbZPt-DD7i",
    "L1djnZwlDD7i",
    "5OAyFXT3DD7i",
    "RTpEpBMcDD7n",
    "ueYBNT5wDD7n",
    "AttuWpRTDD7n",
    "3OO55_k8DD7o",
    "r9f6cqolDD7o",
    "D9RG7WyQDD7o",
    "hOGWLBIlDD7o",
    "MkLz0YQRDD7p"
   ],
   "name": "css429_case2_Team7.ipynb",
   "provenance": []
  },
  "kernelspec": {
   "display_name": "Python 3",
   "language": "python",
   "name": "python3"
  },
  "language_info": {
   "codemirror_mode": {
    "name": "ipython",
    "version": 3
   },
   "file_extension": ".py",
   "mimetype": "text/x-python",
   "name": "python",
   "nbconvert_exporter": "python",
   "pygments_lexer": "ipython3",
   "version": "3.9.0"
  }
 },
 "nbformat": 4,
 "nbformat_minor": 1
}
